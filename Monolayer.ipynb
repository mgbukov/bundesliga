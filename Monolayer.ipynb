{
 "cells": [
  {
   "cell_type": "code",
   "execution_count": 59,
   "metadata": {
    "collapsed": false
   },
   "outputs": [],
   "source": [
    "import tensorflow as tf\n",
    "import numpy as np\n",
    "import matplotlib.pylab as plt\n",
    "import re\n",
    "\n",
    "import pandas as pd\n",
    "\n",
    "\n",
    "\n",
    "# read off data\n",
    "# Correction: Don't use index_col=0 as index, but let pandas index the table.\n",
    "# Otherwise, we'll end up with season identifiers as indices, which are degenerate.\n",
    "# Now the index is a list of integers from 0 to len(data)-1.\n",
    "Data = pd.read_csv('Bundesliga_Data_2006_2016.csv')\n",
    "\n",
    "# Unless you want to impose a certain structure on your data, e.g. specific columns to be read\n",
    "# and nothing else, you don't have to initialize your DataFrames like this.\n",
    "# create features data frame\n",
    "# Feats=pd.DataFrame(index=Data.index, columns=[])\n",
    "# Train=pd.DataFrame(index=Data.index, columns=[])\n",
    "# Bets =pd.DataFrame(index=Data.index, columns=[])\n",
    "\n"
   ]
  },
  {
   "cell_type": "code",
   "execution_count": 60,
   "metadata": {
    "collapsed": false
   },
   "outputs": [
    {
     "name": "stdout",
     "output_type": "stream",
     "text": [
      "[[ 0.  1.  0.]\n",
      " [ 0.  0.  1.]\n",
      " [ 0.  0.  1.]\n",
      " ..., \n",
      " [ 0.  0.  1.]\n",
      " [ 0.  1.  0.]\n",
      " [ 0.  1.  0.]]\n"
     ]
    }
   ],
   "source": [
    "# Make life a little easier:\n",
    "# Feats is the Data table, dropping Season, TID_H/A, filtering out the B365 columns, and replacing the A,D,H labels with numbers.\n",
    "Feats = Data.drop(['Season', 'TID_H', 'TID_A'], axis=1).filter(regex='^(?!B365)', axis=1).replace(to_replace=['A','D','H'], value=[1.0,0.5,0.0])\n",
    "\n",
    "# Now, normalize by applying the max-function to every column.\n",
    "Feats = Feats/Feats.apply(max)\n",
    "\n",
    "Feats.to_csv('Feats.csv')\n",
    "\n",
    "# FTHG/AG: use goal difference as a classifier\n",
    "# .loc notation is more robust less ambiguous than []\n",
    "# The latter can give warnings because it's not clear if we create a view/copy/etc.\n",
    "Train.loc[:,'FGD'] = Data.loc[:,'FTHG']-Data.loc[:,'FTAG']\n",
    "\n",
    "min_GD=int(min(Train['FGD']))\n",
    "# Pandas notation:\n",
    "# min_GD = Train.loc[:,'FGD'].min().astype(int)\n",
    "\n",
    "Id = np.eye(max_GD-min_GD)\n",
    "Train_GD = np.array([Id[int(i)+min_GD,:] for i in Train['FGD'] ])\n",
    "\n",
    "# FTR: use result as classifier\n",
    "Train['FTR']=Data['FTR'].replace(to_replace=['H','D','A'], value=[0,1,2])\n",
    "Id = np.eye(3)\n",
    "Train_R = np.array([Id[i-1,:] for i in Train['FTR'] ])\n",
    "\n",
    "print Train_R\n"
   ]
  },
  {
   "cell_type": "code",
   "execution_count": 57,
   "metadata": {
    "collapsed": false
   },
   "outputs": [
    {
     "name": "stdout",
     "output_type": "stream",
     "text": [
      "[[ 0.  1.  0.]\n",
      " [ 0.  0.  1.]\n",
      " [ 0.  0.  1.]\n",
      " ..., \n",
      " [ 0.  0.  1.]\n",
      " [ 0.  1.  0.]\n",
      " [ 0.  0.  1.]]\n"
     ]
    }
   ],
   "source": [
    "# ignore season-season correlations [drop year of game], but keep in-season correlations\n",
    "\n",
    "# turn coeffs B365 into probabilities by L1-normalising vector [B365H,B365D,B365A]\n",
    "norm_bets=np.sum(Data[['B365H','B365D','B365A']],axis=1)\n",
    "Bets['B365H']= Data['B365H']/norm_bets\n",
    "Bets['B365D']= Data['B365D']/norm_bets\n",
    "Bets['B365A']= Data['B365A']/norm_bets\n",
    "\n",
    "### normalise data wrt:\n",
    "\n",
    "# Gameday: games in a season\n",
    "Feats['Gameday']=Data['Gameday']/Data['Gameday'].max()\n",
    "# TID_H/A: drop (for now), normalise wrt all seasons\n",
    "# TID_H/A is the identifier of the team.\n",
    "Feats['TID_H']=Data['TID_H']/max(Data['TID_H'])\n",
    "Feats['TID_A']=Data['TID_A']/max(Data['TID_A'])\n",
    "# HTHG/AG: normalise wrt all-time max\n",
    "Feats['HTHG']=Data['HTHG']/max(Data['HTHG'])\n",
    "Feats['HTAG']=Data['HTAG']/max(Data['HTAG'])\n",
    "# HTR: make binary\n",
    "Feats['HTR']=Data['HTR'].replace(to_replace=['A','D','H'], value=[1.0,0.5,0.0])\n",
    "# H/AS: normalise all time\n",
    "Feats['HS']=Data['HS']/Data['HS'].max()\n",
    "Feats['AS']=Data['AS']/Data['AS'].max()\n",
    "# H/AST: give as percentage from normalised H/AS\n",
    "Feats['HST']=Data['HST']/Data['HS']\n",
    "Feats['AST']=Data['AST']/Data['AS']\n",
    "# H/AF: normalise all time\n",
    "Feats['HF']=Data['HF']/Data['HF'].max()\n",
    "Feats['AF']=Data['AF']/Data['AF'].max()\n",
    "# H/AC: normalise all time\n",
    "Feats['HC']=Data['HC']/Data['HC'].max()\n",
    "Feats['AC']=Data['AC']/Data['AC'].max()\n",
    "# H/AY, H/AR: normalise all time\n",
    "Feats['HY']=Data['HY']/Data['HY'].max()\n",
    "Feats['AY']=Data['AY']/Data['AY'].max()\n",
    "Feats['HR']=Data['HR']/Data['HR'].max()\n",
    "Feats['AR']=Data['AR']/Data['AR'].max()\n",
    "\n",
    "# FTHG/AG: use goal difference as a classifier\n",
    "Train['FGD']=Data['FTHG']-Data['FTAG']\n",
    "min_GD=int(min(Train['FGD']))\n",
    "max_GD=int(max(Train['FGD']))\n",
    "Id = np.eye(max_GD-min_GD)\n",
    "Train_GD = np.array([Id[int(i)+min_GD,:] for i in Train['FGD'] ])\n",
    "\n",
    "\n",
    "# FTR: use result as classifier\n",
    "Train['FTR']=Data['FTR'].replace(to_replace=['H','D','A'], value=[0,1,2])\n",
    "Id = np.eye(3)\n",
    "Train_R = np.array([Id[i-1,:] for i in Train['FTR'] ])\n",
    "\n",
    "print Train_R"
   ]
  },
  {
   "cell_type": "code",
   "execution_count": null,
   "metadata": {
    "collapsed": true
   },
   "outputs": [],
   "source": []
  }
 ],
 "metadata": {
  "anaconda-cloud": {},
  "kernelspec": {
   "display_name": "Python [Root]",
   "language": "python",
   "name": "Python [Root]"
  },
  "language_info": {
   "codemirror_mode": {
    "name": "ipython",
    "version": 2
   },
   "file_extension": ".py",
   "mimetype": "text/x-python",
   "name": "python",
   "nbconvert_exporter": "python",
   "pygments_lexer": "ipython2",
   "version": "2.7.12"
  }
 },
 "nbformat": 4,
 "nbformat_minor": 0
}
