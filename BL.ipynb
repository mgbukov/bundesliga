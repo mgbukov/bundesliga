{
 "cells": [
  {
   "cell_type": "markdown",
   "metadata": {},
   "source": [
    "# Artificial Neural Bundesliga Prediction Nets\n",
    "\n",
    "## Goals of the Project\n",
    "\n",
    "This project presents an attempt to quantify the predictability of the Bundesliga football games based on the information contained in game statistics starting from season 2006/07 onwards. In particular,\n",
    "\n",
    "* we use an artificial deep neural network to examine the correlations between different features provided from the statistics of individual games.\n",
    "* we ask the question: \"to what accuracy can one determine the outcome and score of any Bundesliga game, given the statistics of games from a number of previous seasons?\".\n",
    "* we compare the predictions of our model on the Bundesliga season 2016/17 up to the present matchday. We also make a prediction for the final Bundesliga table for season 2016/17.\n",
    "\n",
    "Studying the predictive power of football statistics on the outcome of games is an interesting and challenging problem of general importance both to sports, and the development of a proper intuition about the inner workings and applicability of machine learning algorithms to sport events. The difficulty of the problem is enhanced by the occurence of physical outlier events in the data, for example a team performing better in a given game but nevertheless losing to their opponent 'misfortunately' or due to 'bad luck'. Such events, although they must be accounted for by the complete realistic model, can easily be recognised as noise or bias by the neural network leading to an increase in both the in-sample and out-of-sample errors. "
   ]
  },
  {
   "cell_type": "markdown",
   "metadata": {},
   "source": [
    "## Data and Features\n",
    "\n",
    "We use a manually developed football games dataset, collected from data provided at football-data.co.uk and kicker.de. We then modified those sets introducing some new features as combinations of the existing ones, while at the same time dropping others which we considered to be less relevant."
   ]
  },
  {
   "cell_type": "code",
   "execution_count": 1,
   "metadata": {
    "collapsed": false,
    "scrolled": true
   },
   "outputs": [
    {
     "name": "stderr",
     "output_type": "stream",
     "text": [
      "Using TensorFlow backend.\n"
     ]
    },
    {
     "name": "stdout",
     "output_type": "stream",
     "text": [
      "Reshape successful\n",
      "['HTGD' 'FTHG' 'HTHG' 'HGA' 'AGA' 'Attendance' 'ChancesA' 'ChancesH' 'HS'\n",
      " 'AS' 'HST' 'AST' 'HF' 'AF' 'HC' 'AC' 'HY' 'AY' 'HR' 'AR' 'HP3' 'AP3'\n",
      " 'Interval_H' 'Interval_A' 'Interval_D']\n"
     ]
    }
   ],
   "source": [
    "from keras.models import Sequential\n",
    "from keras.layers import Dense, Activation, Dropout\n",
    "from keras.wrappers.scikit_learn import KerasClassifier\n",
    "from keras.utils import np_utils\n",
    "\n",
    "import sklearn\n",
    "from sklearn.preprocessing import LabelEncoder\n",
    "from sklearn.pipeline import Pipeline\n",
    "\n",
    "import pandas as pd\n",
    "import numpy as np\n",
    "\n",
    "from sklearn.model_selection import cross_val_score\n",
    "from sklearn.model_selection import KFold\n",
    "\n",
    "from matplotlib import pyplot as plt\n",
    "%matplotlib inline\n",
    "\n",
    "import seaborn as sns\n",
    "sns.set(color_codes=True)\n",
    "\n",
    "##########################################################\n",
    "\n",
    "# load data\n",
    "feats_import = pd.read_csv('All_Data_2006_2016.csv')\n",
    "try:\n",
    "    feats_import = feats_import.drop(['Unnamed: 0'], axis=1)\n",
    "    print \"Reshape successful\"\n",
    "except:\n",
    "    print \"Successful import\"\n",
    "    \n",
    "# Set a cutoff for the goal differential: \n",
    "# All wins/losses with more than 3 goals difference are counted as wins/losses with goal differential of 3\n",
    "cutoff_GD = 3\n",
    "GD_min = -cutoff_GD\n",
    "GD_max = +cutoff_GD\n",
    "GD_spread = GD_max-GD_min + 1\n",
    "\n",
    "# Import features and drop data which are not relevant or too specific, like teams playing. \n",
    "feats = feats_import.drop(['Season', 'Gameday', u'Link', u'TID_H', u'TID_A', u'TName_H', u'TName_A', 'Odds'], axis=1).drop('FTGD', axis=1)\n",
    "feats.loc[:, 'HTGD'] = feats_import.loc[:, 'HTGD'].apply(min, args=(cutoff_GD,)).apply(max, args=(-cutoff_GD,)) + cutoff_GD\n",
    "\n",
    "# Each data point is represented as a vector containing the following features:\n",
    "print feats.columns.values"
   ]
  },
  {
   "cell_type": "markdown",
   "metadata": {},
   "source": [
    "|  feature name | meaning |  feature name | meaning |  \n",
    "|---|---|---|---|---|---|\n",
    "|HTGD|half-time goal differential|HTHG|half-time home goals|\n",
    "|FTHG|full-time home goals|Attendance|Attendance in stadium, normalized to home team's maximum of that season|\n",
    "|HGA|home team grade avgerage|AGA|away team grade avgerage|\n",
    "|ChancesH|home team scoring opportunities|ChancesA|away team scoring opportunities|\n",
    "|HS|home team shots|AS|away team shots|\n",
    "|HST|home team shots on target|AST|away team shots on target|\n",
    "|HF|home team fouls committed|AF|away team fouls committed|\n",
    "|HC|home team corner kicks|AC|away teams corner kicks|\n",
    "|HY|home teams yellow cards|AY|away teams yellow cards|\n",
    "|HR|home team red cards|AR|away team red cards|\n",
    "|HP3|home team points in last 3 games|AP3|away team points in last 3 games|\n",
    "|Interval_W|fraction of 90 minutes winning team was in the lead</span>|Interval_L|fraction of 90 minutes losing team was in the lead|\n",
    "|Interval_D|fraction of 90 minutes match was in a tie||||\n"
   ]
  },
  {
   "cell_type": "markdown",
   "metadata": {},
   "source": [
    "Last, each feature from the data was normalised to unity with respect to all games in the data set, unless otherwise stated.\n",
    "\n",
    "To acquire a better understanding of the data used to train the deep neural net, below we show histrograms of selected interesting features, that are often used by the experts to intuitively estimate and argue for the outcome of a particular fixture:"
   ]
  },
  {
   "cell_type": "code",
   "execution_count": 2,
   "metadata": {
    "collapsed": false,
    "scrolled": false
   },
   "outputs": [
    {
     "data": {
      "text/plain": [
       "<matplotlib.axes._subplots.AxesSubplot at 0x102801210>"
      ]
     },
     "execution_count": 2,
     "metadata": {},
     "output_type": "execute_result"
    },
    {
     "data": {
      "image/png": "[encoded data removed]",
      "text/plain": [
       "<matplotlib.figure.Figure at 0x1027f94d0>"
      ]
     },
     "metadata": {},
     "output_type": "display_data"
    }
   ],
   "source": [
    "sns.distplot(feats.loc[:,'Attendance'],bins=30,norm_hist=True,kde=False,hist_kws={\"color\":\"g\",'alpha':1.0})"
   ]
  },
  {
   "cell_type": "code",
   "execution_count": 12,
   "metadata": {
    "collapsed": false
   },
   "outputs": [
    {
     "data": {
      "text/plain": [
       "0.0"
      ]
     },
     "execution_count": 12,
     "metadata": {},
     "output_type": "execute_result"
    }
   ],
   "source": [
    "feats.loc[:, 'AS'].min()"
   ]
  },
  {
   "cell_type": "code",
   "execution_count": 15,
   "metadata": {
    "collapsed": false,
    "scrolled": true
   },
   "outputs": [
    {
     "data": {
      "image/png": "[encoded data removed]",
      "text/plain": [
       "<matplotlib.figure.Figure at 0x11a5e4090>"
      ]
     },
     "metadata": {},
     "output_type": "display_data"
    }
   ],
   "source": [
    "dp = sns.distplot(feats.loc[:, 'HS'],\n",
    "                  bins=36, axlabel=False,\n",
    "                  kde_kws={'label':'HS',\"linewidth\": 2,\"color\": \"b\"},\n",
    "                  hist_kws={\"color\": \"b\"})\n",
    "dp.set(xlim=(0, 40))\n",
    "\n",
    "dp = sns.distplot(feats.loc[:, 'AS'],\n",
    "                  bins=34, axlabel=False,\n",
    "                  kde_kws={'label':'AS',\"linewidth\": 2,\"color\": \"r\"},\n",
    "                  hist_kws={\"color\": \"r\"})"
   ]
  },
  {
   "cell_type": "markdown",
   "metadata": {},
   "source": [
    "### Training and Test Datasets\n",
    "\n",
    "Using the data points discussed above, we now put together a training and a test data set as follows: "
   ]
  },
  {
   "cell_type": "code",
   "execution_count": 2,
   "metadata": {
    "collapsed": false
   },
   "outputs": [
    {
     "data": {
      "text/html": [
       "<div>\n",
       "<table border=\"1\" class=\"dataframe\">\n",
       "  <thead>\n",
       "    <tr style=\"text-align: right;\">\n",
       "      <th></th>\n",
       "      <th>HTGD</th>\n",
       "      <th>FTHG</th>\n",
       "      <th>HTHG</th>\n",
       "      <th>HGA</th>\n",
       "      <th>AGA</th>\n",
       "      <th>Attendance</th>\n",
       "      <th>ChancesA</th>\n",
       "      <th>ChancesH</th>\n",
       "      <th>HS</th>\n",
       "      <th>AS</th>\n",
       "      <th>...</th>\n",
       "      <th>AC</th>\n",
       "      <th>HY</th>\n",
       "      <th>AY</th>\n",
       "      <th>HR</th>\n",
       "      <th>AR</th>\n",
       "      <th>HP3</th>\n",
       "      <th>AP3</th>\n",
       "      <th>Interval_H</th>\n",
       "      <th>Interval_A</th>\n",
       "      <th>Interval_D</th>\n",
       "    </tr>\n",
       "  </thead>\n",
       "  <tbody>\n",
       "    <tr>\n",
       "      <th>0</th>\n",
       "      <td>4.0</td>\n",
       "      <td>2.0</td>\n",
       "      <td>1.0</td>\n",
       "      <td>0.654545</td>\n",
       "      <td>0.654545</td>\n",
       "      <td>1.000000</td>\n",
       "      <td>7</td>\n",
       "      <td>7</td>\n",
       "      <td>12.0</td>\n",
       "      <td>16.0</td>\n",
       "      <td>...</td>\n",
       "      <td>4.0</td>\n",
       "      <td>1.0</td>\n",
       "      <td>2.0</td>\n",
       "      <td>0.0</td>\n",
       "      <td>0.0</td>\n",
       "      <td>0.5</td>\n",
       "      <td>0.5</td>\n",
       "      <td>0.733333</td>\n",
       "      <td>0.000000</td>\n",
       "      <td>0.266667</td>\n",
       "    </tr>\n",
       "    <tr>\n",
       "      <th>1</th>\n",
       "      <td>2.0</td>\n",
       "      <td>1.0</td>\n",
       "      <td>0.0</td>\n",
       "      <td>0.363636</td>\n",
       "      <td>0.363636</td>\n",
       "      <td>0.914316</td>\n",
       "      <td>4</td>\n",
       "      <td>9</td>\n",
       "      <td>26.0</td>\n",
       "      <td>10.0</td>\n",
       "      <td>...</td>\n",
       "      <td>2.0</td>\n",
       "      <td>3.0</td>\n",
       "      <td>2.0</td>\n",
       "      <td>0.0</td>\n",
       "      <td>0.0</td>\n",
       "      <td>0.5</td>\n",
       "      <td>0.5</td>\n",
       "      <td>0.000000</td>\n",
       "      <td>0.388889</td>\n",
       "      <td>0.611111</td>\n",
       "    </tr>\n",
       "    <tr>\n",
       "      <th>2</th>\n",
       "      <td>5.0</td>\n",
       "      <td>3.0</td>\n",
       "      <td>2.0</td>\n",
       "      <td>0.654545</td>\n",
       "      <td>0.654545</td>\n",
       "      <td>1.000000</td>\n",
       "      <td>0</td>\n",
       "      <td>10</td>\n",
       "      <td>20.0</td>\n",
       "      <td>8.0</td>\n",
       "      <td>...</td>\n",
       "      <td>1.0</td>\n",
       "      <td>3.0</td>\n",
       "      <td>0.0</td>\n",
       "      <td>1.0</td>\n",
       "      <td>1.0</td>\n",
       "      <td>0.5</td>\n",
       "      <td>0.5</td>\n",
       "      <td>0.644444</td>\n",
       "      <td>0.000000</td>\n",
       "      <td>0.355556</td>\n",
       "    </tr>\n",
       "    <tr>\n",
       "      <th>3</th>\n",
       "      <td>4.0</td>\n",
       "      <td>2.0</td>\n",
       "      <td>1.0</td>\n",
       "      <td>0.527273</td>\n",
       "      <td>0.527273</td>\n",
       "      <td>0.985222</td>\n",
       "      <td>5</td>\n",
       "      <td>5</td>\n",
       "      <td>11.0</td>\n",
       "      <td>19.0</td>\n",
       "      <td>...</td>\n",
       "      <td>8.0</td>\n",
       "      <td>2.0</td>\n",
       "      <td>3.0</td>\n",
       "      <td>0.0</td>\n",
       "      <td>0.0</td>\n",
       "      <td>0.5</td>\n",
       "      <td>0.5</td>\n",
       "      <td>0.677778</td>\n",
       "      <td>0.000000</td>\n",
       "      <td>0.322222</td>\n",
       "    </tr>\n",
       "    <tr>\n",
       "      <th>4</th>\n",
       "      <td>3.0</td>\n",
       "      <td>2.0</td>\n",
       "      <td>0.0</td>\n",
       "      <td>0.545455</td>\n",
       "      <td>0.545455</td>\n",
       "      <td>0.881092</td>\n",
       "      <td>6</td>\n",
       "      <td>6</td>\n",
       "      <td>13.0</td>\n",
       "      <td>11.0</td>\n",
       "      <td>...</td>\n",
       "      <td>5.0</td>\n",
       "      <td>0.0</td>\n",
       "      <td>4.0</td>\n",
       "      <td>0.0</td>\n",
       "      <td>1.0</td>\n",
       "      <td>0.5</td>\n",
       "      <td>0.5</td>\n",
       "      <td>0.433333</td>\n",
       "      <td>0.000000</td>\n",
       "      <td>0.566667</td>\n",
       "    </tr>\n",
       "  </tbody>\n",
       "</table>\n",
       "<p>5 rows × 25 columns</p>\n",
       "</div>"
      ],
      "text/plain": [
       "   HTGD  FTHG  HTHG       HGA       AGA  Attendance  ChancesA  ChancesH    HS  \\\n",
       "0   4.0   2.0   1.0  0.654545  0.654545    1.000000         7         7  12.0   \n",
       "1   2.0   1.0   0.0  0.363636  0.363636    0.914316         4         9  26.0   \n",
       "2   5.0   3.0   2.0  0.654545  0.654545    1.000000         0        10  20.0   \n",
       "3   4.0   2.0   1.0  0.527273  0.527273    0.985222         5         5  11.0   \n",
       "4   3.0   2.0   0.0  0.545455  0.545455    0.881092         6         6  13.0   \n",
       "\n",
       "     AS     ...       AC   HY   AY   HR   AR  HP3  AP3  Interval_H  \\\n",
       "0  16.0     ...      4.0  1.0  2.0  0.0  0.0  0.5  0.5    0.733333   \n",
       "1  10.0     ...      2.0  3.0  2.0  0.0  0.0  0.5  0.5    0.000000   \n",
       "2   8.0     ...      1.0  3.0  0.0  1.0  1.0  0.5  0.5    0.644444   \n",
       "3  19.0     ...      8.0  2.0  3.0  0.0  0.0  0.5  0.5    0.677778   \n",
       "4  11.0     ...      5.0  0.0  4.0  0.0  1.0  0.5  0.5    0.433333   \n",
       "\n",
       "   Interval_A  Interval_D  \n",
       "0    0.000000    0.266667  \n",
       "1    0.388889    0.611111  \n",
       "2    0.000000    0.355556  \n",
       "3    0.000000    0.322222  \n",
       "4    0.000000    0.566667  \n",
       "\n",
       "[5 rows x 25 columns]"
      ]
     },
     "execution_count": 2,
     "metadata": {},
     "output_type": "execute_result"
    }
   ],
   "source": [
    "# Overview over the data set\n",
    "feats.head()"
   ]
  },
  {
   "cell_type": "code",
   "execution_count": 3,
   "metadata": {
    "collapsed": true
   },
   "outputs": [],
   "source": [
    "# Normalize the data set to values between 0 and 1\n",
    "norm = [GD_spread-1, 9, 5, 1, 1, 1, 22, 22, 36, 36, 36, 33, 35, 35, 20, 20, 11, 11, 4, 4, 1, 1, 1, 1, 1]\n",
    "feats = feats/norm\n",
    "\n",
    "# Identify the point where season 2015/16 ends and thus the most recent season begins\n",
    "season15_end = feats_import[feats_import['Season']==2016].index[0]\n",
    "\n",
    "# Create the labels for the goal differentials between -cutoff_GD and +cutoff_GD\n",
    "label = feats_import.loc[:, 'FTGD'].apply(min, args=(cutoff_GD,)).apply(max, args=(-cutoff_GD,)) + cutoff_GD\n",
    "\n",
    "# Create a set of vectors which serve as the goal differential identifier\n",
    "ID = np.eye(GD_spread)\n",
    "\n",
    "# Bring X and y into numpy format\n",
    "X = feats.iloc[:season15_end].as_matrix()\n",
    "y_pre = map(int, label.iloc[:season15_end].as_matrix())\n",
    "y = np.array([ID[i] for i in y_pre])"
   ]
  },
  {
   "cell_type": "markdown",
   "metadata": {},
   "source": [
    "## Model: Deep Neural Network\n",
    "\n",
    "Our model is a deep relu neural net with the following architecture (consider putting table horizontally?):\n",
    "\n",
    "|layer|number of relu neurons\n",
    "|---|---|\n",
    "|input | 25 |\n",
    "|hidden 1| 50 |\n",
    "|hidden 2| 500|\n",
    "|hidden 3| 500|\n",
    "|hidden 4| 50|\n",
    "|output softmax|7| \n",
    "\n",
    "We train with minibatches using the ```adam``` optimiser, and minimise the categorical entropy function. Additionally, we apply ```dropout``` regularisation before hidden layer 2 and after hidden layer 4."
   ]
  },
  {
   "cell_type": "code",
   "execution_count": 13,
   "metadata": {
    "collapsed": false
   },
   "outputs": [],
   "source": [
    "### set up the deep neural net with Keras\n",
    "dropout_p = 0.3\n",
    "# initiate model\n",
    "model = Sequential()\n",
    "# add weights input_layer--hidden_layer 1\n",
    "model.add(Dense(50, input_dim=len(X[0]), init='lecun_uniform', activation='relu')) \n",
    "# dropout layer 1\n",
    "model.add(Dropout(dropout_p))\n",
    "# add hidden layer 2\n",
    "model.add(Dense(500, activation='relu'))\n",
    "# add hidden layer 3\n",
    "model.add(Dense(200, activation='relu'))\n",
    "# add hidden layer 4\n",
    "model.add(Dense(50, activation='relu'))\n",
    "# dropout layer 2\n",
    "model.add(Dropout(dropout_p))\n",
    "# output layer\n",
    "model.add(Dense(2*cutoff_GD+1, activation='relu'))\n",
    "model.add(Activation('softmax'))\n",
    "### compile model\n",
    "model.compile(optimizer='adam',loss='categorical_crossentropy',metrics=['accuracy'])"
   ]
  },
  {
   "cell_type": "markdown",
   "metadata": {},
   "source": [
    "We train the model on the training data with $100$ epochs and a mini-batch size of $10$. <br>\n",
    "Since we use a softmax activation, the neural network outputs probabilities for the different outcomes of goal differentials."
   ]
  },
  {
   "cell_type": "code",
   "execution_count": 5,
   "metadata": {
    "collapsed": false
   },
   "outputs": [
    {
     "name": "stdout",
     "output_type": "stream",
     "text": [
      "0.758169933569\n",
      "2976/3060 [============================>.] - ETA: 0s"
     ]
    }
   ],
   "source": [
    "model.fit(X, y, nb_epoch=100, batch_size=10, verbose=False)\n",
    "print model.evaluate(X, y, batch_size=10, verbose=False)[1]\n",
    "\n",
    "predictions = model.predict_proba(X)"
   ]
  },
  {
   "cell_type": "markdown",
   "metadata": {},
   "source": [
    "The ```model.evaluate()``` function tests the accuracy to which the network has learned to recognize the results of a match just by the stats of given game. <br> \n",
    "We achieve $\\approx 70\\%$ accuracy. This result can be improved considerably by considering a smaller cutoff goal differential. In the extreme case of a goal differential cutoff of 1, the artificial neural network only tries to learn the winner and loser or if there was a draw.\n",
    "\n",
    "We use the probabilities for the result to calculate the expected score via the function ```exp_score()```:"
   ]
  },
  {
   "cell_type": "code",
   "execution_count": 14,
   "metadata": {
    "collapsed": false,
    "scrolled": true
   },
   "outputs": [
    {
     "name": "stdout",
     "output_type": "stream",
     "text": [
      "Success identifying H, D, A is 92.94 percent\n"
     ]
    },
    {
     "data": {
      "text/html": [
       "<div>\n",
       "<table border=\"1\" class=\"dataframe\">\n",
       "  <thead>\n",
       "    <tr style=\"text-align: right;\">\n",
       "      <th>EXP</th>\n",
       "      <th>-1.0</th>\n",
       "      <th>0.0</th>\n",
       "      <th>1.0</th>\n",
       "    </tr>\n",
       "    <tr>\n",
       "      <th>FTGD</th>\n",
       "      <th></th>\n",
       "      <th></th>\n",
       "      <th></th>\n",
       "    </tr>\n",
       "  </thead>\n",
       "  <tbody>\n",
       "    <tr>\n",
       "      <th>-1.0</th>\n",
       "      <td>849</td>\n",
       "      <td>72</td>\n",
       "      <td>1</td>\n",
       "    </tr>\n",
       "    <tr>\n",
       "      <th>0.0</th>\n",
       "      <td>24</td>\n",
       "      <td>647</td>\n",
       "      <td>83</td>\n",
       "    </tr>\n",
       "    <tr>\n",
       "      <th>1.0</th>\n",
       "      <td>0</td>\n",
       "      <td>36</td>\n",
       "      <td>1348</td>\n",
       "    </tr>\n",
       "  </tbody>\n",
       "</table>\n",
       "</div>"
      ],
      "text/plain": [
       "EXP   -1.0   0.0   1.0\n",
       "FTGD                  \n",
       "-1.0   849    72     1\n",
       " 0.0    24   647    83\n",
       " 1.0     0    36  1348"
      ]
     },
     "execution_count": 14,
     "metadata": {},
     "output_type": "execute_result"
    }
   ],
   "source": [
    "# assign an expected score with probabilities\n",
    "def exp_score(x):\n",
    "    multiplier = np.array(range(-cutoff_GD, cutoff_GD+1))\n",
    "    return np.sum(np.array(x) * multiplier)\n",
    "\n",
    "# cross-tabulation for away-win (-1), draw (0) or home-win (1)\n",
    "performance_df = pd.concat([\n",
    "        label.iloc[:season15_end] + GD_min,\n",
    "        pd.Series(data=map(np.round, map(exp_score, predictions)), name='EXP', index=label.iloc[:season15_end].index)], axis=1)\n",
    "\n",
    "success_res_df = pd.crosstab(performance_df.loc[:, \"FTGD\"].apply(np.sign), performance_df.loc[:, \"EXP\"].apply(np.sign))\n",
    "print \"Success identifying H, D, A is \" + str(round(100. * np.trace(success_res_df)/season15_end,2)) + \" percent\"\n",
    "success_res_df"
   ]
  },
  {
   "cell_type": "markdown",
   "metadata": {},
   "source": [
    "As we can see, the expected result for ```win```, ```draw```, ```loss``` correctly classifies the outcome of the game in $\\approx 92\\%$ of the data set."
   ]
  },
  {
   "cell_type": "code",
   "execution_count": 15,
   "metadata": {
    "collapsed": false
   },
   "outputs": [
    {
     "name": "stdout",
     "output_type": "stream",
     "text": [
      "Success identifying GD is 74.38 percent\n"
     ]
    },
    {
     "data": {
      "text/html": [
       "<div>\n",
       "<table border=\"1\" class=\"dataframe\">\n",
       "  <thead>\n",
       "    <tr style=\"text-align: right;\">\n",
       "      <th>EXP</th>\n",
       "      <th>-3.0</th>\n",
       "      <th>-2.0</th>\n",
       "      <th>-1.0</th>\n",
       "      <th>-0.0</th>\n",
       "      <th>1.0</th>\n",
       "      <th>2.0</th>\n",
       "      <th>3.0</th>\n",
       "    </tr>\n",
       "    <tr>\n",
       "      <th>FTGD</th>\n",
       "      <th></th>\n",
       "      <th></th>\n",
       "      <th></th>\n",
       "      <th></th>\n",
       "      <th></th>\n",
       "      <th></th>\n",
       "      <th></th>\n",
       "    </tr>\n",
       "  </thead>\n",
       "  <tbody>\n",
       "    <tr>\n",
       "      <th>-3.0</th>\n",
       "      <td>50</td>\n",
       "      <td>120</td>\n",
       "      <td>8</td>\n",
       "      <td>0</td>\n",
       "      <td>0</td>\n",
       "      <td>0</td>\n",
       "      <td>0</td>\n",
       "    </tr>\n",
       "    <tr>\n",
       "      <th>-2.0</th>\n",
       "      <td>0</td>\n",
       "      <td>157</td>\n",
       "      <td>117</td>\n",
       "      <td>2</td>\n",
       "      <td>0</td>\n",
       "      <td>0</td>\n",
       "      <td>0</td>\n",
       "    </tr>\n",
       "    <tr>\n",
       "      <th>-1.0</th>\n",
       "      <td>0</td>\n",
       "      <td>74</td>\n",
       "      <td>323</td>\n",
       "      <td>70</td>\n",
       "      <td>1</td>\n",
       "      <td>0</td>\n",
       "      <td>0</td>\n",
       "    </tr>\n",
       "    <tr>\n",
       "      <th>0.0</th>\n",
       "      <td>0</td>\n",
       "      <td>0</td>\n",
       "      <td>24</td>\n",
       "      <td>647</td>\n",
       "      <td>81</td>\n",
       "      <td>2</td>\n",
       "      <td>0</td>\n",
       "    </tr>\n",
       "    <tr>\n",
       "      <th>1.0</th>\n",
       "      <td>0</td>\n",
       "      <td>0</td>\n",
       "      <td>0</td>\n",
       "      <td>36</td>\n",
       "      <td>512</td>\n",
       "      <td>64</td>\n",
       "      <td>0</td>\n",
       "    </tr>\n",
       "    <tr>\n",
       "      <th>2.0</th>\n",
       "      <td>0</td>\n",
       "      <td>0</td>\n",
       "      <td>0</td>\n",
       "      <td>0</td>\n",
       "      <td>84</td>\n",
       "      <td>304</td>\n",
       "      <td>27</td>\n",
       "    </tr>\n",
       "    <tr>\n",
       "      <th>3.0</th>\n",
       "      <td>0</td>\n",
       "      <td>0</td>\n",
       "      <td>0</td>\n",
       "      <td>0</td>\n",
       "      <td>1</td>\n",
       "      <td>73</td>\n",
       "      <td>283</td>\n",
       "    </tr>\n",
       "  </tbody>\n",
       "</table>\n",
       "</div>"
      ],
      "text/plain": [
       "EXP   -3.0  -2.0  -1.0  -0.0   1.0   2.0   3.0\n",
       "FTGD                                          \n",
       "-3.0    50   120     8     0     0     0     0\n",
       "-2.0     0   157   117     2     0     0     0\n",
       "-1.0     0    74   323    70     1     0     0\n",
       " 0.0     0     0    24   647    81     2     0\n",
       " 1.0     0     0     0    36   512    64     0\n",
       " 2.0     0     0     0     0    84   304    27\n",
       " 3.0     0     0     0     0     1    73   283"
      ]
     },
     "execution_count": 15,
     "metadata": {},
     "output_type": "execute_result"
    }
   ],
   "source": [
    "# cross-tabulation for exact goal differential\n",
    "\n",
    "success_df = pd.crosstab(performance_df.loc[:, \"FTGD\"], performance_df.loc[:, \"EXP\"])#, margins=True)\n",
    "exp_min = int(performance_df.loc[:, \"EXP\"].min())\n",
    "exp_max = int(performance_df.loc[:, \"EXP\"].max())\n",
    "print \"Success identifying GD is \" + str(round(np.sum([100.*success_df.ix[i,i] for i in range(exp_min,exp_max+1)])/season15_end,2)) + \" percent\"\n",
    "success_df"
   ]
  },
  {
   "cell_type": "markdown",
   "metadata": {},
   "source": [
    "On the other hand, the expected result with respect to the goal differential correctly classifies the outcome of the game in $\\approx 69\\%$ of the data set. \n",
    "Since the most important consequence of goal differential is the decision about win, draw, and loss, we consider mis-classification as long as the outcome of the game is correct, not important. \n",
    "\n",
    "In the following we make the following assumption: games for which our algorithm does not classify ```win```, ```draw```, and ```loss``` correctly are won by ```luck.``` Therefore we exclude all games which have been misclassified in this manner, and we make the algorithm learn outcomes again."
   ]
  },
  {
   "cell_type": "code",
   "execution_count": 16,
   "metadata": {
    "collapsed": true
   },
   "outputs": [],
   "source": [
    "# 3 points for winning team, 1 point each for draw, 0 points for losing team\n",
    "def points(x):\n",
    "    if x > 0:\n",
    "        return 3\n",
    "    elif x == 0:\n",
    "        return 1\n",
    "    else:\n",
    "        return 0\n",
    "\n",
    "# Points assigned to teams according to actual and expected score (algorithm)\n",
    "performance_df.loc[:, \"FP\"] = performance_df.loc[:, \"FTGD\"].apply(points)\n",
    "performance_df.loc[:, \"EP\"] = performance_df.loc[:, \"EXP\"].apply(points)\n",
    "\n",
    "# Indicators if points and goal differential are different \n",
    "performance_df.loc[:, \"GD_err\"] = (performance_df.loc[:, \"FTGD\"] - performance_df.loc[:, \"EXP\"]).apply(np.abs)\n",
    "performance_df.loc[:, \"P_err\"] = (performance_df.loc[:, \"FP\"]-performance_df.loc[:, \"EP\"]).apply(np.sign).apply(np.abs)\n",
    "\n",
    "# All games which have been misclassified in outcome and only by one goal\n",
    "performance_df = performance_df.merge(\n",
    "    performance_df.query('(GD_err == 1) & (P_err == 1)').loc[:, \"P_err\"].to_frame().rename(columns={\"P_err\":\"Luck\"}),\n",
    "    left_index=True, right_index=True, how='left').fillna(0)"
   ]
  },
  {
   "cell_type": "code",
   "execution_count": 9,
   "metadata": {
    "collapsed": false
   },
   "outputs": [],
   "source": [
    "# Create df with only correctly predicted games and then learn on them\n",
    "feats_noluck = feats.merge(performance_df.loc[:, \"Luck\"].to_frame(), \n",
    "                           left_index=True, right_index=True, \n",
    "                           how='inner').query('Luck != 1').drop('Luck', axis=1)\n",
    "\n",
    "label = feats_import.loc[:, 'FTGD'].apply(min, args=(cutoff_GD,)).apply(max, args=(-cutoff_GD,)) + cutoff_GD\n",
    "\n",
    "GD_min = -cutoff_GD\n",
    "GD_max = +cutoff_GD\n",
    "GD_spread = GD_max-GD_min + 1\n",
    "\n",
    "\n",
    "label_noluck = label.to_frame().merge(feats_noluck, left_index=True, right_index=True).loc[:, 'FTGD']\n",
    "\n",
    "\n",
    "# ID for index to find end of 2015/16 season\n",
    "ID = np.eye(GD_spread)\n",
    "\n",
    "X_noluck = feats_noluck.ix[:season15_end].as_matrix()\n",
    "y_pre_noluck = map(int, label_noluck.ix[:season15_end].as_matrix())\n",
    "\n",
    "y_noluck = np.array([ID[i] for i in y_pre_noluck])"
   ]
  },
  {
   "cell_type": "code",
   "execution_count": 33,
   "metadata": {
    "collapsed": false,
    "scrolled": true
   },
   "outputs": [
    {
     "name": "stdout",
     "output_type": "stream",
     "text": [
      "0.631098634624\n",
      "2848/2849 [============================>.] - ETA: 0s"
     ]
    }
   ],
   "source": [
    "### set up the deep neural net with Keras\n",
    "dropout_p = 0.4\n",
    "# initiate model\n",
    "model_noluck = Sequential()\n",
    "# add weights input_layer--hidden_layer 1\n",
    "model_noluck.add(Dense(50, input_dim=len(X_noluck[0]), init='lecun_uniform', activation='relu')) \n",
    "# dropout layer 1\n",
    "model_noluck.add(Dropout(dropout_p))\n",
    "# add hidden layer 2\n",
    "model_noluck.add(Dense(500, activation='relu'))\n",
    "# add hidden layer 3\n",
    "model_noluck.add(Dense(200, activation='relu'))\n",
    "# add hidden layer 4\n",
    "model_noluck.add(Dense(50, activation='relu'))\n",
    "# dropout layer 2\n",
    "model_noluck.add(Dropout(dropout_p))\n",
    "# output layer\n",
    "model_noluck.add(Dense(2*cutoff_GD+1, activation='relu'))\n",
    "model_noluck.add(Activation('softmax'))\n",
    "### compile model\n",
    "model_noluck.compile(optimizer='adam',loss='categorical_crossentropy',metrics=['accuracy'])\n",
    "\n",
    "\n",
    "model_noluck.fit(X_noluck, y_noluck, nb_epoch=100, batch_size=10, verbose=False)\n",
    "print model_noluck.evaluate(X_noluck, y_noluck, batch_size=10, verbose=False)[1]\n",
    "\n",
    "predictions_noluck = model_noluck.predict_proba(X_noluck)"
   ]
  },
  {
   "cell_type": "markdown",
   "metadata": {},
   "source": [
    "Obviously, now the algorithm will work much more precisely, by construction."
   ]
  },
  {
   "cell_type": "code",
   "execution_count": 34,
   "metadata": {
    "collapsed": false
   },
   "outputs": [
    {
     "name": "stdout",
     "output_type": "stream",
     "text": [
      "Success identifying H, D, A is 96.17 percent\n"
     ]
    },
    {
     "data": {
      "text/html": [
       "<div>\n",
       "<table border=\"1\" class=\"dataframe\">\n",
       "  <thead>\n",
       "    <tr style=\"text-align: right;\">\n",
       "      <th>EXP</th>\n",
       "      <th>-1.0</th>\n",
       "      <th>0.0</th>\n",
       "      <th>1.0</th>\n",
       "    </tr>\n",
       "    <tr>\n",
       "      <th>FTGD</th>\n",
       "      <th></th>\n",
       "      <th></th>\n",
       "      <th></th>\n",
       "    </tr>\n",
       "  </thead>\n",
       "  <tbody>\n",
       "    <tr>\n",
       "      <th>-1.0</th>\n",
       "      <td>799</td>\n",
       "      <td>52</td>\n",
       "      <td>1</td>\n",
       "    </tr>\n",
       "    <tr>\n",
       "      <th>0.0</th>\n",
       "      <td>4</td>\n",
       "      <td>618</td>\n",
       "      <td>27</td>\n",
       "    </tr>\n",
       "    <tr>\n",
       "      <th>1.0</th>\n",
       "      <td>0</td>\n",
       "      <td>25</td>\n",
       "      <td>1323</td>\n",
       "    </tr>\n",
       "  </tbody>\n",
       "</table>\n",
       "</div>"
      ],
      "text/plain": [
       "EXP   -1.0   0.0   1.0\n",
       "FTGD                  \n",
       "-1.0   799    52     1\n",
       " 0.0     4   618    27\n",
       " 1.0     0    25  1323"
      ]
     },
     "execution_count": 34,
     "metadata": {},
     "output_type": "execute_result"
    }
   ],
   "source": [
    "performance_noluck_df = pd.concat([\n",
    "        (label_noluck.ix[:season15_end]-cutoff_GD).apply(min, args=(cutoff_GD,)).apply(max, args=(-cutoff_GD,)),\n",
    "        pd.Series(data=map(np.round, map(exp_score, predictions_noluck)), name='EXP', index=label_noluck.ix[:season15_end].index)], axis=1)\n",
    "success_noluck_res_df = pd.crosstab(performance_noluck_df.loc[:, \"FTGD\"].apply(np.sign), performance_noluck_df.loc[:, \"EXP\"].apply(np.sign))\n",
    "print \"Success identifying H, D, A is \" + str(round(100. * np.trace(success_noluck_res_df)/len(label_noluck.ix[:season15_end]),2)) + \" percent\"\n",
    "success_noluck_res_df"
   ]
  },
  {
   "cell_type": "markdown",
   "metadata": {
    "collapsed": true
   },
   "source": [
    "## Results\n",
    "\n",
    "We apply the model to predict outcomes of games played in the most recent season, our test data. We feed the features of the games and use the softmax output to calculate the expected goal differential.\n",
    "\n",
    "\n"
   ]
  },
  {
   "cell_type": "code",
   "execution_count": 35,
   "metadata": {
    "collapsed": false
   },
   "outputs": [
    {
     "name": "stdout",
     "output_type": "stream",
     "text": [
      " 32/143 [=====>........................] - ETA: 0s\n",
      "\n",
      "Success identifying H, D, A is 85.31 percent\n"
     ]
    },
    {
     "data": {
      "text/html": [
       "<div>\n",
       "<table border=\"1\" class=\"dataframe\">\n",
       "  <thead>\n",
       "    <tr style=\"text-align: right;\">\n",
       "      <th>EXP</th>\n",
       "      <th>-1.0</th>\n",
       "      <th>0.0</th>\n",
       "      <th>1.0</th>\n",
       "    </tr>\n",
       "    <tr>\n",
       "      <th>FTGD</th>\n",
       "      <th></th>\n",
       "      <th></th>\n",
       "      <th></th>\n",
       "    </tr>\n",
       "  </thead>\n",
       "  <tbody>\n",
       "    <tr>\n",
       "      <th>-1.0</th>\n",
       "      <td>29</td>\n",
       "      <td>8</td>\n",
       "      <td>1</td>\n",
       "    </tr>\n",
       "    <tr>\n",
       "      <th>0.0</th>\n",
       "      <td>0</td>\n",
       "      <td>27</td>\n",
       "      <td>10</td>\n",
       "    </tr>\n",
       "    <tr>\n",
       "      <th>1.0</th>\n",
       "      <td>0</td>\n",
       "      <td>2</td>\n",
       "      <td>66</td>\n",
       "    </tr>\n",
       "  </tbody>\n",
       "</table>\n",
       "</div>"
      ],
      "text/plain": [
       "EXP   -1.0   0.0   1.0\n",
       "FTGD                  \n",
       "-1.0    29     8     1\n",
       " 0.0     0    27    10\n",
       " 1.0     0     2    66"
      ]
     },
     "execution_count": 35,
     "metadata": {},
     "output_type": "execute_result"
    }
   ],
   "source": [
    "# Data from the most recent season\n",
    "X_test = feats.iloc[season15_end+1:].as_matrix()\n",
    "y_test_pre = map(int, label.iloc[season15_end+1:].as_matrix())\n",
    "\n",
    "y_test = np.array([ID[i] for i in y_test_pre])\n",
    "\n",
    "predictions_new_season_noluck = model_noluck.predict_proba(X_test)\n",
    "print '\\n'\n",
    "\n",
    "\n",
    "performance_new_season_noluck_df = pd.concat([\n",
    "        feats_import.iloc[season15_end+1:,7].apply(min, args=(cutoff_GD,)).apply(max, args=(-cutoff_GD,)),\n",
    "        pd.Series(data=map(np.round, map(exp_score, predictions_new_season_noluck)), name='EXP', index=feats_import.iloc[season15_end+1:].index)], axis=1)\n",
    "success_new_season_noluck_res_df = pd.crosstab(performance_new_season_noluck_df.loc[:, \"FTGD\"].apply(np.sign), performance_new_season_noluck_df.loc[:, \"EXP\"].apply(np.sign))\n",
    "print \"Success identifying H, D, A is \" + str(round(100.* np.trace(success_new_season_noluck_res_df)/len(X_test),2)) + \" percent\"\n",
    "success_new_season_noluck_res_df"
   ]
  },
  {
   "cell_type": "markdown",
   "metadata": {},
   "source": [
    "While the neural network, dropping all ```lucky``` games, could correctly classify the outcome of more than $\\approx 98\\%$ of the games on the training set, the rate drops to $\\approx 86\\%$ percent on the test set. We assume that this is mostly due to games that have ended differently than expected. <font color=\"red\">I'm a bit confused: why do we need Gameday 1, 2, 3 separately? Is it in order to define the features AP3 and HP3? What does the output there mean?: 9/9 [===....===], etc.?  </font>"
   ]
  },
  {
   "cell_type": "code",
   "execution_count": 36,
   "metadata": {
    "collapsed": true
   },
   "outputs": [],
   "source": [
    "# Define functions\n",
    "\n",
    "# Instead of finding the expected goal differential, we can find the expected points. \n",
    "def exp_score_cont(x):\n",
    "    multiplier = np.array([0, 0, 0, 1, 3, 3, 3])\n",
    "    return np.sum(np.array(x) * multiplier)\n",
    "\n",
    "# We have a cut-off at a goal differential of plus-minus 3. However, on average, plus-minus 3.6 goals are the GD\n",
    "# in games where the winning team scores at least 3 goals more.\n",
    "def exp_score_corr(x):\n",
    "    multiplier = np.array([-3.6, -2, -1, 0, 1, 2, 3.6])\n",
    "    return np.sum(np.array(x) * multiplier)"
   ]
  },
  {
   "cell_type": "code",
   "execution_count": 37,
   "metadata": {
    "collapsed": false
   },
   "outputs": [
    {
     "name": "stdout",
     "output_type": "stream",
     "text": [
      "9/9 [==============================] - 0s\n",
      "9/9 [==============================] - 0s\n",
      "9/9 [==============================] - 0s\n",
      "9/9 [==============================] - 0s\n",
      "9/9 [==============================] - 0s\n",
      "9/9 [==============================] - 0s\n",
      "9/9 [==============================] - 0s\n",
      "9/9 [==============================] - 0s\n",
      "9/9 [==============================] - 0s\n",
      "9/9 [==============================] - 0s\n",
      "9/9 [==============================] - 0s\n",
      "9/9 [==============================] - 0s\n",
      "9/9 [==============================] - 0s\n",
      "9/9 [==============================] - 0s\n",
      "9/9 [==============================] - 0s\n",
      "9/9 [==============================] - 0s\n"
     ]
    }
   ],
   "source": [
    "# Gameday 1\n",
    "gd = 1\n",
    "\n",
    "# Write new DataFrame to store the games and the expected outcome including points.\n",
    "simulated_season = pd.DataFrame(data=None, columns=['Gameday', 'TID_H', 'TID_A', 'GD', 'EP_H', 'EP_A'])\n",
    "\n",
    "# Copy the feats from the actual data\n",
    "new_feats_df = feats.copy().loc[(feats_import['Season']==2016) & (feats_import['Gameday']==gd)]\n",
    "\n",
    "# The features don't contain the teams playing, but we will need this for score-keeping and updating the standings.\n",
    "# It will not be feed into the neural network.\n",
    "new_feats_df.loc[:, \"TID_H\"] = feats_import[(feats_import['Season']==2016) & (feats_import['Gameday']==gd)].loc[:, \"TID_H\"]\n",
    "new_feats_df.loc[:, \"TID_A\"] = feats_import[(feats_import['Season']==2016) & (feats_import['Gameday']==gd)].loc[:, \"TID_H\"]\n",
    "\n",
    "new_feats_import_df = feats_import.loc[(feats_import['Season']==2016) & (feats_import['Gameday']==gd)]\n",
    "\n",
    "# Vectors to feed to neural network\n",
    "X_test_gameday = new_feats_df.drop([u'TID_H', u'TID_A'], axis=1).as_matrix() / norm\n",
    "\n",
    "y_test_gameday_pre = map(int, label.iloc[season15_end+(gd-1)*9:season15_end+(gd*9)].as_matrix())\n",
    "y_test_gameday = np.array([ID[i] for i in y_test_gameday_pre])\n",
    "\n",
    "# Score games\n",
    "predictions_new_gameday = model_noluck.predict_proba(X_test_gameday)\n",
    "\n",
    "# Write data\n",
    "data = np.array([np.array([gd for _ in range(9)]),\n",
    "new_feats_import_df.loc[:, 'TID_H'].tolist(),\n",
    "new_feats_import_df.loc[:, 'TID_A'].tolist(),\n",
    "map(exp_score_corr, predictions_new_gameday),\n",
    "map(exp_score_cont, predictions_new_gameday),\n",
    "map(exp_score_cont, np.fliplr(predictions_new_gameday))]).T\n",
    "\n",
    "# simulated_df is a running DataFrame containing all matches of the season.\n",
    "simulated_df = pd.DataFrame(data=data, columns=['Gameday', 'TID_H', 'TID_A', 'GD', 'EP_H', 'EP_A'])\n",
    "simulated_df = pd.merge(simulated_df, new_feats_import_df.loc[:, [\"Gameday\", \"TID_H\", \"FTGD\"]], left_on=[\"Gameday\", \"TID_H\"], right_on=[\"Gameday\", \"TID_H\"])\n",
    "\n",
    "simulated_season = simulated_season.append(simulated_df)\n",
    "\n",
    "# Assign points according to rounded expected goal differential\n",
    "simulated_df.loc[:, \"P_H\"] = simulated_df.loc[:, \"GD\"].apply(np.round).apply(points)\n",
    "simulated_df.loc[:, \"P_A\"] = (-simulated_df.loc[:, \"GD\"]).apply(np.round).apply(points)\n",
    "\n",
    "# simulated_df.loc[:, \"H/D/A\"] = simulated_df.loc[:, \"GD\"].apply(np.round).apply(np.sign)\n",
    "\n",
    "\n",
    "simulated_df.loc[:, ['TID_H', 'P_H']].set_index('TID_H').rename(columns={'P_H':'P' + str(gd)})\n",
    "\n",
    "# Write standings into a DataFrame\n",
    "standings = pd.DataFrame(pd.concat([1./3 * simulated_df.loc[:, ['TID_H', 'P_H']].set_index('TID_H').rename(columns={'P_H':'P' + str(gd)}), \n",
    "                                    1./3 * simulated_df.loc[:, ['TID_A', 'P_A']].set_index('TID_A').rename(columns={'P_A':'P' + str(gd)})])).sort_index()\n",
    "\n",
    "\n",
    "# Since the performance in the last 3 games is an input to the neural net, keep track of this.\n",
    "last_game = pd.concat([pd.merge(new_feats_df.loc[:, [\"TID_H\", \"HP3\"]], standings.loc[:, \"P\" + str(gd)].to_frame(), how='inner', left_on=\"TID_H\", right_index=True),\n",
    "                       pd.merge(new_feats_df.loc[:, [\"TID_A\", \"AP3\"]], standings.loc[:, \"P\" + str(gd)].to_frame(), how='inner', left_on=\"TID_A\", right_index=True)],\n",
    "                      axis=1)\n",
    "\n",
    "last_game.columns = [u'TID_H', u'HP3', u'P_H', u'TID_A', u'AP3', u'P_A']\n",
    "\n",
    "\n",
    "# Gameday 2\n",
    "\n",
    "gd = 2\n",
    "\n",
    "new_feats_import_df = feats_import.loc[(feats_import['Season']==2016) & (feats_import['Gameday']==gd)]\n",
    "new_feats_df = new_feats_import_df.drop(['Season', 'Gameday', u'Link', u'TName_H', u'TName_A', 'Odds'], axis=1).drop('FTGD', axis=1)\n",
    "new_feats_df.loc[:, 'HTGD'] = new_feats_df.loc[:, 'HTGD'].apply(min, args=(cutoff_GD,)).apply(max, args=(-cutoff_GD,)) + cutoff_GD\n",
    "\n",
    "\n",
    "new_feats_df.ix[:, \"HP3\"] = last_game.ix[:, \"P_H\"].tolist()\n",
    "new_feats_df.ix[:, \"AP3\"] = last_game.ix[:, \"P_A\"].tolist()\n",
    "\n",
    "\n",
    "X_test_gameday = new_feats_df.drop([u'TID_H', u'TID_A'], axis=1).as_matrix() / norm\n",
    "\n",
    "y_test_gameday_pre = map(int, label.iloc[season15_end+(gd-1)*9:season15_end+(gd*9)].as_matrix())\n",
    "y_test_gameday = np.array([ID[i] for i in y_test_gameday_pre])\n",
    "\n",
    "predictions_new_gameday = model_noluck.predict_proba(X_test_gameday)\n",
    "\n",
    "data = np.array([np.array([gd for _ in range(9)]),\n",
    "new_feats_import_df.loc[:, 'TID_H'].tolist(),\n",
    "new_feats_import_df.loc[:, 'TID_A'].tolist(),\n",
    "map(exp_score_corr, predictions_new_gameday),\n",
    "map(exp_score_cont, predictions_new_gameday),\n",
    "map(exp_score_cont, np.fliplr(predictions_new_gameday))]).T\n",
    "\n",
    "simulated_df = pd.DataFrame(data=data, columns=['Gameday', 'TID_H', 'TID_A', 'GD', 'EP_H', 'EP_A'])\n",
    "simulated_df = pd.merge(simulated_df, new_feats_import_df.loc[:, [\"Gameday\", \"TID_H\", \"FTGD\"]], left_on=[\"Gameday\", \"TID_H\"], right_on=[\"Gameday\", \"TID_H\"])\n",
    "\n",
    "simulated_season = simulated_season.append(simulated_df, ignore_index=True)\n",
    "    \n",
    "simulated_df.loc[:, \"P_H\"] = simulated_df.loc[:, \"GD\"].apply(np.round).apply(points)\n",
    "simulated_df.loc[:, \"P_A\"] = (-simulated_df.loc[:, \"GD\"]).apply(np.round).apply(points)\n",
    "\n",
    "simulated_df.loc[:, \"H/D/A\"] = simulated_df.loc[:, \"GD\"].apply(np.round).apply(np.sign)\n",
    "\n",
    "\n",
    "standings = pd.concat(\n",
    "    [standings.loc[:, \"P\" + str(gd-1)],\n",
    "     pd.concat([1./3 * simulated_df.loc[:, ['TID_H', 'P_H']].set_index('TID_H').rename(columns={'P_H':'P'}), \n",
    "                1./3 * simulated_df.loc[:, ['TID_A', 'P_A']].set_index('TID_A').rename(columns={'P_A':'P'})]).sort_index().rename(columns={\"P\": \"P\" + str(gd)})],\n",
    "    axis=1)\n",
    "\n",
    "\n",
    "last_game = pd.concat([pd.merge(new_feats_df.loc[:, [\"TID_H\", \"HP3\"]], standings.loc[:, 'P' + str(gd)].to_frame(), how='inner', left_on=\"TID_H\", right_index=True),\n",
    "                       pd.merge(new_feats_df.loc[:, [\"TID_A\", \"AP3\"]], standings.loc[:, 'P' + str(gd)].to_frame(), how='inner', left_on=\"TID_A\", right_index=True)],\n",
    "                      axis=1)\n",
    "\n",
    "last_game.columns = [u'TID_H', u'HP3', u'P_H', u'TID_A', u'AP3', u'P_A']\n",
    "\n",
    "\n",
    "# Gameday 3\n",
    "# Starting at Gameday 3, we don't have to worry about the edge effect regarding the previous results of teams.\n",
    "\n",
    "gd = 3\n",
    "for gd in range(3,17):\n",
    "    new_feats_import_df = feats_import.loc[(feats_import['Season']==2016) & (feats_import['Gameday']==gd)]\n",
    "    new_feats_df = new_feats_import_df.drop(['Season', 'Gameday', u'Link', u'TName_H', u'TName_A', 'Odds'], axis=1).drop('FTGD', axis=1)\n",
    "    new_feats_df.loc[:, 'HTGD'] = new_feats_df.loc[:, 'HTGD'].apply(min, args=(cutoff_GD,)).apply(max, args=(-cutoff_GD,)) + cutoff_GD\n",
    "\n",
    "    new_feats_df.loc[:, \"HP3\"] = last_game.loc[:, \"P_H\"].tolist()\n",
    "    new_feats_df.loc[:, \"AP3\"] = last_game.loc[:, \"P_A\"].tolist()\n",
    "\n",
    "\n",
    "    X_test_gameday = new_feats_df.drop([u'TID_H', u'TID_A'], axis=1).as_matrix() / norm\n",
    "\n",
    "    y_test_gameday_pre = map(int, label.iloc[season15_end+(gd-1)*9:season15_end+(gd*9)].as_matrix())\n",
    "    y_test_gameday = np.array([ID[i] for i in y_test_gameday_pre])\n",
    "\n",
    "    predictions_new_gameday = model_noluck.predict_proba(X_test_gameday)\n",
    "\n",
    "    data = np.array([np.array([gd for _ in range(9)]),\n",
    "    new_feats_import_df.loc[:, 'TID_H'].tolist(),\n",
    "    new_feats_import_df.loc[:, 'TID_A'].tolist(),\n",
    "    map(exp_score_corr, predictions_new_gameday),\n",
    "    map(exp_score_cont, predictions_new_gameday),\n",
    "    map(exp_score_cont, np.fliplr(predictions_new_gameday))]).T\n",
    "\n",
    "    simulated_df = pd.DataFrame(data=data, columns=['Gameday', 'TID_H', 'TID_A', 'GD', 'EP_H', 'EP_A'])\n",
    "    simulated_df = pd.merge(simulated_df, new_feats_import_df.loc[:, [\"Gameday\", \"TID_H\", \"FTGD\"]], left_on=[\"Gameday\", \"TID_H\"], right_on=[\"Gameday\", \"TID_H\"])\n",
    "\n",
    "    simulated_season = simulated_season.append(simulated_df, ignore_index=True)\n",
    "\n",
    "    simulated_df.loc[:, \"P_H\"] = simulated_df.loc[:, \"GD\"].apply(np.round).apply(points)\n",
    "    simulated_df.loc[:, \"P_A\"] = (-simulated_df.loc[:, \"GD\"]).apply(np.round).apply(points)\n",
    "\n",
    "    simulated_df.loc[:, \"H/D/A\"] = simulated_df.loc[:, \"GD\"].apply(np.round).apply(np.sign)\n",
    "\n",
    "\n",
    "    standings = pd.concat(\n",
    "        [standings,\n",
    "         pd.concat([1./3 * simulated_df.loc[:, ['TID_H', 'P_H']].set_index('TID_H').rename(columns={'P_H':'P'}), \n",
    "                    1./3 * simulated_df.loc[:, ['TID_A', 'P_A']].set_index('TID_A').rename(columns={'P_A':'P'})]).sort_index().rename(columns={\"P\": \"P\" + str(gd)})],\n",
    "        axis=1)\n",
    "\n",
    "    standings.T.rolling(3).mean().T\n",
    "\n",
    "\n",
    "    last_game = pd.concat([pd.merge(new_feats_df.loc[:, [\"TID_H\", \"HP3\"]], standings.T.rolling(3).mean().T.loc[:, 'P' + str(gd)].to_frame(), how='inner', left_on=\"TID_H\", right_index=True),\n",
    "                           pd.merge(new_feats_df.loc[:, [\"TID_A\", \"AP3\"]], standings.T.rolling(3).mean().T.loc[:, 'P' + str(gd)].to_frame(), how='inner', left_on=\"TID_A\", right_index=True)],\n",
    "                          axis=1)\n",
    "\n",
    "    last_game.columns = [u'TID_H', u'HP3', u'P_H', u'TID_A', u'AP3', u'P_A']\n",
    "\n",
    "    new_feats_df.loc[:, \"HP3\"] = last_game.loc[:, \"P_H\"].tolist()\n",
    "    new_feats_df.loc[:, \"AP3\"] = last_game.loc[:, \"P_A\"].tolist()"
   ]
  },
  {
   "cell_type": "code",
   "execution_count": 38,
   "metadata": {
    "collapsed": true
   },
   "outputs": [],
   "source": [
    "standings2016 = feats_import.loc[feats_import['Season']==2016, ['Season', 'Gameday', 'TID_H', 'TID_A', 'FTGD']]\n",
    "standings2016.loc[:, \"P_H\"] = standings2016.loc[:, \"FTGD\"].apply(points)\n",
    "standings2016.loc[:, \"P_A\"] = (-standings2016.loc[:, \"FTGD\"]).apply(points)\n",
    "standings2016 = pd.merge(\n",
    "    standings2016.loc[:, [\"TID_H\", \"P_H\"]].groupby('TID_H').sum(),\n",
    "    standings2016.loc[:, [\"TID_A\", \"P_A\"]].groupby('TID_A').sum(), left_index=True, right_index=True)\n",
    "standings2016 = standings2016.loc[:, 'P_H'] + standings2016.loc[:, 'P_A']\n",
    "\n"
   ]
  },
  {
   "cell_type": "code",
   "execution_count": 32,
   "metadata": {
    "collapsed": false
   },
   "outputs": [
    {
     "ename": "NameError",
     "evalue": "name 'standings' is not defined",
     "output_type": "error",
     "traceback": [
      "\u001b[0;31m---------------------------------------------------------------------------\u001b[0m",
      "\u001b[0;31mNameError\u001b[0m                                 Traceback (most recent call last)",
      "\u001b[0;32m<ipython-input-32-34e521d66be0>\u001b[0m in \u001b[0;36m<module>\u001b[0;34m()\u001b[0m\n\u001b[1;32m      5\u001b[0m             pd.merge(\n\u001b[1;32m      6\u001b[0m                 \u001b[0mteams_df\u001b[0m\u001b[0;34m.\u001b[0m\u001b[0mloc\u001b[0m\u001b[0;34m[\u001b[0m\u001b[0;34m:\u001b[0m\u001b[0;34m,\u001b[0m \u001b[0;34m[\u001b[0m\u001b[0;34m'TID'\u001b[0m\u001b[0;34m,\u001b[0m \u001b[0;34m'TName'\u001b[0m\u001b[0;34m]\u001b[0m\u001b[0;34m]\u001b[0m\u001b[0;34m.\u001b[0m\u001b[0mset_index\u001b[0m\u001b[0;34m(\u001b[0m\u001b[0;34m\"TID\"\u001b[0m\u001b[0;34m)\u001b[0m\u001b[0;34m,\u001b[0m\u001b[0;34m\u001b[0m\u001b[0m\n\u001b[0;32m----> 7\u001b[0;31m                 \u001b[0;36m3\u001b[0m\u001b[0;34m*\u001b[0m\u001b[0mstandings\u001b[0m\u001b[0;34m.\u001b[0m\u001b[0mT\u001b[0m\u001b[0;34m.\u001b[0m\u001b[0mapply\u001b[0m\u001b[0;34m(\u001b[0m\u001b[0mnp\u001b[0m\u001b[0;34m.\u001b[0m\u001b[0msum\u001b[0m\u001b[0;34m)\u001b[0m\u001b[0;34m.\u001b[0m\u001b[0mrename\u001b[0m\u001b[0;34m(\u001b[0m\u001b[0;34m'P'\u001b[0m\u001b[0;34m)\u001b[0m\u001b[0;34m.\u001b[0m\u001b[0mto_frame\u001b[0m\u001b[0;34m(\u001b[0m\u001b[0;34m)\u001b[0m\u001b[0;34m,\u001b[0m\u001b[0;34m\u001b[0m\u001b[0m\n\u001b[0m\u001b[1;32m      8\u001b[0m                 left_index=True, right_index=True).sort_values(\"P\", ascending=False),\n\u001b[1;32m      9\u001b[0m             standings2016], axis=1),\n",
      "\u001b[0;31mNameError\u001b[0m: name 'standings' is not defined"
     ]
    }
   ],
   "source": [
    "teams_df = pd.read_csv('Team_ID_hardcoded.csv')\n",
    "\n",
    "standings_comparison = \\\n",
    "pd.concat([\n",
    "        pd.concat([\n",
    "            pd.merge(\n",
    "                teams_df.loc[:, ['TID', 'TName']].set_index(\"TID\"),\n",
    "                3*standings.T.apply(np.sum).rename('P').to_frame(),\n",
    "                left_index=True, right_index=True).sort_values(\"P\", ascending=False),\n",
    "            standings2016], axis=1),\n",
    "        standings2], axis=1)\n",
    "standings_comparison.columns = [\"TName\", \"DEP\", \"P\", \"CEP\"]\n",
    "standings_comparison.loc[:, [\"TName\", \"P\", \"DEP\", \"CEP\"]].sort_values([\"DEP\", \"CEP\"], ascending=False).reset_index(drop=True)"
   ]
  },
  {
   "cell_type": "code",
   "execution_count": null,
   "metadata": {
    "collapsed": true
   },
   "outputs": [],
   "source": []
  }
 ],
 "metadata": {
  "anaconda-cloud": {},
  "kernelspec": {
   "display_name": "Python [Root]",
   "language": "python",
   "name": "Python [Root]"
  },
  "language_info": {
   "codemirror_mode": {
    "name": "ipython",
    "version": 2
   },
   "file_extension": ".py",
   "mimetype": "text/x-python",
   "name": "python",
   "nbconvert_exporter": "python",
   "pygments_lexer": "ipython2",
   "version": "2.7.12"
  }
 },
 "nbformat": 4,
 "nbformat_minor": 0
}
