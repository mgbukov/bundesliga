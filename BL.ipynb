{
 "cells": [
  {
   "cell_type": "markdown",
   "metadata": {},
   "source": [
    "# Predicting the Outcome of Bundesliga Games with Artificial Neural Nets\n",
    "\n",
    "## Table of Contents\n",
    "\n",
    "- [Goals of the Project](#goals-of-the-project)\n",
    "- [Data and Features](#data-and-features)\n",
    "    * [Training and Test Datasets](#training-and-test-datasets)\n",
    "- [Models](#models)\n",
    "    * [Multinomial Logistic Regression](#multinomial-logistic-regression)\n",
    "    * [Deep Neural Network](#deep-neural-network)\n",
    "- [Results](#results)\n",
    "    * [Simulation of season 2016/17](#simulation)"
   ]
  },
  {
   "cell_type": "markdown",
   "metadata": {},
   "source": [
    "## Goals of the Project <a class=\"anchor\" id=\"goals-of-the-project\"></a>\n",
    "\n",
    "This project presents an attempt to quantify the predictability of the Bundesliga football games based on the information contained in game statistics starting from season 2006/07 onwards. In particular,\n",
    "\n",
    "* we use a multinomial logistic regression and compore it to an artificial deep neural network to examine the correlations between different features provided from the statistics of individual games.\n",
    "* we pose the question: \"To what accuracy can one determine the outcome and score of any Bundesliga game, given the statistics of games from a number of previous seasons?\"\n",
    "* we compare the predictions of our model on the Bundesliga season 2016/17 up to a present matchday. We also make a prediction for the Bundesliga table for season 2016/17 according to our model.\n",
    "\n",
    "Studying the predictive power of football statistics on the outcome of games is an interesting and challenging problem of general importance both to sports, and the development of a proper intuition about the inner workings and applicability of machine learning algorithms to sport events. The difficulty of the problem is enhanced by the occurence of physical outlier events in the data, for example a team performing better in a given game but nevertheless losing to their opponent 'misfortunately', i.e. due to 'bad luck'. Such events, although they must be accounted for by the complete realistic model, can easily be recognised as noise or bias by the classifier, e.g. a neural network, leading to an increase in both the in-sample and out-of-sample errors. "
   ]
  },
  {
   "cell_type": "markdown",
   "metadata": {},
   "source": [
    "## Data and Features <a class=\"anchor\" id=\"data-and-features\"></a>\n",
    "\n",
    "We use a manually developed football games dataset, collected from data provided at [football-data.co.uk](http://football-data.co.uk/) and [kicker.de](http://kicker.de). These sets were modified introducing some new features as combinations of the existing ones, while at the same time dropping others which we considered to be less relevant."
   ]
  },
  {
   "cell_type": "code",
   "execution_count": 29,
   "metadata": {
    "collapsed": true
   },
   "outputs": [],
   "source": [
    "# load required packages and modules\n",
    "from keras.models import Sequential\n",
    "from keras.layers import Dense, Activation, Dropout\n",
    "from keras.wrappers.scikit_learn import KerasClassifier\n",
    "from keras.utils import np_utils\n",
    "\n",
    "import sklearn\n",
    "from sklearn.preprocessing import LabelEncoder\n",
    "from sklearn.pipeline import Pipeline\n",
    "\n",
    "import pandas as pd\n",
    "import numpy as np\n",
    "\n",
    "from sklearn.model_selection import cross_val_score\n",
    "from sklearn.model_selection import KFold\n",
    "\n",
    "from matplotlib import pyplot as plt\n",
    "%matplotlib inline\n",
    "\n",
    "import seaborn as sns\n",
    "sns.set(color_codes=True)"
   ]
  },
  {
   "cell_type": "code",
   "execution_count": 28,
   "metadata": {
    "collapsed": false,
    "scrolled": true
   },
   "outputs": [
    {
     "name": "stdout",
     "output_type": "stream",
     "text": [
      "Reshape successful\n",
      "Features:\n",
      "['HTGD' 'FTHG' 'HTHG' 'HGA' 'AGA' 'Attendance' 'ChancesA' 'ChancesH' 'HS'\n",
      " 'AS' 'HST' 'AST' 'HF' 'AF' 'HC' 'AC' 'HY' 'AY' 'HR' 'AR' 'HP3' 'AP3'\n",
      " 'Interval_H' 'Interval_A' 'Interval_D']\n"
     ]
    }
   ],
   "source": [
    "# load data\n",
    "feats_import = pd.read_csv('All_Data_2006_2016.csv')\n",
    "try:\n",
    "    feats_import = feats_import.drop(['Unnamed: 0'], axis=1)\n",
    "    print \"Reshape successful\"\n",
    "except:\n",
    "    print \"Successful import\"\n",
    "    \n",
    "# set a cutoff for the goal differential: all wins/losses with more than 3 goals difference are counted as wins/losses with goal differential of 3\n",
    "cutoff_GD = 3\n",
    "GD_min = -cutoff_GD\n",
    "GD_max = +cutoff_GD\n",
    "GD_spread = GD_max-GD_min + 1\n",
    "\n",
    "# import features and drop data which are not relevant or too specific, like teams playing. \n",
    "feats = feats_import.drop(['Season', 'Gameday', u'Link', u'TID_H', u'TID_A', u'TName_H', u'TName_A', 'Odds'], axis=1).drop('FTGD', axis=1)\n",
    "feats.loc[:, 'HTGD'] = feats_import.loc[:, 'HTGD'].apply(min, args=(cutoff_GD,)).apply(max, args=(-cutoff_GD,)) + cutoff_GD\n",
    "\n",
    "# each data point is represented as a vector containing the following features:\n",
    "print \"Features:\"\n",
    "print feats.columns.values"
   ]
  },
  {
   "cell_type": "markdown",
   "metadata": {},
   "source": [
    "|  feature name | meaning |  feature name | meaning |  \n",
    "|---|---|---|---|---|---|\n",
    "|HTGD|half-time goal differential|HTHG|half-time home goals|\n",
    "|FTHG|full-time home goals|Attendance|Attendance in stadium, normalized to home team's maximum of that season|\n",
    "|HGA|home team grade avgerage|AGA|away team grade avgerage|\n",
    "|ChancesH|home team scoring opportunities|ChancesA|away team scoring opportunities|\n",
    "|HS|home team shots|AS|away team shots|\n",
    "|HST|home team shots on target|AST|away team shots on target|\n",
    "|HF|home team fouls committed|AF|away team fouls committed|\n",
    "|HC|home team corner kicks|AC|away teams corner kicks|\n",
    "|HY|home teams yellow cards|AY|away teams yellow cards|\n",
    "|HR|home team red cards|AR|away team red cards|\n",
    "|HP3|home team points in last 3 games|AP3|away team points in last 3 games|\n",
    "|Interval_W|fraction of 90 minutes winning team was in the lead</span>|Interval_L|fraction of 90 minutes losing team was in the lead|\n",
    "|Interval_D|fraction of 90 minutes match was in a tie||||\n"
   ]
  },
  {
   "cell_type": "markdown",
   "metadata": {},
   "source": [
    "To acquire a better understanding of the data used to train the deep neural net, below we show histrograms of selected interesting features, that are often used by the experts to intuitively estimate and argue for the outcome of a particular fixture:"
   ]
  },
  {
   "cell_type": "code",
   "execution_count": 23,
   "metadata": {
    "collapsed": false,
    "scrolled": false
   },
   "outputs": [
    {
     "data": {
      "image/png": "[encoded data removed]",
      "text/plain": [
       "<matplotlib.figure.Figure at 0x1254c1710>"
      ]
     },
     "metadata": {},
     "output_type": "display_data"
    }
   ],
   "source": [
    "dp = sns.distplot(feats_import.loc[:, 'ChancesH'],\n",
    "                  bins=np.int(feats_import.loc[:, 'HS'].max()-feats_import.loc[:, 'HS'].min()+1), axlabel=False,\n",
    "                  kde_kws={'label':'home team scoring opportunities',\"linewidth\": 2,\"color\": \"b\"},\n",
    "                  hist_kws={\"color\": \"b\"})\n",
    "dp.set(xlim=(0, 15))\n",
    "\n",
    "dp = sns.distplot(feats_import.loc[:, 'ChancesA'],\n",
    "                  bins=np.int(feats_import.loc[:, 'AS'].max()-feats_import.loc[:, 'AS'].min()+1), axlabel=False,\n",
    "                  kde_kws={'label':'away team scoring opportunities',\"linewidth\": 2,\"color\": \"r\"},\n",
    "                  hist_kws={\"color\": \"r\"})"
   ]
  },
  {
   "cell_type": "code",
   "execution_count": 24,
   "metadata": {
    "collapsed": false
   },
   "outputs": [
    {
     "data": {
      "image/png": "[encoded data removed]",
      "text/plain": [
       "<matplotlib.figure.Figure at 0x125abe2d0>"
      ]
     },
     "metadata": {},
     "output_type": "display_data"
    }
   ],
   "source": [
    "dp = sns.distplot(feats_import.loc[:, 'HST'],\n",
    "                  bins=np.int(feats_import.loc[:, 'HST'].max()-feats_import.loc[:, 'HST'].min()+1), axlabel=False,\n",
    "                  kde_kws={'label':'home team shots on target',\"linewidth\": 2,\"color\": \"b\"},\n",
    "                  hist_kws={\"color\": \"b\"})\n",
    "dp.set(xlim=(0, 20))\n",
    "\n",
    "dp = sns.distplot(feats_import.loc[:, 'AST'],\n",
    "                  bins=np.int(feats_import.loc[:, 'AST'].max()-feats_import.loc[:, 'AST'].min()+1), axlabel=False,\n",
    "                  kde_kws={'label':'away team shots on target',\"linewidth\": 2,\"color\": \"r\"},\n",
    "                  hist_kws={\"color\": \"r\"})"
   ]
  },
  {
   "cell_type": "code",
   "execution_count": 25,
   "metadata": {
    "collapsed": false
   },
   "outputs": [
    {
     "data": {
      "image/png": "[encoded data removed]",
      "text/plain": [
       "<matplotlib.figure.Figure at 0x12543fcd0>"
      ]
     },
     "metadata": {},
     "output_type": "display_data"
    }
   ],
   "source": [
    "dp = sns.distplot(feats_import.loc[:, 'HF'],\n",
    "                  bins=np.int(feats_import.loc[:, 'HS'].max()-feats_import.loc[:, 'HS'].min()+1), axlabel=False,\n",
    "                  kde_kws={'label':'home team fouls commited',\"linewidth\": 2,\"color\": \"b\"},\n",
    "                  hist_kws={\"color\": \"b\"})\n",
    "dp.set(xlim=(0, 38))\n",
    "\n",
    "dp = sns.distplot(feats_import.loc[:, 'AF'],\n",
    "                  bins=np.int(feats_import.loc[:, 'AS'].max()-feats_import.loc[:, 'AS'].min()+1), axlabel=False,\n",
    "                  kde_kws={'label':'away team fouls commited',\"linewidth\": 2,\"color\": \"r\"},\n",
    "                  hist_kws={\"color\": \"r\"})"
   ]
  },
  {
   "cell_type": "code",
   "execution_count": 26,
   "metadata": {
    "collapsed": false
   },
   "outputs": [
    {
     "data": {
      "image/png": "[encoded data removed]",
      "text/plain": [
       "<matplotlib.figure.Figure at 0x12516a1d0>"
      ]
     },
     "metadata": {},
     "output_type": "display_data"
    }
   ],
   "source": [
    "dp = sns.distplot(feats_import.loc[:, 'HC'],\n",
    "                  bins=np.int(feats_import.loc[:, 'HS'].max()-feats_import.loc[:, 'HS'].min()+1), axlabel=False,\n",
    "                  kde_kws={'label':'home team corner kicks',\"linewidth\": 2,\"color\": \"b\"},\n",
    "                  hist_kws={\"color\": \"b\"})\n",
    "dp.set(xlim=(0, 16))\n",
    "\n",
    "dp = sns.distplot(feats_import.loc[:, 'AC'],\n",
    "                  bins=np.int(feats_import.loc[:, 'AS'].max()-feats_import.loc[:, 'AS'].min()+1), axlabel=False,\n",
    "                  kde_kws={'label':'away team corner kicks',\"linewidth\": 2,\"color\": \"r\"},\n",
    "                  hist_kws={\"color\": \"r\"})"
   ]
  },
  {
   "cell_type": "markdown",
   "metadata": {},
   "source": [
    "### Training and Test Datasets <a class=\"anchor\" id=\"training-and-test-datasets\"></a>\n",
    "\n",
    "Using the data points discussed above, we now put together a training and a test data set as follows: "
   ]
  },
  {
   "cell_type": "code",
   "execution_count": 43,
   "metadata": {
    "collapsed": false
   },
   "outputs": [
    {
     "data": {
      "text/html": [
       "<div>\n",
       "<table border=\"1\" class=\"dataframe\">\n",
       "  <thead>\n",
       "    <tr style=\"text-align: right;\">\n",
       "      <th></th>\n",
       "      <th>Season</th>\n",
       "      <th>Gameday</th>\n",
       "      <th>Link</th>\n",
       "      <th>TID_H</th>\n",
       "      <th>TID_A</th>\n",
       "      <th>TName_H</th>\n",
       "      <th>TName_A</th>\n",
       "      <th>FTGD</th>\n",
       "      <th>HTGD</th>\n",
       "      <th>FTHG</th>\n",
       "      <th>...</th>\n",
       "      <th>AC</th>\n",
       "      <th>HY</th>\n",
       "      <th>AY</th>\n",
       "      <th>HR</th>\n",
       "      <th>AR</th>\n",
       "      <th>HP3</th>\n",
       "      <th>AP3</th>\n",
       "      <th>Interval_H</th>\n",
       "      <th>Interval_A</th>\n",
       "      <th>Interval_D</th>\n",
       "    </tr>\n",
       "  </thead>\n",
       "  <tbody>\n",
       "    <tr>\n",
       "      <th>0</th>\n",
       "      <td>2006</td>\n",
       "      <td>1</td>\n",
       "      <td>2</td>\n",
       "      <td>0</td>\n",
       "      <td>12</td>\n",
       "      <td>Bayern Munich</td>\n",
       "      <td>Dortmund</td>\n",
       "      <td>2.0</td>\n",
       "      <td>1.0</td>\n",
       "      <td>2.0</td>\n",
       "      <td>...</td>\n",
       "      <td>4.0</td>\n",
       "      <td>1.0</td>\n",
       "      <td>2.0</td>\n",
       "      <td>0.0</td>\n",
       "      <td>0.0</td>\n",
       "      <td>0.5</td>\n",
       "      <td>0.5</td>\n",
       "      <td>0.733333</td>\n",
       "      <td>0.000000</td>\n",
       "      <td>0.266667</td>\n",
       "    </tr>\n",
       "    <tr>\n",
       "      <th>1</th>\n",
       "      <td>2006</td>\n",
       "      <td>1</td>\n",
       "      <td>1</td>\n",
       "      <td>1</td>\n",
       "      <td>16</td>\n",
       "      <td>Hamburg</td>\n",
       "      <td>Bielefeld</td>\n",
       "      <td>0.0</td>\n",
       "      <td>-1.0</td>\n",
       "      <td>1.0</td>\n",
       "      <td>...</td>\n",
       "      <td>2.0</td>\n",
       "      <td>3.0</td>\n",
       "      <td>2.0</td>\n",
       "      <td>0.0</td>\n",
       "      <td>0.0</td>\n",
       "      <td>0.5</td>\n",
       "      <td>0.5</td>\n",
       "      <td>0.000000</td>\n",
       "      <td>0.388889</td>\n",
       "      <td>0.611111</td>\n",
       "    </tr>\n",
       "    <tr>\n",
       "      <th>2</th>\n",
       "      <td>2006</td>\n",
       "      <td>1</td>\n",
       "      <td>8</td>\n",
       "      <td>2</td>\n",
       "      <td>10</td>\n",
       "      <td>Leverkusen</td>\n",
       "      <td>Aachen</td>\n",
       "      <td>3.0</td>\n",
       "      <td>2.0</td>\n",
       "      <td>3.0</td>\n",
       "      <td>...</td>\n",
       "      <td>1.0</td>\n",
       "      <td>3.0</td>\n",
       "      <td>0.0</td>\n",
       "      <td>1.0</td>\n",
       "      <td>1.0</td>\n",
       "      <td>0.5</td>\n",
       "      <td>0.5</td>\n",
       "      <td>0.644444</td>\n",
       "      <td>0.000000</td>\n",
       "      <td>0.355556</td>\n",
       "    </tr>\n",
       "    <tr>\n",
       "      <th>3</th>\n",
       "      <td>2006</td>\n",
       "      <td>1</td>\n",
       "      <td>6</td>\n",
       "      <td>3</td>\n",
       "      <td>17</td>\n",
       "      <td>Mainz</td>\n",
       "      <td>Bochum</td>\n",
       "      <td>1.0</td>\n",
       "      <td>1.0</td>\n",
       "      <td>2.0</td>\n",
       "      <td>...</td>\n",
       "      <td>8.0</td>\n",
       "      <td>2.0</td>\n",
       "      <td>3.0</td>\n",
       "      <td>0.0</td>\n",
       "      <td>0.0</td>\n",
       "      <td>0.5</td>\n",
       "      <td>0.5</td>\n",
       "      <td>0.677778</td>\n",
       "      <td>0.000000</td>\n",
       "      <td>0.322222</td>\n",
       "    </tr>\n",
       "    <tr>\n",
       "      <th>4</th>\n",
       "      <td>2006</td>\n",
       "      <td>1</td>\n",
       "      <td>3</td>\n",
       "      <td>4</td>\n",
       "      <td>11</td>\n",
       "      <td>M'gladbach</td>\n",
       "      <td>Cottbus</td>\n",
       "      <td>2.0</td>\n",
       "      <td>0.0</td>\n",
       "      <td>2.0</td>\n",
       "      <td>...</td>\n",
       "      <td>5.0</td>\n",
       "      <td>0.0</td>\n",
       "      <td>4.0</td>\n",
       "      <td>0.0</td>\n",
       "      <td>1.0</td>\n",
       "      <td>0.5</td>\n",
       "      <td>0.5</td>\n",
       "      <td>0.433333</td>\n",
       "      <td>0.000000</td>\n",
       "      <td>0.566667</td>\n",
       "    </tr>\n",
       "  </tbody>\n",
       "</table>\n",
       "<p>5 rows × 34 columns</p>\n",
       "</div>"
      ],
      "text/plain": [
       "   Season  Gameday  Link  TID_H  TID_A         TName_H     TName_A  FTGD  \\\n",
       "0    2006        1     2      0     12   Bayern Munich    Dortmund   2.0   \n",
       "1    2006        1     1      1     16         Hamburg   Bielefeld   0.0   \n",
       "2    2006        1     8      2     10      Leverkusen      Aachen   3.0   \n",
       "3    2006        1     6      3     17           Mainz      Bochum   1.0   \n",
       "4    2006        1     3      4     11      M'gladbach     Cottbus   2.0   \n",
       "\n",
       "   HTGD  FTHG     ...       AC   HY   AY   HR   AR  HP3  AP3  Interval_H  \\\n",
       "0   1.0   2.0     ...      4.0  1.0  2.0  0.0  0.0  0.5  0.5    0.733333   \n",
       "1  -1.0   1.0     ...      2.0  3.0  2.0  0.0  0.0  0.5  0.5    0.000000   \n",
       "2   2.0   3.0     ...      1.0  3.0  0.0  1.0  1.0  0.5  0.5    0.644444   \n",
       "3   1.0   2.0     ...      8.0  2.0  3.0  0.0  0.0  0.5  0.5    0.677778   \n",
       "4   0.0   2.0     ...      5.0  0.0  4.0  0.0  1.0  0.5  0.5    0.433333   \n",
       "\n",
       "   Interval_A  Interval_D  \n",
       "0    0.000000    0.266667  \n",
       "1    0.388889    0.611111  \n",
       "2    0.000000    0.355556  \n",
       "3    0.000000    0.322222  \n",
       "4    0.000000    0.566667  \n",
       "\n",
       "[5 rows x 34 columns]"
      ]
     },
     "execution_count": 43,
     "metadata": {},
     "output_type": "execute_result"
    }
   ],
   "source": [
    "# Overview over the data set\n",
    "feats_import.head()"
   ]
  },
  {
   "cell_type": "markdown",
   "metadata": {},
   "source": [
    "We normalise each feature from the data to unity with respect to all games in the data set, unless otherwise stated."
   ]
  },
  {
   "cell_type": "code",
   "execution_count": 30,
   "metadata": {
    "collapsed": false
   },
   "outputs": [],
   "source": [
    "# Normalize the data set to values between 0 and 1\n",
    "norm = [GD_spread-1, 9, 5, 1, 1, 1, 22, 22, 36, 36, 36, 33, 35, 35, 20, 20, 11, 11, 4, 4, 1, 1, 1, 1, 1]\n",
    "feats = feats/norm\n",
    "\n",
    "# Identify the point where season 2015/16 ends and thus the most recent season begins\n",
    "season15_end = feats_import[feats_import['Season']==2016].index[0]\n",
    "\n",
    "# Create the labels for the goal differentials between -cutoff_GD and +cutoff_GD\n",
    "label = feats_import.loc[:, 'FTGD'].apply(min, args=(cutoff_GD,)).apply(max, args=(-cutoff_GD,)) + cutoff_GD\n",
    "\n",
    "\n",
    "# Bring X and y into numpy format\n",
    "X_train = feats.iloc[:season15_end].as_matrix()\n",
    "y_bare = map(int, label.iloc[:season15_end].as_matrix())\n",
    "\n",
    "# input and output dimensions\n",
    "input_dim=X_train.shape[1]\n",
    "output_dim = len(set(y_bare)) # = 2*cutoff_GD+1\n",
    "nb_classes = len(set(y_bare))\n",
    "\n",
    "# categorical classification values\n",
    "Y_train = np_utils.to_categorical(y_bare, nb_classes)"
   ]
  },
  {
   "cell_type": "markdown",
   "metadata": {},
   "source": [
    "The test data set is defined as the data avaiable up to the present matchday of the current season:"
   ]
  },
  {
   "cell_type": "code",
   "execution_count": 37,
   "metadata": {
    "collapsed": true
   },
   "outputs": [],
   "source": [
    "# Data from the most recent season\n",
    "X_test = feats.iloc[season15_end+1:].as_matrix()\n",
    "y_test_bare = map(int, label.iloc[season15_end+1:].as_matrix())\n",
    "\n",
    "# input and output dimensions\n",
    "input_dim_test=X_test.shape[1]\n",
    "\n",
    "# categorical classification values\n",
    "Y_test = np_utils.to_categorical(y_test_bare, nb_classes)"
   ]
  },
  {
   "cell_type": "markdown",
   "metadata": {},
   "source": [
    "## Models <a class=\"anchor\" id=\"models\"></a>\n",
    "\n",
    "To gain an intuition about how eep neural networks work, we start off with the simpler model of a multinomial logistic regression, before we introduce multiple hidden layers.\n",
    "\n",
    "### Multinomial Logistic Regression  <a class=\"anchor\" id=\"multinomial-logistic-regression\"></a>\n",
    "\n",
    "A multinomial logistic regression is a soft-max model which outputs the probabilities for a given feature vector to fall in one out of multiple classification categories. The error function of the logistic refression is the cross entropy, and it is typically minimised numerically, e.g. using Stochastic Gradient Descnet or the ADAM optimisers. \n",
    "\n",
    "We start by defining the batch size used by ADAM, and the corresponding number of training epochs (a.k.a. the iterations in minimising the cross entropy)."
   ]
  },
  {
   "cell_type": "code",
   "execution_count": 52,
   "metadata": {
    "collapsed": true
   },
   "outputs": [],
   "source": [
    "nb_epoch=100\n",
    "batch_size=10"
   ]
  },
  {
   "cell_type": "markdown",
   "metadata": {},
   "source": [
    "Let us set up the log-reg model using Keras, and check how well it fits the train data"
   ]
  },
  {
   "cell_type": "code",
   "execution_count": 57,
   "metadata": {
    "collapsed": false
   },
   "outputs": [
    {
     "name": "stdout",
     "output_type": "stream",
     "text": [
      "('Training score:', 1.0257767948449827)\n",
      "('Training accuracy:', 0.55882352948967928)\n"
     ]
    }
   ],
   "source": [
    "# build log-reg model (softmax)\n",
    "log_reg_model = Sequential() \n",
    "log_reg_model.add(Dense(output_dim, input_dim=input_dim, activation='softmax')) \n",
    "log_reg_model.compile(optimizer='adam', loss='categorical_crossentropy', metrics=['accuracy']) \n",
    "\n",
    "# fit the train data to check how well it recognises it\n",
    "log_reg_model.fit(X_train, Y_train, batch_size=batch_size, nb_epoch=nb_epoch,verbose=0) \n",
    "score_train = log_reg_model.evaluate(X_train, Y_train, verbose=0) \n",
    "print('Training score:', score_train[0]) \n",
    "print('Training accuracy:', score_train[1])"
   ]
  },
  {
   "cell_type": "markdown",
   "metadata": {},
   "source": [
    "### Deep Neural Network <a class=\"anchor\" id=\"deep-neural-network\"></a>\n",
    "\n",
    "Our second and major model is a more sophisticated deep relu neural net with the following architecture (consider putting table horizontally?):\n",
    "\n",
    "|layer|input | hidden 1| hidden 2| hidden 3| hidden 4|softmax output|\n",
    "|:-:|:-:|:-:|:-:|:-:|:-:|:-:|\n",
    "|*number of relu neurons*|25|50|500|500|50|7| \n",
    "\n",
    "We train with minibatches using the ```adam``` optimiser, and minimise the categorical entropy function. Additionally, we apply ```dropout``` regularisation before hidden layer 2 and after hidden layer 4.\n",
    " \n",
    "\n",
    "\n"
   ]
  },
  {
   "cell_type": "code",
   "execution_count": 31,
   "metadata": {
    "collapsed": false
   },
   "outputs": [],
   "source": [
    "### set up the deep neural net with Keras\n",
    "dropout_p = 0.3\n",
    "# initiate model\n",
    "model = Sequential()\n",
    "# add weights input_layer--hidden_layer 1\n",
    "model.add(Dense(50, input_dim=input_dim, init='lecun_uniform', activation='relu')) \n",
    "# dropout layer 1\n",
    "model.add(Dropout(dropout_p))\n",
    "# add hidden layer 2\n",
    "model.add(Dense(500, activation='relu'))\n",
    "# add hidden layer 3\n",
    "model.add(Dense(500, activation='relu'))\n",
    "# add hidden layer 4\n",
    "model.add(Dense(50, activation='relu'))\n",
    "# dropout layer 2\n",
    "model.add(Dropout(dropout_p))\n",
    "# output layer\n",
    "model.add(Dense(output_dim, activation='relu'))\n",
    "model.add(Activation('softmax'))\n",
    "### compile model\n",
    "model.compile(optimizer='adam',loss='categorical_crossentropy',metrics=['accuracy'])"
   ]
  },
  {
   "cell_type": "markdown",
   "metadata": {},
   "source": [
    "As before, we train the model on the training data with $100$ epochs and a mini-batch size of $10$. <br>\n",
    "Since we use a softmax activation, the neural network outputs probabilities for the different outcomes of goal differentials."
   ]
  },
  {
   "cell_type": "code",
   "execution_count": 36,
   "metadata": {
    "collapsed": false
   },
   "outputs": [
    {
     "name": "stdout",
     "output_type": "stream",
     "text": [
      "0.805882349708\n",
      "3060/3060 [==============================] - 0s     \n"
     ]
    }
   ],
   "source": [
    "model.fit(X_train, Y_train, nb_epoch=nb_epoch, batch_size=batch_size, verbose=False)\n",
    "print model.evaluate(X_train, Y_train, batch_size=batch_size, verbose=False)[1]\n",
    "\n",
    "predictions = model.predict_proba(X_train)"
   ]
  },
  {
   "cell_type": "markdown",
   "metadata": {},
   "source": [
    "The ```model.evaluate()``` function tests the accuracy to which the network has learned to recognize the results of a match just by the stats of given game. <br> \n",
    "We achieve $\\approx 70\\%$ accuracy. This result can be improved considerably by considering a smaller cutoff goal differential. In the extreme case of a goal differential cutoff of $1$, the artificial neural network only tries to learn the winner and loser or if there was a draw.\n",
    "\n",
    "We use the softmax outcome probabilities to calculate the expected score via the function ```exp_score()```:"
   ]
  },
  {
   "cell_type": "code",
   "execution_count": 38,
   "metadata": {
    "collapsed": false,
    "scrolled": true
   },
   "outputs": [
    {
     "name": "stdout",
     "output_type": "stream",
     "text": [
      "Success identifying H, D, A is 96.6 percent\n"
     ]
    },
    {
     "data": {
      "text/html": [
       "<div>\n",
       "<table border=\"1\" class=\"dataframe\">\n",
       "  <thead>\n",
       "    <tr style=\"text-align: right;\">\n",
       "      <th>EXP</th>\n",
       "      <th>-1.0</th>\n",
       "      <th>0.0</th>\n",
       "      <th>1.0</th>\n",
       "    </tr>\n",
       "    <tr>\n",
       "      <th>FTGD</th>\n",
       "      <th></th>\n",
       "      <th></th>\n",
       "      <th></th>\n",
       "    </tr>\n",
       "  </thead>\n",
       "  <tbody>\n",
       "    <tr>\n",
       "      <th>-1.0</th>\n",
       "      <td>875</td>\n",
       "      <td>47</td>\n",
       "      <td>0</td>\n",
       "    </tr>\n",
       "    <tr>\n",
       "      <th>0.0</th>\n",
       "      <td>6</td>\n",
       "      <td>726</td>\n",
       "      <td>22</td>\n",
       "    </tr>\n",
       "    <tr>\n",
       "      <th>1.0</th>\n",
       "      <td>0</td>\n",
       "      <td>29</td>\n",
       "      <td>1355</td>\n",
       "    </tr>\n",
       "  </tbody>\n",
       "</table>\n",
       "</div>"
      ],
      "text/plain": [
       "EXP   -1.0   0.0   1.0\n",
       "FTGD                  \n",
       "-1.0   875    47     0\n",
       " 0.0     6   726    22\n",
       " 1.0     0    29  1355"
      ]
     },
     "execution_count": 38,
     "metadata": {},
     "output_type": "execute_result"
    }
   ],
   "source": [
    "# assign an expected score with probabilities\n",
    "def exp_score(x):\n",
    "    multiplier = np.array(range(-cutoff_GD, cutoff_GD+1))\n",
    "    return np.sum(np.array(x) * multiplier)\n",
    "\n",
    "# cross-tabulation for away-win (-1), draw (0) or home-win (1)\n",
    "performance_df = pd.concat([\n",
    "        label.iloc[:season15_end] + GD_min,\n",
    "        pd.Series(data=map(np.round, map(exp_score, predictions)), name='EXP', index=label.iloc[:season15_end].index)], axis=1)\n",
    "\n",
    "success_res_df = pd.crosstab(performance_df.loc[:, \"FTGD\"].apply(np.sign), performance_df.loc[:, \"EXP\"].apply(np.sign))\n",
    "print \"Success identifying H, D, A is \" + str(round(100. * np.trace(success_res_df)/season15_end,2)) + \" percent\"\n",
    "success_res_df"
   ]
  },
  {
   "cell_type": "markdown",
   "metadata": {},
   "source": [
    "As we can see, the expected result for ```win```, ```draw```, ```loss``` correctly classifies the outcome of the game in $\\approx 92\\%$ of the data set."
   ]
  },
  {
   "cell_type": "code",
   "execution_count": 39,
   "metadata": {
    "collapsed": false
   },
   "outputs": [
    {
     "name": "stdout",
     "output_type": "stream",
     "text": [
      "Success identifying GD is 79.08 percent\n"
     ]
    },
    {
     "data": {
      "text/html": [
       "<div>\n",
       "<table border=\"1\" class=\"dataframe\">\n",
       "  <thead>\n",
       "    <tr style=\"text-align: right;\">\n",
       "      <th>EXP</th>\n",
       "      <th>-3.0</th>\n",
       "      <th>-2.0</th>\n",
       "      <th>-1.0</th>\n",
       "      <th>-0.0</th>\n",
       "      <th>1.0</th>\n",
       "      <th>2.0</th>\n",
       "      <th>3.0</th>\n",
       "    </tr>\n",
       "    <tr>\n",
       "      <th>FTGD</th>\n",
       "      <th></th>\n",
       "      <th></th>\n",
       "      <th></th>\n",
       "      <th></th>\n",
       "      <th></th>\n",
       "      <th></th>\n",
       "      <th></th>\n",
       "    </tr>\n",
       "  </thead>\n",
       "  <tbody>\n",
       "    <tr>\n",
       "      <th>-3.0</th>\n",
       "      <td>75</td>\n",
       "      <td>95</td>\n",
       "      <td>8</td>\n",
       "      <td>0</td>\n",
       "      <td>0</td>\n",
       "      <td>0</td>\n",
       "      <td>0</td>\n",
       "    </tr>\n",
       "    <tr>\n",
       "      <th>-2.0</th>\n",
       "      <td>3</td>\n",
       "      <td>172</td>\n",
       "      <td>99</td>\n",
       "      <td>2</td>\n",
       "      <td>0</td>\n",
       "      <td>0</td>\n",
       "      <td>0</td>\n",
       "    </tr>\n",
       "    <tr>\n",
       "      <th>-1.0</th>\n",
       "      <td>0</td>\n",
       "      <td>38</td>\n",
       "      <td>385</td>\n",
       "      <td>45</td>\n",
       "      <td>0</td>\n",
       "      <td>0</td>\n",
       "      <td>0</td>\n",
       "    </tr>\n",
       "    <tr>\n",
       "      <th>0.0</th>\n",
       "      <td>0</td>\n",
       "      <td>0</td>\n",
       "      <td>6</td>\n",
       "      <td>726</td>\n",
       "      <td>21</td>\n",
       "      <td>1</td>\n",
       "      <td>0</td>\n",
       "    </tr>\n",
       "    <tr>\n",
       "      <th>1.0</th>\n",
       "      <td>0</td>\n",
       "      <td>0</td>\n",
       "      <td>0</td>\n",
       "      <td>29</td>\n",
       "      <td>568</td>\n",
       "      <td>15</td>\n",
       "      <td>0</td>\n",
       "    </tr>\n",
       "    <tr>\n",
       "      <th>2.0</th>\n",
       "      <td>0</td>\n",
       "      <td>0</td>\n",
       "      <td>0</td>\n",
       "      <td>0</td>\n",
       "      <td>97</td>\n",
       "      <td>315</td>\n",
       "      <td>3</td>\n",
       "    </tr>\n",
       "    <tr>\n",
       "      <th>3.0</th>\n",
       "      <td>0</td>\n",
       "      <td>0</td>\n",
       "      <td>0</td>\n",
       "      <td>0</td>\n",
       "      <td>2</td>\n",
       "      <td>176</td>\n",
       "      <td>179</td>\n",
       "    </tr>\n",
       "  </tbody>\n",
       "</table>\n",
       "</div>"
      ],
      "text/plain": [
       "EXP   -3.0  -2.0  -1.0  -0.0   1.0   2.0   3.0\n",
       "FTGD                                          \n",
       "-3.0    75    95     8     0     0     0     0\n",
       "-2.0     3   172    99     2     0     0     0\n",
       "-1.0     0    38   385    45     0     0     0\n",
       " 0.0     0     0     6   726    21     1     0\n",
       " 1.0     0     0     0    29   568    15     0\n",
       " 2.0     0     0     0     0    97   315     3\n",
       " 3.0     0     0     0     0     2   176   179"
      ]
     },
     "execution_count": 39,
     "metadata": {},
     "output_type": "execute_result"
    }
   ],
   "source": [
    "# cross-tabulation for exact goal differential\n",
    "\n",
    "success_df = pd.crosstab(performance_df.loc[:, \"FTGD\"], performance_df.loc[:, \"EXP\"])#, margins=True)\n",
    "exp_min = int(performance_df.loc[:, \"EXP\"].min())\n",
    "exp_max = int(performance_df.loc[:, \"EXP\"].max())\n",
    "print \"Success identifying GD is \" + str(round(np.sum([100.*success_df.ix[i,i] for i in range(exp_min,exp_max+1)])/season15_end,2)) + \" percent\"\n",
    "success_df"
   ]
  },
  {
   "cell_type": "markdown",
   "metadata": {},
   "source": [
    "On the other hand, the expected result with respect to the goal differential correctly classifies the outcome of the game in $\\approx 69\\%$ of the data set. \n",
    "Since the most important consequence of goal differential is the decision about win, draw, and loss, we consider mis-classification as long as the outcome of the game is correct, not important. \n",
    "\n",
    "In the following we make the following assumption: games for which our algorithm does not classify ```win```, ```draw```, and ```loss``` correctly are won by ```luck.``` Therefore we exclude all games which have been misclassified in this manner, and we make the algorithm fit outcomes again. We call this second model, ```model_noluck``` and compare it to the previus one."
   ]
  },
  {
   "cell_type": "code",
   "execution_count": 40,
   "metadata": {
    "collapsed": true
   },
   "outputs": [],
   "source": [
    "# 3 points for winning team, 1 point each for draw, 0 points for losing team\n",
    "def points(x):\n",
    "    if x > 0:\n",
    "        return 3\n",
    "    elif x == 0:\n",
    "        return 1\n",
    "    else:\n",
    "        return 0\n",
    "\n",
    "# Points assigned to teams according to actual and expected score (algorithm)\n",
    "performance_df.loc[:, \"FP\"] = performance_df.loc[:, \"FTGD\"].apply(points)\n",
    "performance_df.loc[:, \"EP\"] = performance_df.loc[:, \"EXP\"].apply(points)\n",
    "\n",
    "# Indicators if points and goal differential are different \n",
    "performance_df.loc[:, \"GD_err\"] = (performance_df.loc[:, \"FTGD\"] - performance_df.loc[:, \"EXP\"]).apply(np.abs)\n",
    "performance_df.loc[:, \"P_err\"] = (performance_df.loc[:, \"FP\"]-performance_df.loc[:, \"EP\"]).apply(np.sign).apply(np.abs)\n",
    "\n",
    "# All games which have been misclassified in outcome and only by one goal\n",
    "performance_df = performance_df.merge(\n",
    "    performance_df.query('(GD_err == 1) & (P_err == 1)').loc[:, \"P_err\"].to_frame().rename(columns={\"P_err\":\"Luck\"}),\n",
    "    left_index=True, right_index=True, how='left').fillna(0)"
   ]
  },
  {
   "cell_type": "code",
   "execution_count": 41,
   "metadata": {
    "collapsed": false
   },
   "outputs": [],
   "source": [
    "# Create data frame with only correctly predicted games and then learn on them\n",
    "feats_noluck = feats.merge(performance_df.loc[:, \"Luck\"].to_frame(), \n",
    "                           left_index=True, right_index=True, \n",
    "                           how='inner').query('Luck != 1').drop('Luck', axis=1)\n",
    "\n",
    "label = feats_import.loc[:, 'FTGD'].apply(min, args=(cutoff_GD,)).apply(max, args=(-cutoff_GD,)) + cutoff_GD\n",
    "\n",
    "GD_min = -cutoff_GD\n",
    "GD_max = +cutoff_GD\n",
    "GD_spread = GD_max-GD_min + 1\n",
    "\n",
    "\n",
    "label_noluck = label.to_frame().merge(feats_noluck, left_index=True, right_index=True).loc[:, 'FTGD']\n",
    "\n",
    "\n",
    "X_noluck = feats_noluck.ix[:season15_end].as_matrix()\n",
    "y_bare_noluck = map(int, label_noluck.ix[:season15_end].as_matrix())\n",
    "\n",
    "# input and output dimensions\n",
    "input_dim_noluck=X_noluck.shape[1]\n",
    "\n",
    "# categorical classification values\n",
    "Y_noluck = np_utils.to_categorical(y_bare_noluck, nb_classes)"
   ]
  },
  {
   "cell_type": "code",
   "execution_count": 42,
   "metadata": {
    "collapsed": false,
    "scrolled": true
   },
   "outputs": [
    {
     "name": "stdout",
     "output_type": "stream",
     "text": [
      "0.612031095825\n",
      "2944/2959 [============================>.] - ETA: 0s"
     ]
    }
   ],
   "source": [
    "### set up the deep neural net with Keras\n",
    "dropout_p = 0.4\n",
    "# initiate model\n",
    "model_noluck = Sequential()\n",
    "# add weights input_layer--hidden_layer 1\n",
    "model_noluck.add(Dense(50, input_dim=input_dim_noluck, init='lecun_uniform', activation='relu')) \n",
    "# dropout layer 1\n",
    "model_noluck.add(Dropout(dropout_p))\n",
    "# add hidden layer 2\n",
    "model_noluck.add(Dense(500, activation='relu'))\n",
    "# add hidden layer 3\n",
    "model_noluck.add(Dense(500, activation='relu'))\n",
    "# add hidden layer 4\n",
    "model_noluck.add(Dense(50, activation='relu'))\n",
    "# dropout layer 2\n",
    "model_noluck.add(Dropout(dropout_p))\n",
    "# output layer\n",
    "model_noluck.add(Dense(output_dim, activation='relu'))\n",
    "model_noluck.add(Activation('softmax'))\n",
    "### compile model\n",
    "model_noluck.compile(optimizer='adam',loss='categorical_crossentropy',metrics=['accuracy'])\n",
    "\n",
    "\n",
    "model_noluck.fit(X_noluck, Y_noluck, nb_epoch=nb_epoch, batch_size=batch_size, verbose=False)\n",
    "print model_noluck.evaluate(X_noluck, Y_noluck, batch_size=batch_size, verbose=False)[1]\n",
    "\n",
    "predictions_noluck = model_noluck.predict_proba(X_noluck)"
   ]
  },
  {
   "cell_type": "markdown",
   "metadata": {},
   "source": [
    "Obviously, now the algorithm will work much more precisely, by construction. <span style=\"color:red\">Does it really? Btw, this number 0.61 seems not to change if I re-run it..</span>"
   ]
  },
  {
   "cell_type": "code",
   "execution_count": 44,
   "metadata": {
    "collapsed": false
   },
   "outputs": [
    {
     "name": "stdout",
     "output_type": "stream",
     "text": [
      "Success identifying H, D, A is 88.51 percent\n"
     ]
    },
    {
     "data": {
      "text/html": [
       "<div>\n",
       "<table border=\"1\" class=\"dataframe\">\n",
       "  <thead>\n",
       "    <tr style=\"text-align: right;\">\n",
       "      <th>EXP</th>\n",
       "      <th>-1.0</th>\n",
       "      <th>0.0</th>\n",
       "      <th>1.0</th>\n",
       "    </tr>\n",
       "    <tr>\n",
       "      <th>FTGD</th>\n",
       "      <th></th>\n",
       "      <th></th>\n",
       "      <th></th>\n",
       "    </tr>\n",
       "  </thead>\n",
       "  <tbody>\n",
       "    <tr>\n",
       "      <th>-1.0</th>\n",
       "      <td>790</td>\n",
       "      <td>86</td>\n",
       "      <td>1</td>\n",
       "    </tr>\n",
       "    <tr>\n",
       "      <th>0.0</th>\n",
       "      <td>21</td>\n",
       "      <td>679</td>\n",
       "      <td>27</td>\n",
       "    </tr>\n",
       "    <tr>\n",
       "      <th>1.0</th>\n",
       "      <td>0</td>\n",
       "      <td>205</td>\n",
       "      <td>1150</td>\n",
       "    </tr>\n",
       "  </tbody>\n",
       "</table>\n",
       "</div>"
      ],
      "text/plain": [
       "EXP   -1.0   0.0   1.0\n",
       "FTGD                  \n",
       "-1.0   790    86     1\n",
       " 0.0    21   679    27\n",
       " 1.0     0   205  1150"
      ]
     },
     "execution_count": 44,
     "metadata": {},
     "output_type": "execute_result"
    }
   ],
   "source": [
    "performance_noluck_df = pd.concat([\n",
    "        (label_noluck.ix[:season15_end]-cutoff_GD).apply(min, args=(cutoff_GD,)).apply(max, args=(-cutoff_GD,)),\n",
    "        pd.Series(data=map(np.round, map(exp_score, predictions_noluck)), name='EXP', index=label_noluck.ix[:season15_end].index)], axis=1)\n",
    "success_noluck_res_df = pd.crosstab(performance_noluck_df.loc[:, \"FTGD\"].apply(np.sign), performance_noluck_df.loc[:, \"EXP\"].apply(np.sign))\n",
    "print \"Success identifying H, D, A is \" + str(round(100. * np.trace(success_noluck_res_df)/len(label_noluck.ix[:season15_end]),2)) + \" percent\"\n",
    "success_noluck_res_df"
   ]
  },
  {
   "cell_type": "markdown",
   "metadata": {
    "collapsed": true
   },
   "source": [
    "## Results <a class=\"anchor\" id=\"results\"></a>\n",
    "\n",
    "To check how much the neural network has learned and what the degree of overfittig is, it is necessary to test the model on new, previously unseen data -- the test data. \n",
    "\n",
    "As before, we begin by evaluating the multinomial logistic regression on the test data. We apply the log-reg model to predict outcomes of games played in the most recent season, our test data. We feed the features of the games and use the softmax output to calculate the expected goal differential."
   ]
  },
  {
   "cell_type": "code",
   "execution_count": 59,
   "metadata": {
    "collapsed": false
   },
   "outputs": [
    {
     "name": "stdout",
     "output_type": "stream",
     "text": [
      "('Test score:', 0.90412649866584294)\n",
      "('Test accuracy:', 0.65734265900992017)\n"
     ]
    }
   ],
   "source": [
    "log_reg_model.fit(X_test, Y_test, batch_size=batch_size, nb_epoch=nb_epoch,verbose=0) \n",
    "score_test = log_reg_model.evaluate(X_test, Y_test, verbose=0)\n",
    "\n",
    "print('Test score:', score_test[0]) \n",
    "print('Test accuracy:', score_test[1])"
   ]
  },
  {
   "cell_type": "markdown",
   "metadata": {},
   "source": [
    "Let us now check by how much these percentages improve, if we use the more sophisticated deep neural network:"
   ]
  },
  {
   "cell_type": "code",
   "execution_count": 45,
   "metadata": {
    "collapsed": false
   },
   "outputs": [
    {
     "name": "stdout",
     "output_type": "stream",
     "text": [
      "128/143 [=========================>....] - ETA: 0s\n",
      "\n",
      "Success identifying H, D, A is 86.71 percent\n"
     ]
    },
    {
     "data": {
      "text/html": [
       "<div>\n",
       "<table border=\"1\" class=\"dataframe\">\n",
       "  <thead>\n",
       "    <tr style=\"text-align: right;\">\n",
       "      <th>EXP</th>\n",
       "      <th>-1.0</th>\n",
       "      <th>0.0</th>\n",
       "      <th>1.0</th>\n",
       "    </tr>\n",
       "    <tr>\n",
       "      <th>FTGD</th>\n",
       "      <th></th>\n",
       "      <th></th>\n",
       "      <th></th>\n",
       "    </tr>\n",
       "  </thead>\n",
       "  <tbody>\n",
       "    <tr>\n",
       "      <th>-1.0</th>\n",
       "      <td>29</td>\n",
       "      <td>9</td>\n",
       "      <td>0</td>\n",
       "    </tr>\n",
       "    <tr>\n",
       "      <th>0.0</th>\n",
       "      <td>0</td>\n",
       "      <td>33</td>\n",
       "      <td>4</td>\n",
       "    </tr>\n",
       "    <tr>\n",
       "      <th>1.0</th>\n",
       "      <td>0</td>\n",
       "      <td>6</td>\n",
       "      <td>62</td>\n",
       "    </tr>\n",
       "  </tbody>\n",
       "</table>\n",
       "</div>"
      ],
      "text/plain": [
       "EXP   -1.0   0.0   1.0\n",
       "FTGD                  \n",
       "-1.0    29     9     0\n",
       " 0.0     0    33     4\n",
       " 1.0     0     6    62"
      ]
     },
     "execution_count": 45,
     "metadata": {},
     "output_type": "execute_result"
    }
   ],
   "source": [
    "predictions_new_season_noluck = model_noluck.predict_proba(X_test)\n",
    "print '\\n'\n",
    "\n",
    "\n",
    "performance_new_season_noluck_df = pd.concat([\n",
    "        feats_import.iloc[season15_end+1:,7].apply(min, args=(cutoff_GD,)).apply(max, args=(-cutoff_GD,)),\n",
    "        pd.Series(data=map(np.round, map(exp_score, predictions_new_season_noluck)), name='EXP', index=feats_import.iloc[season15_end+1:].index)], axis=1)\n",
    "success_new_season_noluck_res_df = pd.crosstab(performance_new_season_noluck_df.loc[:, \"FTGD\"].apply(np.sign), performance_new_season_noluck_df.loc[:, \"EXP\"].apply(np.sign))\n",
    "print \"Success identifying H, D, A is \" + str(round(100.* np.trace(success_new_season_noluck_res_df)/len(X_test),2)) + \" percent\"\n",
    "success_new_season_noluck_res_df"
   ]
  },
  {
   "cell_type": "markdown",
   "metadata": {},
   "source": [
    "While the neural network, dropping all ```lucky``` games, could correctly classify the outcome of more than $\\approx 98\\%$ of the games on the training set, the rate drops to $\\approx 86\\%$ percent on the test set. We assume that this is mostly due to games that have ended differently than expected. "
   ]
  },
  {
   "cell_type": "markdown",
   "metadata": {},
   "source": [
    "### Simulation of season 2016/17 <a class=\"anchor\" id=\"simulation\"></a>\n",
    "\n",
    "Let us now use our model to make a prediction on the ourcome of season 2016/17 using our models. Notice that this problem differs than the one above, in that we do not want to classify the outcomes by the goal differential, but rather find out the points each team shiuld have, had the games been played according to our model."
   ]
  },
  {
   "cell_type": "code",
   "execution_count": 47,
   "metadata": {
    "collapsed": true
   },
   "outputs": [],
   "source": [
    "# Define functions\n",
    "\n",
    "# Instead of finding the expected goal differential, we can find the expected points. \n",
    "def exp_score_cont(x):\n",
    "    multiplier = np.array([0, 0, 0, 1, 3, 3, 3])\n",
    "    return np.sum(np.array(x) * multiplier)\n",
    "\n",
    "# We have a cut-off at a goal differential of plus-minus 3. However, on average, plus-minus 3.6 goals are the GD\n",
    "# in games where the winning team scores at least 3 goals more.\n",
    "def exp_score_corr(x):\n",
    "    multiplier = np.array([-3.6, -2, -1, 0, 1, 2, 3.6])\n",
    "    return np.sum(np.array(x) * multiplier)"
   ]
  },
  {
   "cell_type": "code",
   "execution_count": 48,
   "metadata": {
    "collapsed": false,
    "scrolled": true
   },
   "outputs": [
    {
     "name": "stdout",
     "output_type": "stream",
     "text": [
      "9/9 [==============================] - 0s\n",
      "9/9 [==============================] - 0s\n",
      "9/9 [==============================] - 0s\n",
      "9/9 [==============================] - 0s\n",
      "9/9 [==============================] - 0s\n",
      "9/9 [==============================] - 0s\n",
      "9/9 [==============================] - 0s\n",
      "9/9 [==============================] - 0s\n",
      "9/9 [==============================] - 0s\n",
      "9/9 [==============================] - 0s\n",
      "9/9 [==============================] - 0s\n",
      "9/9 [==============================] - 0s\n",
      "9/9 [==============================] - 0s\n",
      "9/9 [==============================] - 0s\n",
      "9/9 [==============================] - 0s\n",
      "9/9 [==============================] - 0s\n"
     ]
    }
   ],
   "source": [
    "# Write new DataFrame to store the games and the expected outcome including points.\n",
    "simulated_season = pd.DataFrame(data=None, columns=['Gameday', 'TID_H', 'TID_A', 'GD', 'EP_H', 'EP_A'])\n",
    "\n",
    "for gd in range(1, 17): # loop over gamedays\n",
    "    # new_feats_import is raw data for season 2016\n",
    "    new_feats_import_df = feats_import.loc[(feats_import['Season']==2016) & (feats_import['Gameday']==gd)]\n",
    "\n",
    "    # Copy the feats from the actual data\n",
    "    new_feats_df = new_feats_import_df.drop(['Season', 'Gameday', u'Link', u'TName_H', u'TName_A', 'Odds'], axis=1).drop('FTGD', axis=1)\n",
    "    new_feats_df.loc[:, 'HTGD'] = new_feats_df.loc[:, 'HTGD'].apply(min, args=(cutoff_GD,)).apply(max, args=(-cutoff_GD,)) + cutoff_GD\n",
    "\n",
    "    # On Gameday 1, we use 0.5 for the last points.\n",
    "    # For later gamedays, we use the actual results from the simulated season.\n",
    "    if gd > 1:\n",
    "        new_feats_df.ix[:, \"HP3\"] = last_game.ix[:, \"P_H\"].tolist()\n",
    "        new_feats_df.ix[:, \"AP3\"] = last_game.ix[:, \"P_A\"].tolist()\n",
    "\n",
    "    \n",
    "    # Vectors to feed to neural network\n",
    "    X_test_gameday = new_feats_df.drop([u'TID_H', u'TID_A'], axis=1).as_matrix() / norm\n",
    "    y_bare_test_gameday = map(int, label.iloc[season15_end+(gd-1)*9:season15_end+(gd*9)].as_matrix())\n",
    "    \n",
    "    Y_test_gameday = np_utils.to_categorical(y_bare_test_gameday, nb_classes)\n",
    "    \n",
    "\n",
    "    # Score games\n",
    "    predictions_new_gameday = model.predict_proba(X_test_gameday)\n",
    "\n",
    "    # Write data\n",
    "    data = np.array([np.array([gd for _ in range(9)]),\n",
    "    new_feats_import_df.loc[:, 'TID_H'].tolist(),\n",
    "    new_feats_import_df.loc[:, 'TID_A'].tolist(),\n",
    "    map(exp_score_corr, predictions_new_gameday),\n",
    "    map(exp_score_cont, predictions_new_gameday),\n",
    "    map(exp_score_cont, np.fliplr(predictions_new_gameday))]).T\n",
    "\n",
    "    # simulated_df is a running DataFrame containing all matches of the season.\n",
    "    simulated_df = pd.DataFrame(data=data, columns=['Gameday', 'TID_H', 'TID_A', 'GD', 'EP_H', 'EP_A'])\n",
    "    simulated_df = pd.merge(simulated_df, new_feats_import_df.loc[:, [\"Gameday\", \"TID_H\", \"FTGD\"]], left_on=[\"Gameday\", \"TID_H\"], right_on=[\"Gameday\", \"TID_H\"])\n",
    "\n",
    "    simulated_season = simulated_season.append(simulated_df, ignore_index=True)\n",
    "\n",
    "    # Assign points according to rounded expected goal differential\n",
    "    simulated_df.loc[:, \"P_H\"] = simulated_df.loc[:, \"GD\"].apply(np.round).apply(points)\n",
    "    simulated_df.loc[:, \"P_A\"] = (-simulated_df.loc[:, \"GD\"]).apply(np.round).apply(points)\n",
    "\n",
    "    if gd == 1:\n",
    "        simulated_df.loc[:, ['TID_H', 'P_H']].set_index('TID_H').rename(columns={'P_H':'P' + str(gd)})\n",
    "        # Write standings into a DataFrame for Gameday 1\n",
    "        standings = pd.DataFrame(pd.concat([1./3 * simulated_df.loc[:, ['TID_H', 'P_H']].set_index('TID_H').rename(columns={'P_H':'P' + str(gd)}), \n",
    "                                            1./3 * simulated_df.loc[:, ['TID_A', 'P_A']].set_index('TID_A').rename(columns={'P_A':'P' + str(gd)})])).sort_index()\n",
    "    else:\n",
    "        standings = pd.concat(\n",
    "            [standings,\n",
    "             pd.concat([1./3 * simulated_df.loc[:, ['TID_H', 'P_H']].set_index('TID_H').rename(columns={'P_H':'P'}), \n",
    "                        1./3 * simulated_df.loc[:, ['TID_A', 'P_A']].set_index('TID_A').rename(columns={'P_A':'P'})]).sort_index().rename(columns={\"P\": \"P\" + str(gd)})],\n",
    "            axis=1)\n",
    "\n",
    "\n",
    "    # Since the performance in the last 3 games is an input to the neural net, keep track of last game.\n",
    "    last_game = pd.concat([pd.merge(new_feats_df.loc[:, [\"TID_H\", \"HP3\"]], standings.loc[:, \"P\" + str(gd)].to_frame(), how='inner', left_on=\"TID_H\", right_index=True),\n",
    "                           pd.merge(new_feats_df.loc[:, [\"TID_A\", \"AP3\"]], standings.loc[:, \"P\" + str(gd)].to_frame(), how='inner', left_on=\"TID_A\", right_index=True)],\n",
    "                          axis=1)\n",
    "\n",
    "    last_game.columns = [u'TID_H', u'HP3', u'P_H', u'TID_A', u'AP3', u'P_A']\n",
    "    \n",
    "    new_feats_df.loc[:, \"HP3\"] = last_game.loc[:, \"P_H\"].tolist()\n",
    "    new_feats_df.loc[:, \"AP3\"] = last_game.loc[:, \"P_A\"].tolist()"
   ]
  },
  {
   "cell_type": "code",
   "execution_count": 49,
   "metadata": {
    "collapsed": false
   },
   "outputs": [],
   "source": [
    "# compute real-life table/standing from goal difference (using discrete scale)\n",
    "standings2016 = feats_import.loc[feats_import['Season']==2016, ['Season', 'Gameday', 'TID_H', 'TID_A', 'FTGD']]\n",
    "standings2016.loc[:, \"P_H\"] = standings2016.loc[:, \"FTGD\"].apply(points)\n",
    "standings2016.loc[:, \"P_A\"] = (-standings2016.loc[:, \"FTGD\"]).apply(points)\n",
    "standings2016 = pd.merge(\n",
    "    standings2016.loc[:, [\"TID_H\", \"P_H\"]].groupby('TID_H').sum(),\n",
    "    standings2016.loc[:, [\"TID_A\", \"P_A\"]].groupby('TID_A').sum(), left_index=True, right_index=True)\n",
    "standings2016 = standings2016.loc[:, 'P_H'] + standings2016.loc[:, 'P_A']\n",
    "# compute real-life table/standing according to probabilities from deep neural net (using continuous scale)\n",
    "standings2 = pd.merge(\n",
    "    simulated_season.loc[:, [\"TID_H\", \"EP_H\"]].groupby(\"TID_H\").sum(),\n",
    "    simulated_season.loc[:, [\"TID_A\", \"EP_A\"]].groupby(\"TID_A\").sum(),\n",
    "    left_index=True, right_index=True)\n",
    "standings2 = standings2.loc[:, \"EP_H\"] + standings2.loc[:, \"EP_A\"]"
   ]
  },
  {
   "cell_type": "code",
   "execution_count": 50,
   "metadata": {
    "collapsed": false,
    "scrolled": false
   },
   "outputs": [
    {
     "data": {
      "text/html": [
       "<div>\n",
       "<table border=\"1\" class=\"dataframe\">\n",
       "  <thead>\n",
       "    <tr style=\"text-align: right;\">\n",
       "      <th></th>\n",
       "      <th>TName</th>\n",
       "      <th>P</th>\n",
       "      <th>DEP</th>\n",
       "      <th>CEP</th>\n",
       "    </tr>\n",
       "  </thead>\n",
       "  <tbody>\n",
       "    <tr>\n",
       "      <th>0</th>\n",
       "      <td>Bayern Munich</td>\n",
       "      <td>39</td>\n",
       "      <td>39.0</td>\n",
       "      <td>37.160697</td>\n",
       "    </tr>\n",
       "    <tr>\n",
       "      <th>1</th>\n",
       "      <td>RB Leipzig</td>\n",
       "      <td>36</td>\n",
       "      <td>35.0</td>\n",
       "      <td>34.131162</td>\n",
       "    </tr>\n",
       "    <tr>\n",
       "      <th>2</th>\n",
       "      <td>Hoffenheim</td>\n",
       "      <td>28</td>\n",
       "      <td>32.0</td>\n",
       "      <td>30.619541</td>\n",
       "    </tr>\n",
       "    <tr>\n",
       "      <th>3</th>\n",
       "      <td>Hertha</td>\n",
       "      <td>30</td>\n",
       "      <td>28.0</td>\n",
       "      <td>28.555335</td>\n",
       "    </tr>\n",
       "    <tr>\n",
       "      <th>4</th>\n",
       "      <td>Ein Frankfurt</td>\n",
       "      <td>29</td>\n",
       "      <td>27.0</td>\n",
       "      <td>26.903760</td>\n",
       "    </tr>\n",
       "    <tr>\n",
       "      <th>5</th>\n",
       "      <td>Freiburg</td>\n",
       "      <td>23</td>\n",
       "      <td>23.0</td>\n",
       "      <td>21.533779</td>\n",
       "    </tr>\n",
       "    <tr>\n",
       "      <th>6</th>\n",
       "      <td>Dortmund</td>\n",
       "      <td>27</td>\n",
       "      <td>22.0</td>\n",
       "      <td>23.531711</td>\n",
       "    </tr>\n",
       "    <tr>\n",
       "      <th>7</th>\n",
       "      <td>FC Koln</td>\n",
       "      <td>25</td>\n",
       "      <td>22.0</td>\n",
       "      <td>23.274778</td>\n",
       "    </tr>\n",
       "    <tr>\n",
       "      <th>8</th>\n",
       "      <td>Leverkusen</td>\n",
       "      <td>21</td>\n",
       "      <td>22.0</td>\n",
       "      <td>21.175540</td>\n",
       "    </tr>\n",
       "    <tr>\n",
       "      <th>9</th>\n",
       "      <td>Augsburg</td>\n",
       "      <td>18</td>\n",
       "      <td>20.0</td>\n",
       "      <td>18.356207</td>\n",
       "    </tr>\n",
       "    <tr>\n",
       "      <th>10</th>\n",
       "      <td>Schalke 04</td>\n",
       "      <td>18</td>\n",
       "      <td>19.0</td>\n",
       "      <td>20.374155</td>\n",
       "    </tr>\n",
       "    <tr>\n",
       "      <th>11</th>\n",
       "      <td>Mainz</td>\n",
       "      <td>20</td>\n",
       "      <td>19.0</td>\n",
       "      <td>19.320578</td>\n",
       "    </tr>\n",
       "    <tr>\n",
       "      <th>12</th>\n",
       "      <td>Werder Bremen</td>\n",
       "      <td>16</td>\n",
       "      <td>19.0</td>\n",
       "      <td>18.554115</td>\n",
       "    </tr>\n",
       "    <tr>\n",
       "      <th>13</th>\n",
       "      <td>M'gladbach</td>\n",
       "      <td>16</td>\n",
       "      <td>18.0</td>\n",
       "      <td>17.043676</td>\n",
       "    </tr>\n",
       "    <tr>\n",
       "      <th>14</th>\n",
       "      <td>Wolfsburg</td>\n",
       "      <td>16</td>\n",
       "      <td>18.0</td>\n",
       "      <td>16.002537</td>\n",
       "    </tr>\n",
       "    <tr>\n",
       "      <th>15</th>\n",
       "      <td>Ingolstadt</td>\n",
       "      <td>12</td>\n",
       "      <td>16.0</td>\n",
       "      <td>15.242688</td>\n",
       "    </tr>\n",
       "    <tr>\n",
       "      <th>16</th>\n",
       "      <td>Hamburg</td>\n",
       "      <td>13</td>\n",
       "      <td>11.0</td>\n",
       "      <td>12.917818</td>\n",
       "    </tr>\n",
       "    <tr>\n",
       "      <th>17</th>\n",
       "      <td>Darmstadt</td>\n",
       "      <td>8</td>\n",
       "      <td>8.0</td>\n",
       "      <td>9.161493</td>\n",
       "    </tr>\n",
       "  </tbody>\n",
       "</table>\n",
       "</div>"
      ],
      "text/plain": [
       "             TName   P   DEP        CEP\n",
       "0    Bayern Munich  39  39.0  37.160697\n",
       "1       RB Leipzig  36  35.0  34.131162\n",
       "2       Hoffenheim  28  32.0  30.619541\n",
       "3           Hertha  30  28.0  28.555335\n",
       "4    Ein Frankfurt  29  27.0  26.903760\n",
       "5         Freiburg  23  23.0  21.533779\n",
       "6         Dortmund  27  22.0  23.531711\n",
       "7          FC Koln  25  22.0  23.274778\n",
       "8       Leverkusen  21  22.0  21.175540\n",
       "9         Augsburg  18  20.0  18.356207\n",
       "10      Schalke 04  18  19.0  20.374155\n",
       "11           Mainz  20  19.0  19.320578\n",
       "12   Werder Bremen  16  19.0  18.554115\n",
       "13      M'gladbach  16  18.0  17.043676\n",
       "14       Wolfsburg  16  18.0  16.002537\n",
       "15      Ingolstadt  12  16.0  15.242688\n",
       "16         Hamburg  13  11.0  12.917818\n",
       "17       Darmstadt   8   8.0   9.161493"
      ]
     },
     "execution_count": 50,
     "metadata": {},
     "output_type": "execute_result"
    }
   ],
   "source": [
    "# compare predictions\n",
    "teams_df = pd.read_csv('Team_ID_hardcoded.csv')\n",
    "\n",
    "standings_comparison = \\\n",
    "pd.concat([\n",
    "        pd.merge(\n",
    "            teams_df.loc[:, ['TID', 'TName']].set_index(\"TID\"),\n",
    "            3*standings.T.apply(np.sum).rename('P').to_frame(),\n",
    "            left_index=True, right_index=True).sort_values(\"P\", ascending=False),\n",
    "        standings2016,\n",
    "        standings2],\n",
    "        axis=1)\n",
    "standings_comparison.columns = [\"TName\", \"DEP\", \"P\", \"CEP\"]\n",
    "standings_comparison.loc[:, [\"TName\", \"P\", \"DEP\", \"CEP\"]].sort_values([\"DEP\", \"CEP\"], ascending=False).reset_index(drop=True)"
   ]
  },
  {
   "cell_type": "code",
   "execution_count": null,
   "metadata": {
    "collapsed": true
   },
   "outputs": [],
   "source": []
  }
 ],
 "metadata": {
  "anaconda-cloud": {},
  "kernelspec": {
   "display_name": "Python [Root]",
   "language": "python",
   "name": "Python [Root]"
  },
  "language_info": {
   "codemirror_mode": {
    "name": "ipython",
    "version": 2
   },
   "file_extension": ".py",
   "mimetype": "text/x-python",
   "name": "python",
   "nbconvert_exporter": "python",
   "pygments_lexer": "ipython2",
   "version": "2.7.12"
  }
 },
 "nbformat": 4,
 "nbformat_minor": 0
}
