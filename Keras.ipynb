{
 "cells": [
  {
   "cell_type": "code",
   "execution_count": 2,
   "metadata": {
    "collapsed": false
   },
   "outputs": [
    {
     "name": "stderr",
     "output_type": "stream",
     "text": [
      "Using Theano backend.\n"
     ]
    }
   ],
   "source": [
    "from keras.models import Sequential\n",
    "from keras.layers import Dense, Activation, Dropout\n",
    "from keras.wrappers.scikit_learn import KerasClassifier\n",
    "from keras.utils import np_utils\n",
    "\n",
    "import sklearn\n",
    "from sklearn.preprocessing import LabelEncoder\n",
    "from sklearn.pipeline import Pipeline\n",
    "\n",
    "import pandas as pd\n",
    "import numpy as np"
   ]
  },
  {
   "cell_type": "code",
   "execution_count": 3,
   "metadata": {
    "collapsed": false
   },
   "outputs": [],
   "source": [
    "from sklearn.model_selection import cross_val_score\n",
    "from sklearn.model_selection import KFold\n",
    "\n",
    "from matplotlib import pyplot as plt\n",
    "%matplotlib inline"
   ]
  },
  {
   "cell_type": "code",
   "execution_count": 4,
   "metadata": {
    "collapsed": false,
    "scrolled": true
   },
   "outputs": [
    {
     "name": "stdout",
     "output_type": "stream",
     "text": [
      "Reshape successful\n"
     ]
    },
    {
     "data": {
      "text/html": [
       "<div>\n",
       "<table border=\"1\" class=\"dataframe\">\n",
       "  <thead>\n",
       "    <tr style=\"text-align: right;\">\n",
       "      <th></th>\n",
       "      <th>Season</th>\n",
       "      <th>Gameday</th>\n",
       "      <th>GoalsH</th>\n",
       "      <th>CornersH</th>\n",
       "      <th>ChancesH</th>\n",
       "      <th>GoalsA</th>\n",
       "      <th>CornersA</th>\n",
       "      <th>ChancesA</th>\n",
       "      <th>Attendance</th>\n",
       "      <th>TID_H</th>\n",
       "      <th>...</th>\n",
       "      <th>AY</th>\n",
       "      <th>HR</th>\n",
       "      <th>AR</th>\n",
       "      <th>HGA</th>\n",
       "      <th>AGA</th>\n",
       "      <th>FTGD</th>\n",
       "      <th>HTGD</th>\n",
       "      <th>Odds</th>\n",
       "      <th>HP3</th>\n",
       "      <th>AP3</th>\n",
       "    </tr>\n",
       "  </thead>\n",
       "  <tbody>\n",
       "    <tr>\n",
       "      <th>0</th>\n",
       "      <td>2006.0</td>\n",
       "      <td>1.0</td>\n",
       "      <td>0.0</td>\n",
       "      <td>5.0</td>\n",
       "      <td>4.0</td>\n",
       "      <td>3.0</td>\n",
       "      <td>6.0</td>\n",
       "      <td>6.0</td>\n",
       "      <td>0.690265</td>\n",
       "      <td>6</td>\n",
       "      <td>...</td>\n",
       "      <td>2.0</td>\n",
       "      <td>0.0</td>\n",
       "      <td>0.0</td>\n",
       "      <td>0.309091</td>\n",
       "      <td>0.727273</td>\n",
       "      <td>-3.0</td>\n",
       "      <td>-2.0</td>\n",
       "      <td>0.656250</td>\n",
       "      <td>0.5</td>\n",
       "      <td>0.5</td>\n",
       "    </tr>\n",
       "    <tr>\n",
       "      <th>1</th>\n",
       "      <td>2006.0</td>\n",
       "      <td>1.0</td>\n",
       "      <td>1.0</td>\n",
       "      <td>11.0</td>\n",
       "      <td>9.0</td>\n",
       "      <td>1.0</td>\n",
       "      <td>2.0</td>\n",
       "      <td>4.0</td>\n",
       "      <td>0.914316</td>\n",
       "      <td>1</td>\n",
       "      <td>...</td>\n",
       "      <td>2.0</td>\n",
       "      <td>0.0</td>\n",
       "      <td>0.0</td>\n",
       "      <td>0.363636</td>\n",
       "      <td>0.490909</td>\n",
       "      <td>0.0</td>\n",
       "      <td>-1.0</td>\n",
       "      <td>0.819444</td>\n",
       "      <td>0.5</td>\n",
       "      <td>0.5</td>\n",
       "    </tr>\n",
       "    <tr>\n",
       "      <th>2</th>\n",
       "      <td>2006.0</td>\n",
       "      <td>1.0</td>\n",
       "      <td>2.0</td>\n",
       "      <td>4.0</td>\n",
       "      <td>7.0</td>\n",
       "      <td>0.0</td>\n",
       "      <td>4.0</td>\n",
       "      <td>7.0</td>\n",
       "      <td>1.000000</td>\n",
       "      <td>0</td>\n",
       "      <td>...</td>\n",
       "      <td>2.0</td>\n",
       "      <td>0.0</td>\n",
       "      <td>0.0</td>\n",
       "      <td>0.654545</td>\n",
       "      <td>0.381818</td>\n",
       "      <td>2.0</td>\n",
       "      <td>1.0</td>\n",
       "      <td>0.775832</td>\n",
       "      <td>0.5</td>\n",
       "      <td>0.5</td>\n",
       "    </tr>\n",
       "    <tr>\n",
       "      <th>3</th>\n",
       "      <td>2006.0</td>\n",
       "      <td>1.0</td>\n",
       "      <td>2.0</td>\n",
       "      <td>3.0</td>\n",
       "      <td>6.0</td>\n",
       "      <td>0.0</td>\n",
       "      <td>5.0</td>\n",
       "      <td>6.0</td>\n",
       "      <td>0.881092</td>\n",
       "      <td>4</td>\n",
       "      <td>...</td>\n",
       "      <td>4.0</td>\n",
       "      <td>0.0</td>\n",
       "      <td>1.0</td>\n",
       "      <td>0.545455</td>\n",
       "      <td>0.427273</td>\n",
       "      <td>2.0</td>\n",
       "      <td>0.0</td>\n",
       "      <td>0.760007</td>\n",
       "      <td>0.5</td>\n",
       "      <td>0.5</td>\n",
       "    </tr>\n",
       "    <tr>\n",
       "      <th>4</th>\n",
       "      <td>2006.0</td>\n",
       "      <td>1.0</td>\n",
       "      <td>1.0</td>\n",
       "      <td>7.0</td>\n",
       "      <td>9.0</td>\n",
       "      <td>1.0</td>\n",
       "      <td>5.0</td>\n",
       "      <td>2.0</td>\n",
       "      <td>1.000000</td>\n",
       "      <td>5</td>\n",
       "      <td>...</td>\n",
       "      <td>2.0</td>\n",
       "      <td>0.0</td>\n",
       "      <td>0.0</td>\n",
       "      <td>0.581818</td>\n",
       "      <td>0.363636</td>\n",
       "      <td>0.0</td>\n",
       "      <td>1.0</td>\n",
       "      <td>0.819444</td>\n",
       "      <td>0.5</td>\n",
       "      <td>0.5</td>\n",
       "    </tr>\n",
       "  </tbody>\n",
       "</table>\n",
       "<p>5 rows × 32 columns</p>\n",
       "</div>"
      ],
      "text/plain": [
       "   Season  Gameday  GoalsH  CornersH  ChancesH  GoalsA  CornersA  ChancesA  \\\n",
       "0  2006.0      1.0     0.0       5.0       4.0     3.0       6.0       6.0   \n",
       "1  2006.0      1.0     1.0      11.0       9.0     1.0       2.0       4.0   \n",
       "2  2006.0      1.0     2.0       4.0       7.0     0.0       4.0       7.0   \n",
       "3  2006.0      1.0     2.0       3.0       6.0     0.0       5.0       6.0   \n",
       "4  2006.0      1.0     1.0       7.0       9.0     1.0       5.0       2.0   \n",
       "\n",
       "   Attendance  TID_H ...    AY   HR   AR       HGA       AGA  FTGD  HTGD  \\\n",
       "0    0.690265      6 ...   2.0  0.0  0.0  0.309091  0.727273  -3.0  -2.0   \n",
       "1    0.914316      1 ...   2.0  0.0  0.0  0.363636  0.490909   0.0  -1.0   \n",
       "2    1.000000      0 ...   2.0  0.0  0.0  0.654545  0.381818   2.0   1.0   \n",
       "3    0.881092      4 ...   4.0  0.0  1.0  0.545455  0.427273   2.0   0.0   \n",
       "4    1.000000      5 ...   2.0  0.0  0.0  0.581818  0.363636   0.0   1.0   \n",
       "\n",
       "       Odds  HP3  AP3  \n",
       "0  0.656250  0.5  0.5  \n",
       "1  0.819444  0.5  0.5  \n",
       "2  0.775832  0.5  0.5  \n",
       "3  0.760007  0.5  0.5  \n",
       "4  0.819444  0.5  0.5  \n",
       "\n",
       "[5 rows x 32 columns]"
      ]
     },
     "execution_count": 4,
     "metadata": {},
     "output_type": "execute_result"
    }
   ],
   "source": [
    "feats_import = pd.read_csv('Full_Data_2006_2016.csv')\n",
    "try:\n",
    "    feats_import = feats_import.drop(['Unnamed: 0'], axis=1)\n",
    "    print \"Reshape successful\"\n",
    "except:\n",
    "    print \"Successful import\"\n",
    "feats_import.head()"
   ]
  },
  {
   "cell_type": "code",
   "execution_count": 24,
   "metadata": {
    "collapsed": false,
    "scrolled": false
   },
   "outputs": [
    {
     "data": {
      "text/plain": [
       "<matplotlib.axes._subplots.AxesSubplot at 0x1197e52d0>"
      ]
     },
     "execution_count": 24,
     "metadata": {},
     "output_type": "execute_result"
    },
    {
     "data": {
      "image/png": "[encoded data removed]",
      "text/plain": [
       "<matplotlib.figure.Figure at 0x119bfd810>"
      ]
     },
     "metadata": {},
     "output_type": "display_data"
    }
   ],
   "source": [
    "feats_import.loc[:, 'ChancesH'].plot(kind='hist', bins=int(max(feats_import.loc[:, 'ChancesH'])))"
   ]
  },
  {
   "cell_type": "code",
   "execution_count": 25,
   "metadata": {
    "collapsed": false,
    "scrolled": false
   },
   "outputs": [
    {
     "data": {
      "text/plain": [
       "<matplotlib.axes._subplots.AxesSubplot at 0x118b24850>"
      ]
     },
     "execution_count": 25,
     "metadata": {},
     "output_type": "execute_result"
    },
    {
     "data": {
      "image/png": "[encoded data removed]",
      "text/plain": [
       "<matplotlib.figure.Figure at 0x119d4a350>"
      ]
     },
     "metadata": {},
     "output_type": "display_data"
    }
   ],
   "source": [
    "feats_import.loc[:, 'ChancesA'].plot(kind='hist', bins=int(max(feats_import.loc[:, 'ChancesA'])))"
   ]
  },
  {
   "cell_type": "code",
   "execution_count": 37,
   "metadata": {
    "collapsed": false
   },
   "outputs": [
    {
     "data": {
      "text/plain": [
       "<matplotlib.axes._subplots.AxesSubplot at 0x11d0c8910>"
      ]
     },
     "execution_count": 37,
     "metadata": {},
     "output_type": "execute_result"
    },
    {
     "data": {
      "image/png": "[encoded data removed]",
      "text/plain": [
       "<matplotlib.figure.Figure at 0x11c719e10>"
      ]
     },
     "metadata": {},
     "output_type": "display_data"
    }
   ],
   "source": [
    "feats_import.loc[feats_import['Attendance']<1, 'Attendance'].plot(kind='hist', bins=40)"
   ]
  },
  {
   "cell_type": "code",
   "execution_count": 31,
   "metadata": {
    "collapsed": false,
    "scrolled": true
   },
   "outputs": [
    {
     "data": {
      "text/plain": [
       "<matplotlib.axes._subplots.AxesSubplot at 0x11b29ca10>"
      ]
     },
     "execution_count": 31,
     "metadata": {},
     "output_type": "execute_result"
    },
    {
     "data": {
      "image/png": "[encoded data removed]",
      "text/plain": [
       "<matplotlib.figure.Figure at 0x11b0a0350>"
      ]
     },
     "metadata": {},
     "output_type": "display_data"
    }
   ],
   "source": [
    "feats_import.loc[:, 'HS'].plot(kind='hist', bins=int(max(feats_import.loc[:, 'HS'])))"
   ]
  },
  {
   "cell_type": "code",
   "execution_count": null,
   "metadata": {
    "collapsed": true
   },
   "outputs": [],
   "source": []
  },
  {
   "cell_type": "code",
   "execution_count": 16,
   "metadata": {
    "collapsed": false
   },
   "outputs": [],
   "source": [
    "# Test dropping out certain features, outdated. \n",
    "\n",
    "# kfold = KFold(n_splits=10, shuffle=True)\n",
    "\n",
    "# performance_list = []\n",
    "# for i in range(1,21,2):\n",
    "#     if i<3:\n",
    "#         continue\n",
    "#     np.random.seed(7)\n",
    "#     X_vary = np.delete(X,(i,i+1),1)\n",
    "    \n",
    "#     def baseline_model():\n",
    "#         model = Sequential()\n",
    "#         model.add(Dense(40, input_dim=len(X_vary[0]), init='uniform', activation='relu')) \n",
    "#         # model.add(Dropout(0.3))\n",
    "#         model.add(Dense(20, activation='sigmoid'))\n",
    "#         model.add(Dense(80, activation='relu'))\n",
    "#         model.add(Dense(2*cutoff_GD+1, activation='sigmoid'))\n",
    "\n",
    "#         model.compile(optimizer='adam',\n",
    "#                       loss='categorical_crossentropy',\n",
    "#                       metrics=['accuracy'])\n",
    "#         return model\n",
    "#     estimator = KerasClassifier(build_fn=baseline_model, nb_epoch=20, batch_size=20, verbose=0)\n",
    "    \n",
    "#     results = cross_val_score(estimator, X_vary, y, cv=kfold)\n",
    "#     print feats.columns[i:i+2]\n",
    "#     print [i, 100*results.mean(), 100*results.std()]\n",
    "#     performance_list += [i, 100*results.mean(), 100*results.std()]\n"
   ]
  },
  {
   "cell_type": "code",
   "execution_count": 17,
   "metadata": {
    "collapsed": true
   },
   "outputs": [],
   "source": [
    "# Outdated\n",
    "\n",
    "# np.random.seed(7)\n",
    "# X_vary = X\n",
    "\n",
    "# def baseline_model():\n",
    "#     model = Sequential()\n",
    "#     model.add(Dense(40, input_dim=len(X_vary[0]), init='lecun_uniform', activation='relu')) \n",
    "#     model.add(Dense(20, activation='relu'))\n",
    "#     model.add(Dense(2*cutoff_GD+1, activation='sigmoid'))\n",
    "#     model.add(Activation('softmax'))\n",
    "\n",
    "#     model.compile(optimizer='adam',\n",
    "#                   loss='categorical_crossentropy',\n",
    "#                   metrics=['accuracy'])\n",
    "#     return model\n",
    "# estimator = KerasClassifier(build_fn=baseline_model, nb_epoch=100, batch_size=10, verbose=0)\n",
    "\n",
    "# results = cross_val_score(estimator, X_vary, y)\n",
    "# print 100*results.mean(), 100*results.std()"
   ]
  },
  {
   "cell_type": "code",
   "execution_count": 69,
   "metadata": {
    "collapsed": true
   },
   "outputs": [],
   "source": [
    "teams_df = pd.read_csv('Team_ID_hardcoded.csv')"
   ]
  },
  {
   "cell_type": "code",
   "execution_count": 57,
   "metadata": {
    "collapsed": false,
    "scrolled": true
   },
   "outputs": [],
   "source": [
    "\n"
   ]
  },
  {
   "cell_type": "code",
   "execution_count": 63,
   "metadata": {
    "collapsed": false
   },
   "outputs": [
    {
     "data": {
      "text/plain": [
       "Index([u'ChancesH', u'ChancesA', u'Attendance', u'FTHG', u'HTHG', u'HS', u'AS',\n",
       "       u'HST', u'AST', u'HF', u'AF', u'HC', u'AC', u'HY', u'AY', u'HR', u'AR',\n",
       "       u'HGA', u'AGA', u'FTGD', u'HTGD', u'Odds', u'HP3', u'AP3'],\n",
       "      dtype='object')"
      ]
     },
     "execution_count": 63,
     "metadata": {},
     "output_type": "execute_result"
    }
   ],
   "source": [
    "feats.columns"
   ]
  },
  {
   "cell_type": "code",
   "execution_count": 206,
   "metadata": {
    "collapsed": false,
    "scrolled": true
   },
   "outputs": [],
   "source": [
    "# Goal differential Cut-off.\n",
    "cutoff_GD = 3\n",
    "\n",
    "feats = feats_import.drop(['Season', 'Gameday', 'TID_H', 'TID_A', 'GoalsH', 'GoalsA', \"CornersH\", \"CornersA\", \"Odds\"], axis=1).drop('FTGD', axis=1)\n",
    "feats.loc[:, 'HTGD'] = feats_import.loc[:, 'HTGD'].apply(min, args=(cutoff_GD,)).apply(max, args=(-cutoff_GD,)) + cutoff_GD\n",
    "\n",
    "label = feats_import.loc[:, 'FTGD'].apply(min, args=(cutoff_GD,)).apply(max, args=(-cutoff_GD,)) + cutoff_GD\n",
    "\n",
    "GD_min = -cutoff_GD\n",
    "GD_max = +cutoff_GD\n",
    "GD_spread = GD_max-GD_min + 1\n",
    "\n",
    "\n",
    "# Different norms because I played around with different columns\n",
    "norm = [22, 22, 1, 9, 5, 36, 36, 36, 33, 35, 35, 20, 20, 11, 11, 4, 4, 1, 1, GD_spread-1, 1, 1]\n",
    "#norm = [9, 5, 36, 36, 36, 33, 35, 35, 20, 20, 1, 1, GD_spread-1, 1, 1, 1]\n",
    "#norm = [9, 5, 36, 36, 36, 33, 35, 35, 20, 20, 11, 11, 4, 4, GD_spread-1, 1, 1, 1]\n",
    "\n",
    "feats = feats/norm\n",
    "\n",
    "season15_end = feats_import[feats_import['Season']==2016].index[0]\n",
    "ID = np.eye(GD_spread)\n",
    "\n",
    "X = feats.iloc[:season15_end].as_matrix()\n",
    "y_pre = map(int, label.iloc[:season15_end].as_matrix())\n",
    "\n",
    "y = np.array([ID[i] for i in y_pre])\n"
   ]
  },
  {
   "cell_type": "code",
   "execution_count": 180,
   "metadata": {
    "collapsed": false
   },
   "outputs": [
    {
     "data": {
      "text/plain": [
       "<matplotlib.axes._subplots.AxesSubplot at 0x127246dd0>"
      ]
     },
     "execution_count": 180,
     "metadata": {},
     "output_type": "execute_result"
    },
    {
     "data": {
      "image/png": "[encoded data removed]",
      "text/plain": [
       "<matplotlib.figure.Figure at 0x1258c8e10>"
      ]
     },
     "metadata": {},
     "output_type": "display_data"
    }
   ],
   "source": [
    "# Thinking about new features like conversion rate for shots etc.\n",
    "\n",
    "conversion_df = feats_import.loc[:, ['FTGD', 'FTHG', 'HS', 'HST', 'AS', 'AST', 'HGA', 'AGA']]\n",
    "conversion_df.loc[:, 'HGoals'] = conversion_df.loc[:, 'FTHG']\n",
    "conversion_df.loc[:, 'AGoals'] = np.abs(conversion_df.loc[:, 'FTGD'] - conversion_df.loc[:, 'HGoals'])\n",
    "conversion_df.loc[:, 'HConv'] = conversion_df.loc[:, 'HST'] / conversion_df.loc[:, 'HS']\n",
    "conversion_df.loc[:, 'AConv'] = conversion_df.loc[:, 'AST'] / conversion_df.loc[:, 'AS']\n",
    "\n",
    "conversion_df.loc[:, 'GD_color'] = (conversion_df.loc[:, 'FTGD'] - np.min(conversion_df.loc[:, 'FTGD']))\n",
    "\n",
    "conversion_df.plot.hexbin(x='AConv', y='AGoals', C='AGA', gridsize=30)"
   ]
  },
  {
   "cell_type": "code",
   "execution_count": 181,
   "metadata": {
    "collapsed": false
   },
   "outputs": [],
   "source": [
    "# Assign an expected score with probabilities\n",
    "def exp_score(x):\n",
    "    multiplier = np.array(range(-cutoff_GD, cutoff_GD+1))\n",
    "    # multiplier = np.array([-2.5, 1, 0, 1, 2.7])\n",
    "    return np.sum(np.array(x) * multiplier)"
   ]
  },
  {
   "cell_type": "code",
   "execution_count": 242,
   "metadata": {
    "collapsed": false,
    "scrolled": true
   },
   "outputs": [
    {
     "name": "stdout",
     "output_type": "stream",
     "text": [
      "0.790322578801\n",
      "2880/3038 [===========================>..] - ETA: 0s"
     ]
    }
   ],
   "source": [
    "# Run Keras\n",
    "np.random.seed(7)\n",
    "\n",
    "# I tested these parameters a little bit; they seem to work nicely for know.\n",
    "model = Sequential()\n",
    "model.add(Dense(50, input_dim=len(X[0]), init='lecun_uniform', activation='relu')) \n",
    "model.add(Dense(500, activation='relu'))\n",
    "model.add(Dense(50, activation='relu'))\n",
    "model.add(Dropout(0.4))\n",
    "model.add(Dense(2*cutoff_GD+1, activation='relu'))\n",
    "model.add(Activation('softmax'))\n",
    "\n",
    "model.compile(optimizer='adam',\n",
    "              loss='categorical_crossentropy',\n",
    "              metrics=['accuracy'])\n",
    "model.fit(X, y, nb_epoch=100, batch_size=10, verbose=False)\n",
    "print model.evaluate(X, y, batch_size=10, verbose=False)[1]\n",
    "\n",
    "predictions = model.predict_proba(X)"
   ]
  },
  {
   "cell_type": "code",
   "execution_count": 211,
   "metadata": {
    "collapsed": false,
    "scrolled": true
   },
   "outputs": [
    {
     "name": "stdout",
     "output_type": "stream",
     "text": [
      "Success identifying H, D, A is 92.17 percent\n"
     ]
    },
    {
     "data": {
      "text/html": [
       "<div>\n",
       "<table border=\"1\" class=\"dataframe\">\n",
       "  <thead>\n",
       "    <tr style=\"text-align: right;\">\n",
       "      <th>EXP</th>\n",
       "      <th>-1.0</th>\n",
       "      <th>0.0</th>\n",
       "      <th>1.0</th>\n",
       "    </tr>\n",
       "    <tr>\n",
       "      <th>FTGD</th>\n",
       "      <th></th>\n",
       "      <th></th>\n",
       "      <th></th>\n",
       "    </tr>\n",
       "  </thead>\n",
       "  <tbody>\n",
       "    <tr>\n",
       "      <th>-1.0</th>\n",
       "      <td>846</td>\n",
       "      <td>67</td>\n",
       "      <td>0</td>\n",
       "    </tr>\n",
       "    <tr>\n",
       "      <th>0.0</th>\n",
       "      <td>71</td>\n",
       "      <td>624</td>\n",
       "      <td>55</td>\n",
       "    </tr>\n",
       "    <tr>\n",
       "      <th>1.0</th>\n",
       "      <td>2</td>\n",
       "      <td>43</td>\n",
       "      <td>1330</td>\n",
       "    </tr>\n",
       "  </tbody>\n",
       "</table>\n",
       "</div>"
      ],
      "text/plain": [
       "EXP   -1.0   0.0   1.0\n",
       "FTGD                  \n",
       "-1.0   846    67     0\n",
       " 0.0    71   624    55\n",
       " 1.0     2    43  1330"
      ]
     },
     "execution_count": 211,
     "metadata": {},
     "output_type": "execute_result"
    }
   ],
   "source": [
    "# Cross-Tabulation for Away-Win (-1), Draw (0) or Home-win (1)\n",
    "performance_df = pd.concat([\n",
    "        feats_import.iloc[:season15_end,-5].apply(min, args=(cutoff_GD,)).apply(max, args=(-cutoff_GD,)),\n",
    "        pd.Series(data=map(np.round, map(exp_score, predictions)), name='EXP', index=feats_import.iloc[:season15_end].index)], axis=1)\n",
    "success_res_df = pd.crosstab(performance_df.loc[:, \"FTGD\"].apply(np.sign), performance_df.loc[:, \"EXP\"].apply(np.sign))\n",
    "print \"Success identifying H, D, A is \" + str(round(100. * np.trace(success_res_df)/season15_end,2)) + \" percent\"\n",
    "success_res_df\n"
   ]
  },
  {
   "cell_type": "code",
   "execution_count": 212,
   "metadata": {
    "collapsed": false,
    "scrolled": true
   },
   "outputs": [
    {
     "name": "stdout",
     "output_type": "stream",
     "text": [
      "Success identifying GD is 78.47 percent\n"
     ]
    },
    {
     "data": {
      "text/html": [
       "<div>\n",
       "<table border=\"1\" class=\"dataframe\">\n",
       "  <thead>\n",
       "    <tr style=\"text-align: right;\">\n",
       "      <th>EXP</th>\n",
       "      <th>-3.0</th>\n",
       "      <th>-2.0</th>\n",
       "      <th>-1.0</th>\n",
       "      <th>-0.0</th>\n",
       "      <th>1.0</th>\n",
       "      <th>2.0</th>\n",
       "      <th>3.0</th>\n",
       "    </tr>\n",
       "    <tr>\n",
       "      <th>FTGD</th>\n",
       "      <th></th>\n",
       "      <th></th>\n",
       "      <th></th>\n",
       "      <th></th>\n",
       "      <th></th>\n",
       "      <th></th>\n",
       "      <th></th>\n",
       "    </tr>\n",
       "  </thead>\n",
       "  <tbody>\n",
       "    <tr>\n",
       "      <th>-3.0</th>\n",
       "      <td>132</td>\n",
       "      <td>45</td>\n",
       "      <td>0</td>\n",
       "      <td>1</td>\n",
       "      <td>0</td>\n",
       "      <td>0</td>\n",
       "      <td>0</td>\n",
       "    </tr>\n",
       "    <tr>\n",
       "      <th>-2.0</th>\n",
       "      <td>21</td>\n",
       "      <td>147</td>\n",
       "      <td>103</td>\n",
       "      <td>3</td>\n",
       "      <td>0</td>\n",
       "      <td>0</td>\n",
       "      <td>0</td>\n",
       "    </tr>\n",
       "    <tr>\n",
       "      <th>-1.0</th>\n",
       "      <td>0</td>\n",
       "      <td>69</td>\n",
       "      <td>329</td>\n",
       "      <td>63</td>\n",
       "      <td>0</td>\n",
       "      <td>0</td>\n",
       "      <td>0</td>\n",
       "    </tr>\n",
       "    <tr>\n",
       "      <th>0.0</th>\n",
       "      <td>0</td>\n",
       "      <td>2</td>\n",
       "      <td>69</td>\n",
       "      <td>624</td>\n",
       "      <td>54</td>\n",
       "      <td>1</td>\n",
       "      <td>0</td>\n",
       "    </tr>\n",
       "    <tr>\n",
       "      <th>1.0</th>\n",
       "      <td>0</td>\n",
       "      <td>0</td>\n",
       "      <td>2</td>\n",
       "      <td>43</td>\n",
       "      <td>522</td>\n",
       "      <td>42</td>\n",
       "      <td>0</td>\n",
       "    </tr>\n",
       "    <tr>\n",
       "      <th>2.0</th>\n",
       "      <td>0</td>\n",
       "      <td>0</td>\n",
       "      <td>0</td>\n",
       "      <td>0</td>\n",
       "      <td>87</td>\n",
       "      <td>295</td>\n",
       "      <td>29</td>\n",
       "    </tr>\n",
       "    <tr>\n",
       "      <th>3.0</th>\n",
       "      <td>0</td>\n",
       "      <td>0</td>\n",
       "      <td>0</td>\n",
       "      <td>0</td>\n",
       "      <td>0</td>\n",
       "      <td>20</td>\n",
       "      <td>335</td>\n",
       "    </tr>\n",
       "  </tbody>\n",
       "</table>\n",
       "</div>"
      ],
      "text/plain": [
       "EXP   -3.0  -2.0  -1.0  -0.0   1.0   2.0   3.0\n",
       "FTGD                                          \n",
       "-3.0   132    45     0     1     0     0     0\n",
       "-2.0    21   147   103     3     0     0     0\n",
       "-1.0     0    69   329    63     0     0     0\n",
       " 0.0     0     2    69   624    54     1     0\n",
       " 1.0     0     0     2    43   522    42     0\n",
       " 2.0     0     0     0     0    87   295    29\n",
       " 3.0     0     0     0     0     0    20   335"
      ]
     },
     "execution_count": 212,
     "metadata": {},
     "output_type": "execute_result"
    }
   ],
   "source": [
    "# Cross-Tabulation for exact goal differential\n",
    "\n",
    "success_df = pd.crosstab(performance_df.loc[:, \"FTGD\"], performance_df.loc[:, \"EXP\"])#, margins=True)\n",
    "exp_min = int(performance_df.loc[:, \"EXP\"].min())\n",
    "exp_max = int(performance_df.loc[:, \"EXP\"].max())\n",
    "print \"Success identifying GD is \" + str(round(np.sum([100.*success_df.ix[i,i] for i in range(exp_min,exp_max+1)])/season15_end,2)) + \" percent\"\n",
    "success_df"
   ]
  },
  {
   "cell_type": "code",
   "execution_count": 213,
   "metadata": {
    "collapsed": false
   },
   "outputs": [
    {
     "data": {
      "text/html": [
       "<div>\n",
       "<table border=\"1\" class=\"dataframe\">\n",
       "  <thead>\n",
       "    <tr style=\"text-align: right;\">\n",
       "      <th></th>\n",
       "      <th>FTGD</th>\n",
       "      <th>EXP</th>\n",
       "      <th>Season</th>\n",
       "      <th>Gameday</th>\n",
       "      <th>TName_H</th>\n",
       "      <th>TName_A</th>\n",
       "    </tr>\n",
       "  </thead>\n",
       "  <tbody>\n",
       "    <tr>\n",
       "      <th>0</th>\n",
       "      <td>-1.0</td>\n",
       "      <td>-0.0</td>\n",
       "      <td>2006.0</td>\n",
       "      <td>14.0</td>\n",
       "      <td>Hamburg</td>\n",
       "      <td>Bayern Munich</td>\n",
       "    </tr>\n",
       "    <tr>\n",
       "      <th>3</th>\n",
       "      <td>-1.0</td>\n",
       "      <td>-0.0</td>\n",
       "      <td>2006.0</td>\n",
       "      <td>17.0</td>\n",
       "      <td>Bielefeld</td>\n",
       "      <td>Schalke 04</td>\n",
       "    </tr>\n",
       "    <tr>\n",
       "      <th>10</th>\n",
       "      <td>-1.0</td>\n",
       "      <td>-0.0</td>\n",
       "      <td>2006.0</td>\n",
       "      <td>29.0</td>\n",
       "      <td>M'gladbach</td>\n",
       "      <td>Hamburg</td>\n",
       "    </tr>\n",
       "    <tr>\n",
       "      <th>18</th>\n",
       "      <td>-1.0</td>\n",
       "      <td>-0.0</td>\n",
       "      <td>2007.0</td>\n",
       "      <td>5.0</td>\n",
       "      <td>Duisburg</td>\n",
       "      <td>Hertha</td>\n",
       "    </tr>\n",
       "    <tr>\n",
       "      <th>19</th>\n",
       "      <td>-1.0</td>\n",
       "      <td>-0.0</td>\n",
       "      <td>2007.0</td>\n",
       "      <td>7.0</td>\n",
       "      <td>Nurnberg</td>\n",
       "      <td>Leverkusen</td>\n",
       "    </tr>\n",
       "  </tbody>\n",
       "</table>\n",
       "</div>"
      ],
      "text/plain": [
       "    FTGD  EXP  Season  Gameday      TName_H         TName_A\n",
       "0   -1.0 -0.0  2006.0     14.0      Hamburg   Bayern Munich\n",
       "3   -1.0 -0.0  2006.0     17.0    Bielefeld      Schalke 04\n",
       "10  -1.0 -0.0  2006.0     29.0   M'gladbach         Hamburg\n",
       "18  -1.0 -0.0  2007.0      5.0     Duisburg          Hertha\n",
       "19  -1.0 -0.0  2007.0      7.0     Nurnberg      Leverkusen"
      ]
     },
     "execution_count": 213,
     "metadata": {},
     "output_type": "execute_result"
    }
   ],
   "source": [
    "# Find all games that ended with an away win by one goal where the algorithm called a draw (Check invidiual games.)\n",
    "# Example: Last two games all were won in last 30 minutes by away team after being behind until that point by 1 or 2 goals.\n",
    "pd.merge(\n",
    "    pd.merge(\n",
    "        pd.merge(\n",
    "            performance_df[(performance_df['FTGD'].astype(int) == -1) & (performance_df['EXP'].astype(int) == 0)],\n",
    "            feats_import.loc[:, ['TID_H', 'TID_A', 'Season', 'Gameday']], how='inner', left_index=True, right_index=True),\n",
    "        teams_df,\n",
    "        left_on='TID_H', right_on='TID').sort_values(['Season','Gameday']),\n",
    "    teams_df,\n",
    "    left_on='TID_A', right_on='TID', suffixes=('_H', '_A')).sort_values(['Season','Gameday']).drop(['TID_H', 'TID_A', 'KID_H', 'KID_A'], axis=1).head()"
   ]
  },
  {
   "cell_type": "code",
   "execution_count": 214,
   "metadata": {
    "collapsed": false,
    "scrolled": true
   },
   "outputs": [
    {
     "data": {
      "image/png": "[encoded data removed]",
      "text/plain": [
       "<matplotlib.figure.Figure at 0x12930d110>"
      ]
     },
     "metadata": {},
     "output_type": "display_data"
    }
   ],
   "source": [
    "# Matrix Plot to visualize predictions vs. outcome\n",
    "\n",
    "# x-axis: Actual outcome\n",
    "# y-axis: Expected score (EXP)\n",
    "plt_x = np.array(performance_df.loc[:, \"FTGD\"])\n",
    "plt_y = np.array(performance_df.loc[:, \"EXP\"])\n",
    "\n",
    "fig, ax = plt.subplots()\n",
    "\n",
    "plt.hist2d(plt_x, plt_y, bins=2*cutoff_GD+1, range=np.array([(-cutoff_GD,cutoff_GD), (-cutoff_GD,cutoff_GD)]))\n",
    "plt.show()"
   ]
  },
  {
   "cell_type": "code",
   "execution_count": 187,
   "metadata": {
    "collapsed": false
   },
   "outputs": [
    {
     "data": {
      "text/plain": [
       "<matplotlib.axes._subplots.AxesSubplot at 0x1268dbf50>"
      ]
     },
     "execution_count": 187,
     "metadata": {},
     "output_type": "execute_result"
    },
    {
     "data": {
      "image/png": "[encoded data removed]",
      "text/plain": [
       "<matplotlib.figure.Figure at 0x1204efa10>"
      ]
     },
     "metadata": {},
     "output_type": "display_data"
    }
   ],
   "source": [
    "fig, ax = plt.subplots()\n",
    "ax.set_yscale('log')\n",
    "(feats.loc[:, \"ChancesH\"]-feats.loc[:, \"ChancesA\"]).plot(kind='hist', bins=15)"
   ]
  },
  {
   "cell_type": "code",
   "execution_count": 216,
   "metadata": {
    "collapsed": false
   },
   "outputs": [
    {
     "data": {
      "text/plain": [
       "<matplotlib.axes._subplots.AxesSubplot at 0x12971e390>"
      ]
     },
     "execution_count": 216,
     "metadata": {},
     "output_type": "execute_result"
    },
    {
     "data": {
      "image/png": "[encoded data removed]",
      "text/plain": [
       "<matplotlib.figure.Figure at 0x1297316d0>"
      ]
     },
     "metadata": {},
     "output_type": "display_data"
    }
   ],
   "source": [
    "pd.concat([(feats.loc[:, \"ChancesH\"]-feats.loc[:, \"ChancesA\"]).rename('Chances'),\n",
    "           (feats.loc[:, \"HGA\"]-feats.loc[:, \"AGA\"]).rename('G')],axis=1).plot.hexbin(y='Chances', x='G', gridsize=20)"
   ]
  },
  {
   "cell_type": "code",
   "execution_count": 217,
   "metadata": {
    "collapsed": false,
    "scrolled": true
   },
   "outputs": [],
   "source": [
    "# Define luck: Wherever our original algorithm was wrong.\n",
    "# This needs to be refined obviously.\n",
    "# Create df with only correctly predicted games and then learn on them\n",
    "feats.loc[:, 'luck'] = (performance_df.loc[:, 'FTGD'] - performance_df.loc[:, 'EXP']).apply(np.abs).apply(np.sign)\n",
    "feats_noluck = feats[feats['luck']==0].drop('luck', axis=1)\n",
    "\n",
    "label = feats_import.loc[:, 'FTGD'].apply(min, args=(cutoff_GD,)).apply(max, args=(-cutoff_GD,)) + cutoff_GD\n",
    "\n",
    "GD_min = -cutoff_GD\n",
    "GD_max = +cutoff_GD\n",
    "GD_spread = GD_max-GD_min + 1\n",
    "\n",
    "\n",
    "# Different norms because I played around with different columns\n",
    "#norm = [9, 5, 36, 36, 36, 33, 35, 35, 20, 20, 11, 11, 4, 4, 1, 1, GD_spread-1, 1, 1]\n",
    "#norm = [9, 5, 36, 36, 36, 33, 35, 35, 20, 20, 1, 1, GD_spread-1, 1, 1, 1]\n",
    "#norm = [9, 5, 36, 36, 36, 33, 35, 35, 20, 20, 11, 11, 4, 4, GD_spread-1, 1, 1, 1]\n",
    "\n",
    "feats_noluck = feats[feats['luck']==0].drop('luck', axis=1)\n",
    "label_noluck = label.to_frame().merge(feats_noluck, left_index=True, right_index=True).loc[:, 'FTGD']\n",
    "\n",
    "\n",
    "# ID for index to find end of 2015/16 season\n",
    "ID = np.eye(GD_spread)\n",
    "\n",
    "X_noluck = feats_noluck.ix[:season15_end].as_matrix()\n",
    "y_pre_noluck = map(int, label_noluck.ix[:season15_end].as_matrix())\n",
    "\n",
    "y_noluck = np.array([ID[i] for i in y_pre_noluck])"
   ]
  },
  {
   "cell_type": "code",
   "execution_count": 228,
   "metadata": {
    "collapsed": false,
    "scrolled": false
   },
   "outputs": [
    {
     "name": "stdout",
     "output_type": "stream",
     "text": [
      "0.968540262456\n",
      "2048/2384 [========================>.....] - ETA: 0s"
     ]
    }
   ],
   "source": [
    "# Run Keras\n",
    "np.random.seed(7)\n",
    "\n",
    "# I tested these parameters a little bit; they seem to work nicely for know.\n",
    "model_noluck = Sequential()\n",
    "model_noluck.add(Dense(50, input_dim=len(X_noluck[0]), init='lecun_uniform', activation='relu')) \n",
    "model_noluck.add(Dense(500, activation='relu'))\n",
    "model_noluck.add(Dense(50, activation='relu'))\n",
    "model_noluck.add(Dropout(0.4))\n",
    "model_noluck.add(Dense(2*cutoff_GD+1, activation='relu'))\n",
    "model_noluck.add(Activation('softmax'))\n",
    "\n",
    "model_noluck.compile(optimizer='adam',\n",
    "              loss='categorical_crossentropy',\n",
    "              metrics=['accuracy'])\n",
    "model_noluck.fit(X_noluck, y_noluck, nb_epoch=100, batch_size=10, verbose=False)\n",
    "print model_noluck.evaluate(X_noluck, y_noluck, batch_size=10, verbose=False)[1]\n",
    "\n",
    "predictions_noluck = model_noluck.predict_proba(X_noluck)"
   ]
  },
  {
   "cell_type": "code",
   "execution_count": 243,
   "metadata": {
    "collapsed": false
   },
   "outputs": [
    {
     "data": {
      "text/plain": [
       "False"
      ]
     },
     "execution_count": 243,
     "metadata": {},
     "output_type": "execute_result"
    }
   ],
   "source": [
    "model == model_noluck"
   ]
  },
  {
   "cell_type": "code",
   "execution_count": 238,
   "metadata": {
    "collapsed": false
   },
   "outputs": [
    {
     "name": "stdout",
     "output_type": "stream",
     "text": [
      "2336/2384 [============================>.] - ETA: 0s"
     ]
    }
   ],
   "source": [
    "predictions_noluck = model_noluck.predict_proba(X_noluck)"
   ]
  },
  {
   "cell_type": "markdown",
   "metadata": {},
   "source": [
    "## EVERYTHING BELOW HERE IS NOT FULLY WORKING YET."
   ]
  },
  {
   "cell_type": "code",
   "execution_count": 244,
   "metadata": {
    "collapsed": false,
    "scrolled": true
   },
   "outputs": [
    {
     "name": "stdout",
     "output_type": "stream",
     "text": [
      "Success identifying H, D, A is 98.45 percent\n"
     ]
    },
    {
     "data": {
      "text/html": [
       "<div>\n",
       "<table border=\"1\" class=\"dataframe\">\n",
       "  <thead>\n",
       "    <tr style=\"text-align: right;\">\n",
       "      <th>EXP</th>\n",
       "      <th>-1.0</th>\n",
       "      <th>0.0</th>\n",
       "      <th>1.0</th>\n",
       "    </tr>\n",
       "    <tr>\n",
       "      <th>FTGD</th>\n",
       "      <th></th>\n",
       "      <th></th>\n",
       "      <th></th>\n",
       "    </tr>\n",
       "  </thead>\n",
       "  <tbody>\n",
       "    <tr>\n",
       "      <th>-1.0</th>\n",
       "      <td>606</td>\n",
       "      <td>2</td>\n",
       "      <td>0</td>\n",
       "    </tr>\n",
       "    <tr>\n",
       "      <th>0.0</th>\n",
       "      <td>3</td>\n",
       "      <td>618</td>\n",
       "      <td>3</td>\n",
       "    </tr>\n",
       "    <tr>\n",
       "      <th>1.0</th>\n",
       "      <td>0</td>\n",
       "      <td>29</td>\n",
       "      <td>1123</td>\n",
       "    </tr>\n",
       "  </tbody>\n",
       "</table>\n",
       "</div>"
      ],
      "text/plain": [
       "EXP   -1.0   0.0   1.0\n",
       "FTGD                  \n",
       "-1.0   606     2     0\n",
       " 0.0     3   618     3\n",
       " 1.0     0    29  1123"
      ]
     },
     "execution_count": 244,
     "metadata": {},
     "output_type": "execute_result"
    }
   ],
   "source": [
    "performance_noluck_df = pd.concat([\n",
    "        (label_noluck.ix[:season15_end]-cutoff_GD).apply(min, args=(cutoff_GD,)).apply(max, args=(-cutoff_GD,)),\n",
    "        pd.Series(data=map(np.round, map(exp_score, predictions_noluck)), name='EXP', index=label_noluck.ix[:season15_end].index)], axis=1)\n",
    "success_noluck_res_df = pd.crosstab(performance_noluck_df.loc[:, \"FTGD\"].apply(np.sign), performance_noluck_df.loc[:, \"EXP\"].apply(np.sign))\n",
    "print \"Success identifying H, D, A is \" + str(round(100. * np.trace(success_noluck_res_df)/len(label_noluck.ix[:season15_end]),2)) + \" percent\"\n",
    "success_noluck_res_df\n",
    "\n"
   ]
  },
  {
   "cell_type": "code",
   "execution_count": 230,
   "metadata": {
    "collapsed": false,
    "scrolled": true
   },
   "outputs": [
    {
     "name": "stdout",
     "output_type": "stream",
     "text": [
      "Success identifying GD is 96.85 percent\n"
     ]
    },
    {
     "data": {
      "text/html": [
       "<div>\n",
       "<table border=\"1\" class=\"dataframe\">\n",
       "  <thead>\n",
       "    <tr style=\"text-align: right;\">\n",
       "      <th>EXP</th>\n",
       "      <th>-3.0</th>\n",
       "      <th>-2.0</th>\n",
       "      <th>-1.0</th>\n",
       "      <th>-0.0</th>\n",
       "      <th>1.0</th>\n",
       "      <th>2.0</th>\n",
       "      <th>3.0</th>\n",
       "    </tr>\n",
       "    <tr>\n",
       "      <th>FTGD</th>\n",
       "      <th></th>\n",
       "      <th></th>\n",
       "      <th></th>\n",
       "      <th></th>\n",
       "      <th></th>\n",
       "      <th></th>\n",
       "      <th></th>\n",
       "    </tr>\n",
       "  </thead>\n",
       "  <tbody>\n",
       "    <tr>\n",
       "      <th>-3.0</th>\n",
       "      <td>132</td>\n",
       "      <td>0</td>\n",
       "      <td>0</td>\n",
       "      <td>0</td>\n",
       "      <td>0</td>\n",
       "      <td>0</td>\n",
       "      <td>0</td>\n",
       "    </tr>\n",
       "    <tr>\n",
       "      <th>-2.0</th>\n",
       "      <td>7</td>\n",
       "      <td>139</td>\n",
       "      <td>1</td>\n",
       "      <td>0</td>\n",
       "      <td>0</td>\n",
       "      <td>0</td>\n",
       "      <td>0</td>\n",
       "    </tr>\n",
       "    <tr>\n",
       "      <th>-1.0</th>\n",
       "      <td>0</td>\n",
       "      <td>10</td>\n",
       "      <td>317</td>\n",
       "      <td>2</td>\n",
       "      <td>0</td>\n",
       "      <td>0</td>\n",
       "      <td>0</td>\n",
       "    </tr>\n",
       "    <tr>\n",
       "      <th>0.0</th>\n",
       "      <td>0</td>\n",
       "      <td>0</td>\n",
       "      <td>3</td>\n",
       "      <td>618</td>\n",
       "      <td>3</td>\n",
       "      <td>0</td>\n",
       "      <td>0</td>\n",
       "    </tr>\n",
       "    <tr>\n",
       "      <th>1.0</th>\n",
       "      <td>0</td>\n",
       "      <td>0</td>\n",
       "      <td>0</td>\n",
       "      <td>29</td>\n",
       "      <td>482</td>\n",
       "      <td>11</td>\n",
       "      <td>0</td>\n",
       "    </tr>\n",
       "    <tr>\n",
       "      <th>2.0</th>\n",
       "      <td>0</td>\n",
       "      <td>0</td>\n",
       "      <td>0</td>\n",
       "      <td>0</td>\n",
       "      <td>2</td>\n",
       "      <td>286</td>\n",
       "      <td>7</td>\n",
       "    </tr>\n",
       "    <tr>\n",
       "      <th>3.0</th>\n",
       "      <td>0</td>\n",
       "      <td>0</td>\n",
       "      <td>0</td>\n",
       "      <td>0</td>\n",
       "      <td>0</td>\n",
       "      <td>0</td>\n",
       "      <td>335</td>\n",
       "    </tr>\n",
       "  </tbody>\n",
       "</table>\n",
       "</div>"
      ],
      "text/plain": [
       "EXP   -3.0  -2.0  -1.0  -0.0   1.0   2.0   3.0\n",
       "FTGD                                          \n",
       "-3.0   132     0     0     0     0     0     0\n",
       "-2.0     7   139     1     0     0     0     0\n",
       "-1.0     0    10   317     2     0     0     0\n",
       " 0.0     0     0     3   618     3     0     0\n",
       " 1.0     0     0     0    29   482    11     0\n",
       " 2.0     0     0     0     0     2   286     7\n",
       " 3.0     0     0     0     0     0     0   335"
      ]
     },
     "execution_count": 230,
     "metadata": {},
     "output_type": "execute_result"
    }
   ],
   "source": [
    "success_noluck_df = pd.crosstab(performance_noluck_df.loc[:, \"FTGD\"], performance_noluck_df.loc[:, \"EXP\"])#, margins=True)\n",
    "exp_min = int(performance_noluck_df.loc[:, \"EXP\"].min())\n",
    "exp_max = int(performance_noluck_df.loc[:, \"EXP\"].max())\n",
    "print \"Success identifying GD is \" + str(round(np.sum([100.*success_noluck_df.ix[i,i] for i in range(exp_min,exp_max+1)])/len(performance_noluck_df),2)) + \" percent\"\n",
    "success_noluck_df"
   ]
  },
  {
   "cell_type": "code",
   "execution_count": 245,
   "metadata": {
    "collapsed": false
   },
   "outputs": [
    {
     "name": "stdout",
     "output_type": "stream",
     "text": [
      " 32/116 [=======>......................] - ETA: 0s\n",
      "\n",
      "Success identifying H, D, A is 80.17 percent\n"
     ]
    },
    {
     "data": {
      "text/html": [
       "<div>\n",
       "<table border=\"1\" class=\"dataframe\">\n",
       "  <thead>\n",
       "    <tr style=\"text-align: right;\">\n",
       "      <th>EXP</th>\n",
       "      <th>-1.0</th>\n",
       "      <th>0.0</th>\n",
       "      <th>1.0</th>\n",
       "    </tr>\n",
       "    <tr>\n",
       "      <th>FTGD</th>\n",
       "      <th></th>\n",
       "      <th></th>\n",
       "      <th></th>\n",
       "    </tr>\n",
       "  </thead>\n",
       "  <tbody>\n",
       "    <tr>\n",
       "      <th>-1.0</th>\n",
       "      <td>23</td>\n",
       "      <td>9</td>\n",
       "      <td>0</td>\n",
       "    </tr>\n",
       "    <tr>\n",
       "      <th>0.0</th>\n",
       "      <td>4</td>\n",
       "      <td>15</td>\n",
       "      <td>9</td>\n",
       "    </tr>\n",
       "    <tr>\n",
       "      <th>1.0</th>\n",
       "      <td>0</td>\n",
       "      <td>1</td>\n",
       "      <td>55</td>\n",
       "    </tr>\n",
       "  </tbody>\n",
       "</table>\n",
       "</div>"
      ],
      "text/plain": [
       "EXP   -1.0   0.0   1.0\n",
       "FTGD                  \n",
       "-1.0    23     9     0\n",
       " 0.0     4    15     9\n",
       " 1.0     0     1    55"
      ]
     },
     "execution_count": 245,
     "metadata": {},
     "output_type": "execute_result"
    }
   ],
   "source": [
    "X_test = feats.iloc[season15_end+1:].drop('luck', axis=1).as_matrix()\n",
    "y_test_pre = map(int, label.iloc[season15_end+1:].as_matrix())\n",
    "\n",
    "y_test = np.array([ID[i] for i in y_test_pre])\n",
    "\n",
    "predictions_new_season = model.predict_proba(X_test)\n",
    "predictions_new_season_noluck = model_noluck.predict_proba(X_test)\n",
    "print '\\n'\n",
    "\n",
    "# Measure performance without thinking about luck\n",
    "performance_new_season_df = pd.concat([\n",
    "        feats_import.iloc[season15_end+1:,-5].apply(min, args=(cutoff_GD,)).apply(max, args=(-cutoff_GD,)),\n",
    "        pd.Series(data=map(np.round, map(exp_score, predictions_new_season)), name='EXP', index=feats_import.iloc[season15_end+1:].index)], axis=1)\n",
    "success_res_df = pd.crosstab(performance_df.loc[:, \"FTGD\"].apply(np.sign), performance_df.loc[:, \"EXP\"].apply(np.sign))\n",
    "print \"Success identifying H, D, A is \" + str(round(100.* np.trace(success_res_df)/len(X_test),2)) + \" percent\"\n",
    "success_res_df\n"
   ]
  },
  {
   "cell_type": "markdown",
   "metadata": {},
   "source": [
    "### How many goals are scored more for the winning on average when the GD > cutoff"
   ]
  },
  {
   "cell_type": "code",
   "execution_count": 194,
   "metadata": {
    "collapsed": false,
    "scrolled": true
   },
   "outputs": [
    {
     "name": "stdout",
     "output_type": "stream",
     "text": [
      "     FTGD   GD\n",
      "3.0   222  3.0\n",
      "4.0    98  4.0\n",
      "5.0    31  5.0\n",
      "6.0     8  6.0\n",
      "7.0     6  7.0\n",
      "8.0     1  8.0\n",
      "3.58196721311\n"
     ]
    }
   ],
   "source": [
    "weights = feats_import.ix[:, 'FTGD'].value_counts(False, False, True).to_frame()\n",
    "weights.loc[:, 'GD'] = weights.index\n",
    "bla = weights[weights['GD']>=cutoff_GD]\n",
    "print bla\n",
    "print np.sum(bla.loc[:, 'FTGD']*bla.loc[:, 'GD'])/np.sum(bla.loc[:, 'FTGD'])"
   ]
  },
  {
   "cell_type": "code",
   "execution_count": 248,
   "metadata": {
    "collapsed": false,
    "scrolled": true
   },
   "outputs": [],
   "source": [
    "new_season_noluck_df = pd.concat([\n",
    "        feats_import.iloc[season15_end+1:,-5].apply(min, args=(cutoff_GD,)).apply(max, args=(-cutoff_GD,)),\n",
    "        pd.Series(data=map(exp_score, predictions_new_season_noluck), name='EXP', index=feats_import.iloc[season15_end+1:].index)], axis=1)\n",
    "\n",
    "new_season_df = pd.concat([\n",
    "        feats_import.iloc[season15_end+1:,-5].apply(min, args=(cutoff_GD,)).apply(max, args=(-cutoff_GD,)),\n",
    "        pd.Series(data=map(exp_score, predictions_new_season), name='EXP', index=feats_import.iloc[season15_end+1:].index)], axis=1)"
   ]
  },
  {
   "cell_type": "code",
   "execution_count": 259,
   "metadata": {
    "collapsed": false,
    "scrolled": true
   },
   "outputs": [],
   "source": [
    "comparison_df = pd.concat([new_season_df, new_season_noluck_df.loc[:, 'EXP'].rename('EXP w/o luck')], axis=1).apply(np.round, args=(2,))"
   ]
  },
  {
   "cell_type": "code",
   "execution_count": 275,
   "metadata": {
    "collapsed": false
   },
   "outputs": [
    {
     "data": {
      "text/plain": [
       "<matplotlib.axes._subplots.AxesSubplot at 0x11ee39cd0>"
      ]
     },
     "execution_count": 275,
     "metadata": {},
     "output_type": "execute_result"
    },
    {
     "data": {
      "image/png": "[encoded data removed]",
      "text/plain": [
       "<matplotlib.figure.Figure at 0x118b8a190>"
      ]
     },
     "metadata": {},
     "output_type": "display_data"
    }
   ],
   "source": [
    "comparison_df.plot(kind='scatter', x='EXP w/o luck', y='EXP', c='FTGD', s=50, colormap='Blues')"
   ]
  },
  {
   "cell_type": "code",
   "execution_count": 268,
   "metadata": {
    "collapsed": false
   },
   "outputs": [
    {
     "data": {
      "text/html": [
       "<div>\n",
       "<table border=\"1\" class=\"dataframe\">\n",
       "  <thead>\n",
       "    <tr style=\"text-align: right;\">\n",
       "      <th></th>\n",
       "      <th>Home_Team</th>\n",
       "      <th>Away_Team</th>\n",
       "      <th>Final</th>\n",
       "      <th>Expected</th>\n",
       "    </tr>\n",
       "    <tr>\n",
       "      <th>Gameday</th>\n",
       "      <th></th>\n",
       "      <th></th>\n",
       "      <th></th>\n",
       "      <th></th>\n",
       "    </tr>\n",
       "  </thead>\n",
       "  <tbody>\n",
       "    <tr>\n",
       "      <th>1.0</th>\n",
       "      <td>Ein Frankfurt</td>\n",
       "      <td>Schalke 04</td>\n",
       "      <td>1.0</td>\n",
       "      <td>0.9994</td>\n",
       "    </tr>\n",
       "    <tr>\n",
       "      <th>2.0</th>\n",
       "      <td>Schalke 04</td>\n",
       "      <td>Bayern Munich</td>\n",
       "      <td>-2.0</td>\n",
       "      <td>-0.0054</td>\n",
       "    </tr>\n",
       "    <tr>\n",
       "      <th>3.0</th>\n",
       "      <td>Hertha</td>\n",
       "      <td>Schalke 04</td>\n",
       "      <td>2.0</td>\n",
       "      <td>1.9986</td>\n",
       "    </tr>\n",
       "    <tr>\n",
       "      <th>4.0</th>\n",
       "      <td>Schalke 04</td>\n",
       "      <td>FC Koln</td>\n",
       "      <td>-2.0</td>\n",
       "      <td>-1.0157</td>\n",
       "    </tr>\n",
       "    <tr>\n",
       "      <th>5.0</th>\n",
       "      <td>Hoffenheim</td>\n",
       "      <td>Schalke 04</td>\n",
       "      <td>1.0</td>\n",
       "      <td>0.9933</td>\n",
       "    </tr>\n",
       "    <tr>\n",
       "      <th>6.0</th>\n",
       "      <td>Schalke 04</td>\n",
       "      <td>M'gladbach</td>\n",
       "      <td>3.0</td>\n",
       "      <td>3.0000</td>\n",
       "    </tr>\n",
       "    <tr>\n",
       "      <th>7.0</th>\n",
       "      <td>Augsburg</td>\n",
       "      <td>Schalke 04</td>\n",
       "      <td>0.0</td>\n",
       "      <td>0.3982</td>\n",
       "    </tr>\n",
       "    <tr>\n",
       "      <th>8.0</th>\n",
       "      <td>Schalke 04</td>\n",
       "      <td>Mainz</td>\n",
       "      <td>3.0</td>\n",
       "      <td>3.0000</td>\n",
       "    </tr>\n",
       "    <tr>\n",
       "      <th>9.0</th>\n",
       "      <td>Dortmund</td>\n",
       "      <td>Schalke 04</td>\n",
       "      <td>0.0</td>\n",
       "      <td>-0.0339</td>\n",
       "    </tr>\n",
       "    <tr>\n",
       "      <th>10.0</th>\n",
       "      <td>Schalke 04</td>\n",
       "      <td>Werder Bremen</td>\n",
       "      <td>2.0</td>\n",
       "      <td>1.0003</td>\n",
       "    </tr>\n",
       "    <tr>\n",
       "      <th>11.0</th>\n",
       "      <td>Wolfsburg</td>\n",
       "      <td>Schalke 04</td>\n",
       "      <td>-1.0</td>\n",
       "      <td>-0.9989</td>\n",
       "    </tr>\n",
       "    <tr>\n",
       "      <th>12.0</th>\n",
       "      <td>Schalke 04</td>\n",
       "      <td>Darmstadt</td>\n",
       "      <td>2.0</td>\n",
       "      <td>1.9996</td>\n",
       "    </tr>\n",
       "    <tr>\n",
       "      <th>13.0</th>\n",
       "      <td>RB Leipzig</td>\n",
       "      <td>Schalke 04</td>\n",
       "      <td>1.0</td>\n",
       "      <td>0.9972</td>\n",
       "    </tr>\n",
       "  </tbody>\n",
       "</table>\n",
       "</div>"
      ],
      "text/plain": [
       "              Home_Team       Away_Team  Final  Expected\n",
       "Gameday                                                 \n",
       "1.0       Ein Frankfurt      Schalke 04    1.0    0.9994\n",
       "2.0          Schalke 04   Bayern Munich   -2.0   -0.0054\n",
       "3.0              Hertha      Schalke 04    2.0    1.9986\n",
       "4.0          Schalke 04         FC Koln   -2.0   -1.0157\n",
       "5.0          Hoffenheim      Schalke 04    1.0    0.9933\n",
       "6.0          Schalke 04      M'gladbach    3.0    3.0000\n",
       "7.0            Augsburg      Schalke 04    0.0    0.3982\n",
       "8.0          Schalke 04           Mainz    3.0    3.0000\n",
       "9.0            Dortmund      Schalke 04    0.0   -0.0339\n",
       "10.0         Schalke 04   Werder Bremen    2.0    1.0003\n",
       "11.0          Wolfsburg      Schalke 04   -1.0   -0.9989\n",
       "12.0         Schalke 04       Darmstadt    2.0    1.9996\n",
       "13.0         RB Leipzig      Schalke 04    1.0    0.9972"
      ]
     },
     "execution_count": 268,
     "metadata": {},
     "output_type": "execute_result"
    }
   ],
   "source": [
    "output_df = pd.merge(new_season_noluck_df, feats_import.loc[:, ['TID_H', 'TID_A', 'Gameday']], how='inner', left_index=True, right_index=True)\n",
    "output_df = pd.merge(output_df, teams_df.loc[:, ['TID', 'TName']], how='inner', left_on='TID_H', right_on='TID')\n",
    "output_df = pd.merge(output_df, teams_df.loc[:, ['TID', 'TName']], how='inner', left_on='TID_A', right_on='TID')\n",
    "\n",
    "output_df = output_df.drop(['TID_x', 'TID_y'], axis=1)\n",
    "\n",
    "\n",
    "\n",
    "tid = 5\n",
    "# pd.merge(output_df.query('TID_A==5'),           output_df.query('TID_H==5'))\n",
    "schalke_df = pd.concat([output_df[output_df['TID_H'] == tid], output_df[output_df['TID_A'] == tid]], axis=0).drop(['TID_H', 'TID_A'], axis=1).sort_values(by='Gameday')\n",
    "schalke_df = schalke_df.loc[:, ['Gameday', 'TName_x', 'TName_y', 'FTGD', 'EXP']].set_index('Gameday')\n",
    "schalke_df.columns = ['Home_Team', 'Away_Team', 'Final', 'Expected']\n",
    "schalke_df.loc[:, 'Expected'] = schalke_df.loc[:, 'Expected'].apply(np.round, args=(4,)) \n",
    "schalke_df"
   ]
  },
  {
   "cell_type": "code",
   "execution_count": null,
   "metadata": {
    "collapsed": true
   },
   "outputs": [],
   "source": []
  },
  {
   "cell_type": "code",
   "execution_count": 274,
   "metadata": {
    "collapsed": false
   },
   "outputs": [
    {
     "data": {
      "text/html": [
       "<div>\n",
       "<table border=\"1\" class=\"dataframe\">\n",
       "  <thead>\n",
       "    <tr style=\"text-align: right;\">\n",
       "      <th></th>\n",
       "      <th>Home_Team</th>\n",
       "      <th>Away_Team</th>\n",
       "      <th>Final</th>\n",
       "      <th>Expected</th>\n",
       "    </tr>\n",
       "    <tr>\n",
       "      <th>Gameday</th>\n",
       "      <th></th>\n",
       "      <th></th>\n",
       "      <th></th>\n",
       "      <th></th>\n",
       "    </tr>\n",
       "  </thead>\n",
       "  <tbody>\n",
       "    <tr>\n",
       "      <th>1.0</th>\n",
       "      <td>M'gladbach</td>\n",
       "      <td>Leverkusen</td>\n",
       "      <td>1.0</td>\n",
       "      <td>0.9874</td>\n",
       "    </tr>\n",
       "    <tr>\n",
       "      <th>2.0</th>\n",
       "      <td>Leverkusen</td>\n",
       "      <td>Hamburg</td>\n",
       "      <td>2.0</td>\n",
       "      <td>2.0616</td>\n",
       "    </tr>\n",
       "    <tr>\n",
       "      <th>3.0</th>\n",
       "      <td>Ein Frankfurt</td>\n",
       "      <td>Leverkusen</td>\n",
       "      <td>1.0</td>\n",
       "      <td>1.9121</td>\n",
       "    </tr>\n",
       "    <tr>\n",
       "      <th>4.0</th>\n",
       "      <td>Leverkusen</td>\n",
       "      <td>Augsburg</td>\n",
       "      <td>0.0</td>\n",
       "      <td>-0.0000</td>\n",
       "    </tr>\n",
       "    <tr>\n",
       "      <th>5.0</th>\n",
       "      <td>Mainz</td>\n",
       "      <td>Leverkusen</td>\n",
       "      <td>-1.0</td>\n",
       "      <td>-0.0265</td>\n",
       "    </tr>\n",
       "    <tr>\n",
       "      <th>6.0</th>\n",
       "      <td>Leverkusen</td>\n",
       "      <td>Dortmund</td>\n",
       "      <td>2.0</td>\n",
       "      <td>1.9817</td>\n",
       "    </tr>\n",
       "    <tr>\n",
       "      <th>7.0</th>\n",
       "      <td>Werder Bremen</td>\n",
       "      <td>Leverkusen</td>\n",
       "      <td>1.0</td>\n",
       "      <td>0.9993</td>\n",
       "    </tr>\n",
       "    <tr>\n",
       "      <th>8.0</th>\n",
       "      <td>Leverkusen</td>\n",
       "      <td>Hoffenheim</td>\n",
       "      <td>-3.0</td>\n",
       "      <td>-3.0000</td>\n",
       "    </tr>\n",
       "    <tr>\n",
       "      <th>9.0</th>\n",
       "      <td>Wolfsburg</td>\n",
       "      <td>Leverkusen</td>\n",
       "      <td>-1.0</td>\n",
       "      <td>-0.0041</td>\n",
       "    </tr>\n",
       "    <tr>\n",
       "      <th>10.0</th>\n",
       "      <td>Leverkusen</td>\n",
       "      <td>Darmstadt</td>\n",
       "      <td>1.0</td>\n",
       "      <td>2.9925</td>\n",
       "    </tr>\n",
       "    <tr>\n",
       "      <th>11.0</th>\n",
       "      <td>Leverkusen</td>\n",
       "      <td>RB Leipzig</td>\n",
       "      <td>-1.0</td>\n",
       "      <td>-0.0721</td>\n",
       "    </tr>\n",
       "    <tr>\n",
       "      <th>12.0</th>\n",
       "      <td>Bayern Munich</td>\n",
       "      <td>Leverkusen</td>\n",
       "      <td>1.0</td>\n",
       "      <td>0.8996</td>\n",
       "    </tr>\n",
       "    <tr>\n",
       "      <th>13.0</th>\n",
       "      <td>Leverkusen</td>\n",
       "      <td>Freiburg</td>\n",
       "      <td>0.0</td>\n",
       "      <td>-0.0000</td>\n",
       "    </tr>\n",
       "  </tbody>\n",
       "</table>\n",
       "</div>"
      ],
      "text/plain": [
       "              Home_Team    Away_Team  Final  Expected\n",
       "Gameday                                              \n",
       "1.0          M'gladbach   Leverkusen    1.0    0.9874\n",
       "2.0          Leverkusen      Hamburg    2.0    2.0616\n",
       "3.0       Ein Frankfurt   Leverkusen    1.0    1.9121\n",
       "4.0          Leverkusen     Augsburg    0.0   -0.0000\n",
       "5.0               Mainz   Leverkusen   -1.0   -0.0265\n",
       "6.0          Leverkusen     Dortmund    2.0    1.9817\n",
       "7.0       Werder Bremen   Leverkusen    1.0    0.9993\n",
       "8.0          Leverkusen   Hoffenheim   -3.0   -3.0000\n",
       "9.0           Wolfsburg   Leverkusen   -1.0   -0.0041\n",
       "10.0         Leverkusen    Darmstadt    1.0    2.9925\n",
       "11.0         Leverkusen   RB Leipzig   -1.0   -0.0721\n",
       "12.0      Bayern Munich   Leverkusen    1.0    0.8996\n",
       "13.0         Leverkusen     Freiburg    0.0   -0.0000"
      ]
     },
     "execution_count": 274,
     "metadata": {},
     "output_type": "execute_result"
    }
   ],
   "source": [
    "output_df = pd.merge(new_season_noluck_df, feats_import.loc[:, ['TID_H', 'TID_A', 'Gameday']], how='inner', left_index=True, right_index=True)\n",
    "output_df = pd.merge(output_df, teams_df.loc[:, ['TID', 'TName']], how='inner', left_on='TID_H', right_on='TID')\n",
    "output_df = pd.merge(output_df, teams_df.loc[:, ['TID', 'TName']], how='inner', left_on='TID_A', right_on='TID')\n",
    "\n",
    "output_df = output_df.drop(['TID_x', 'TID_y'], axis=1)\n",
    "\n",
    "\n",
    "\n",
    "tid = 2\n",
    "# pd.merge(output_df.query('TID_A==5'),           output_df.query('TID_H==5'))\n",
    "schalke_df = pd.concat([output_df[output_df['TID_H'] == tid], output_df[output_df['TID_A'] == tid]], axis=0).drop(['TID_H', 'TID_A'], axis=1).sort_values(by='Gameday')\n",
    "schalke_df = schalke_df.loc[:, ['Gameday', 'TName_x', 'TName_y', 'FTGD', 'EXP']].set_index('Gameday')\n",
    "schalke_df.columns = ['Home_Team', 'Away_Team', 'Final', 'Expected']\n",
    "schalke_df.loc[:, 'Expected'] = schalke_df.loc[:, 'Expected'].apply(np.round, args=(4,)) \n",
    "schalke_df"
   ]
  },
  {
   "cell_type": "code",
   "execution_count": 271,
   "metadata": {
    "collapsed": false
   },
   "outputs": [
    {
     "data": {
      "text/html": [
       "<div>\n",
       "<table border=\"1\" class=\"dataframe\">\n",
       "  <thead>\n",
       "    <tr style=\"text-align: right;\">\n",
       "      <th></th>\n",
       "      <th>Season</th>\n",
       "      <th>Gameday</th>\n",
       "      <th>Link</th>\n",
       "      <th>Score</th>\n",
       "      <th>Minute</th>\n",
       "      <th>Player</th>\n",
       "    </tr>\n",
       "  </thead>\n",
       "  <tbody>\n",
       "    <tr>\n",
       "      <th>0</th>\n",
       "      <td>2006.0</td>\n",
       "      <td>1.0</td>\n",
       "      <td>0.0</td>\n",
       "      <td>-1.0</td>\n",
       "      <td>37.0</td>\n",
       "      <td>30176.0</td>\n",
       "    </tr>\n",
       "    <tr>\n",
       "      <th>1</th>\n",
       "      <td>2006.0</td>\n",
       "      <td>1.0</td>\n",
       "      <td>0.0</td>\n",
       "      <td>-2.0</td>\n",
       "      <td>45.0</td>\n",
       "      <td>144.0</td>\n",
       "    </tr>\n",
       "    <tr>\n",
       "      <th>2</th>\n",
       "      <td>2006.0</td>\n",
       "      <td>1.0</td>\n",
       "      <td>0.0</td>\n",
       "      <td>-3.0</td>\n",
       "      <td>78.0</td>\n",
       "      <td>27610.0</td>\n",
       "    </tr>\n",
       "    <tr>\n",
       "      <th>3</th>\n",
       "      <td>2006.0</td>\n",
       "      <td>1.0</td>\n",
       "      <td>1.0</td>\n",
       "      <td>-1.0</td>\n",
       "      <td>32.0</td>\n",
       "      <td>29515.0</td>\n",
       "    </tr>\n",
       "    <tr>\n",
       "      <th>4</th>\n",
       "      <td>2006.0</td>\n",
       "      <td>1.0</td>\n",
       "      <td>1.0</td>\n",
       "      <td>0.0</td>\n",
       "      <td>67.0</td>\n",
       "      <td>37363.0</td>\n",
       "    </tr>\n",
       "    <tr>\n",
       "      <th>5</th>\n",
       "      <td>2006.0</td>\n",
       "      <td>1.0</td>\n",
       "      <td>2.0</td>\n",
       "      <td>1.0</td>\n",
       "      <td>24.0</td>\n",
       "      <td>25031.0</td>\n",
       "    </tr>\n",
       "    <tr>\n",
       "      <th>6</th>\n",
       "      <td>2006.0</td>\n",
       "      <td>1.0</td>\n",
       "      <td>2.0</td>\n",
       "      <td>2.0</td>\n",
       "      <td>55.0</td>\n",
       "      <td>27701.0</td>\n",
       "    </tr>\n",
       "    <tr>\n",
       "      <th>7</th>\n",
       "      <td>2006.0</td>\n",
       "      <td>1.0</td>\n",
       "      <td>3.0</td>\n",
       "      <td>1.0</td>\n",
       "      <td>51.0</td>\n",
       "      <td>27510.0</td>\n",
       "    </tr>\n",
       "    <tr>\n",
       "      <th>8</th>\n",
       "      <td>2006.0</td>\n",
       "      <td>1.0</td>\n",
       "      <td>3.0</td>\n",
       "      <td>2.0</td>\n",
       "      <td>60.0</td>\n",
       "      <td>9039.0</td>\n",
       "    </tr>\n",
       "    <tr>\n",
       "      <th>9</th>\n",
       "      <td>2006.0</td>\n",
       "      <td>1.0</td>\n",
       "      <td>4.0</td>\n",
       "      <td>1.0</td>\n",
       "      <td>30.0</td>\n",
       "      <td>26143.0</td>\n",
       "    </tr>\n",
       "    <tr>\n",
       "      <th>10</th>\n",
       "      <td>2006.0</td>\n",
       "      <td>1.0</td>\n",
       "      <td>4.0</td>\n",
       "      <td>0.0</td>\n",
       "      <td>72.0</td>\n",
       "      <td>23263.0</td>\n",
       "    </tr>\n",
       "    <tr>\n",
       "      <th>11</th>\n",
       "      <td>2006.0</td>\n",
       "      <td>1.0</td>\n",
       "      <td>6.0</td>\n",
       "      <td>1.0</td>\n",
       "      <td>29.0</td>\n",
       "      <td>37671.0</td>\n",
       "    </tr>\n",
       "    <tr>\n",
       "      <th>12</th>\n",
       "      <td>2006.0</td>\n",
       "      <td>1.0</td>\n",
       "      <td>6.0</td>\n",
       "      <td>2.0</td>\n",
       "      <td>71.0</td>\n",
       "      <td>28329.0</td>\n",
       "    </tr>\n",
       "    <tr>\n",
       "      <th>13</th>\n",
       "      <td>2006.0</td>\n",
       "      <td>1.0</td>\n",
       "      <td>6.0</td>\n",
       "      <td>1.0</td>\n",
       "      <td>86.0</td>\n",
       "      <td>437.0</td>\n",
       "    </tr>\n",
       "    <tr>\n",
       "      <th>14</th>\n",
       "      <td>2006.0</td>\n",
       "      <td>1.0</td>\n",
       "      <td>7.0</td>\n",
       "      <td>-1.0</td>\n",
       "      <td>20.0</td>\n",
       "      <td>31633.0</td>\n",
       "    </tr>\n",
       "    <tr>\n",
       "      <th>15</th>\n",
       "      <td>2006.0</td>\n",
       "      <td>1.0</td>\n",
       "      <td>7.0</td>\n",
       "      <td>0.0</td>\n",
       "      <td>40.0</td>\n",
       "      <td>27744.0</td>\n",
       "    </tr>\n",
       "    <tr>\n",
       "      <th>16</th>\n",
       "      <td>2006.0</td>\n",
       "      <td>1.0</td>\n",
       "      <td>7.0</td>\n",
       "      <td>1.0</td>\n",
       "      <td>67.0</td>\n",
       "      <td>22801.0</td>\n",
       "    </tr>\n",
       "    <tr>\n",
       "      <th>17</th>\n",
       "      <td>2006.0</td>\n",
       "      <td>1.0</td>\n",
       "      <td>7.0</td>\n",
       "      <td>0.0</td>\n",
       "      <td>79.0</td>\n",
       "      <td>30274.0</td>\n",
       "    </tr>\n",
       "    <tr>\n",
       "      <th>18</th>\n",
       "      <td>2006.0</td>\n",
       "      <td>1.0</td>\n",
       "      <td>7.0</td>\n",
       "      <td>-1.0</td>\n",
       "      <td>85.0</td>\n",
       "      <td>23709.0</td>\n",
       "    </tr>\n",
       "    <tr>\n",
       "      <th>19</th>\n",
       "      <td>2006.0</td>\n",
       "      <td>1.0</td>\n",
       "      <td>7.0</td>\n",
       "      <td>-2.0</td>\n",
       "      <td>90.0</td>\n",
       "      <td>25463.0</td>\n",
       "    </tr>\n",
       "    <tr>\n",
       "      <th>20</th>\n",
       "      <td>2006.0</td>\n",
       "      <td>1.0</td>\n",
       "      <td>8.0</td>\n",
       "      <td>1.0</td>\n",
       "      <td>32.0</td>\n",
       "      <td>242.0</td>\n",
       "    </tr>\n",
       "    <tr>\n",
       "      <th>21</th>\n",
       "      <td>2006.0</td>\n",
       "      <td>1.0</td>\n",
       "      <td>8.0</td>\n",
       "      <td>2.0</td>\n",
       "      <td>45.0</td>\n",
       "      <td>34255.0</td>\n",
       "    </tr>\n",
       "    <tr>\n",
       "      <th>22</th>\n",
       "      <td>2006.0</td>\n",
       "      <td>1.0</td>\n",
       "      <td>8.0</td>\n",
       "      <td>3.0</td>\n",
       "      <td>60.0</td>\n",
       "      <td>25405.0</td>\n",
       "    </tr>\n",
       "    <tr>\n",
       "      <th>23</th>\n",
       "      <td>2006.0</td>\n",
       "      <td>2.0</td>\n",
       "      <td>9.0</td>\n",
       "      <td>-1.0</td>\n",
       "      <td>39.0</td>\n",
       "      <td>27621.0</td>\n",
       "    </tr>\n",
       "    <tr>\n",
       "      <th>24</th>\n",
       "      <td>2006.0</td>\n",
       "      <td>2.0</td>\n",
       "      <td>9.0</td>\n",
       "      <td>0.0</td>\n",
       "      <td>66.0</td>\n",
       "      <td>9082.0</td>\n",
       "    </tr>\n",
       "    <tr>\n",
       "      <th>25</th>\n",
       "      <td>2006.0</td>\n",
       "      <td>2.0</td>\n",
       "      <td>9.0</td>\n",
       "      <td>-1.0</td>\n",
       "      <td>73.0</td>\n",
       "      <td>27472.0</td>\n",
       "    </tr>\n",
       "    <tr>\n",
       "      <th>26</th>\n",
       "      <td>2006.0</td>\n",
       "      <td>2.0</td>\n",
       "      <td>9.0</td>\n",
       "      <td>0.0</td>\n",
       "      <td>76.0</td>\n",
       "      <td>127.0</td>\n",
       "    </tr>\n",
       "    <tr>\n",
       "      <th>27</th>\n",
       "      <td>2006.0</td>\n",
       "      <td>2.0</td>\n",
       "      <td>9.0</td>\n",
       "      <td>-1.0</td>\n",
       "      <td>82.0</td>\n",
       "      <td>27472.0</td>\n",
       "    </tr>\n",
       "    <tr>\n",
       "      <th>28</th>\n",
       "      <td>2006.0</td>\n",
       "      <td>2.0</td>\n",
       "      <td>10.0</td>\n",
       "      <td>-1.0</td>\n",
       "      <td>53.0</td>\n",
       "      <td>28011.0</td>\n",
       "    </tr>\n",
       "    <tr>\n",
       "      <th>29</th>\n",
       "      <td>2006.0</td>\n",
       "      <td>2.0</td>\n",
       "      <td>11.0</td>\n",
       "      <td>1.0</td>\n",
       "      <td>76.0</td>\n",
       "      <td>26547.0</td>\n",
       "    </tr>\n",
       "    <tr>\n",
       "      <th>...</th>\n",
       "      <td>...</td>\n",
       "      <td>...</td>\n",
       "      <td>...</td>\n",
       "      <td>...</td>\n",
       "      <td>...</td>\n",
       "      <td>...</td>\n",
       "    </tr>\n",
       "    <tr>\n",
       "      <th>9110</th>\n",
       "      <td>2016.0</td>\n",
       "      <td>13.0</td>\n",
       "      <td>3167.0</td>\n",
       "      <td>1.0</td>\n",
       "      <td>2.0</td>\n",
       "      <td>67074.0</td>\n",
       "    </tr>\n",
       "    <tr>\n",
       "      <th>9111</th>\n",
       "      <td>2016.0</td>\n",
       "      <td>13.0</td>\n",
       "      <td>3167.0</td>\n",
       "      <td>0.0</td>\n",
       "      <td>31.0</td>\n",
       "      <td>70756.0</td>\n",
       "    </tr>\n",
       "    <tr>\n",
       "      <th>9112</th>\n",
       "      <td>2016.0</td>\n",
       "      <td>13.0</td>\n",
       "      <td>3167.0</td>\n",
       "      <td>1.0</td>\n",
       "      <td>47.0</td>\n",
       "      <td>70756.0</td>\n",
       "    </tr>\n",
       "    <tr>\n",
       "      <th>9113</th>\n",
       "      <td>2016.0</td>\n",
       "      <td>13.0</td>\n",
       "      <td>3168.0</td>\n",
       "      <td>-1.0</td>\n",
       "      <td>6.0</td>\n",
       "      <td>44484.0</td>\n",
       "    </tr>\n",
       "    <tr>\n",
       "      <th>9114</th>\n",
       "      <td>2016.0</td>\n",
       "      <td>13.0</td>\n",
       "      <td>3168.0</td>\n",
       "      <td>0.0</td>\n",
       "      <td>7.0</td>\n",
       "      <td>58396.0</td>\n",
       "    </tr>\n",
       "    <tr>\n",
       "      <th>9115</th>\n",
       "      <td>2016.0</td>\n",
       "      <td>13.0</td>\n",
       "      <td>3168.0</td>\n",
       "      <td>1.0</td>\n",
       "      <td>15.0</td>\n",
       "      <td>39456.0</td>\n",
       "    </tr>\n",
       "    <tr>\n",
       "      <th>9116</th>\n",
       "      <td>2016.0</td>\n",
       "      <td>13.0</td>\n",
       "      <td>3168.0</td>\n",
       "      <td>2.0</td>\n",
       "      <td>64.0</td>\n",
       "      <td>91137.0</td>\n",
       "    </tr>\n",
       "    <tr>\n",
       "      <th>9117</th>\n",
       "      <td>2016.0</td>\n",
       "      <td>13.0</td>\n",
       "      <td>3168.0</td>\n",
       "      <td>3.0</td>\n",
       "      <td>68.0</td>\n",
       "      <td>58396.0</td>\n",
       "    </tr>\n",
       "    <tr>\n",
       "      <th>9118</th>\n",
       "      <td>2016.0</td>\n",
       "      <td>13.0</td>\n",
       "      <td>3169.0</td>\n",
       "      <td>1.0</td>\n",
       "      <td>12.0</td>\n",
       "      <td>87919.0</td>\n",
       "    </tr>\n",
       "    <tr>\n",
       "      <th>9119</th>\n",
       "      <td>2016.0</td>\n",
       "      <td>13.0</td>\n",
       "      <td>3169.0</td>\n",
       "      <td>0.0</td>\n",
       "      <td>16.0</td>\n",
       "      <td>54252.0</td>\n",
       "    </tr>\n",
       "    <tr>\n",
       "      <th>9120</th>\n",
       "      <td>2016.0</td>\n",
       "      <td>13.0</td>\n",
       "      <td>3169.0</td>\n",
       "      <td>1.0</td>\n",
       "      <td>18.0</td>\n",
       "      <td>77352.0</td>\n",
       "    </tr>\n",
       "    <tr>\n",
       "      <th>9121</th>\n",
       "      <td>2016.0</td>\n",
       "      <td>13.0</td>\n",
       "      <td>3169.0</td>\n",
       "      <td>0.0</td>\n",
       "      <td>69.0</td>\n",
       "      <td>41682.0</td>\n",
       "    </tr>\n",
       "    <tr>\n",
       "      <th>9122</th>\n",
       "      <td>2016.0</td>\n",
       "      <td>13.0</td>\n",
       "      <td>3169.0</td>\n",
       "      <td>-1.0</td>\n",
       "      <td>90.0</td>\n",
       "      <td>33715.0</td>\n",
       "    </tr>\n",
       "    <tr>\n",
       "      <th>9123</th>\n",
       "      <td>2016.0</td>\n",
       "      <td>13.0</td>\n",
       "      <td>3170.0</td>\n",
       "      <td>1.0</td>\n",
       "      <td>4.0</td>\n",
       "      <td>81292.0</td>\n",
       "    </tr>\n",
       "    <tr>\n",
       "      <th>9124</th>\n",
       "      <td>2016.0</td>\n",
       "      <td>13.0</td>\n",
       "      <td>3170.0</td>\n",
       "      <td>0.0</td>\n",
       "      <td>8.0</td>\n",
       "      <td>51570.0</td>\n",
       "    </tr>\n",
       "    <tr>\n",
       "      <th>9125</th>\n",
       "      <td>2016.0</td>\n",
       "      <td>13.0</td>\n",
       "      <td>3170.0</td>\n",
       "      <td>-1.0</td>\n",
       "      <td>21.0</td>\n",
       "      <td>28673.0</td>\n",
       "    </tr>\n",
       "    <tr>\n",
       "      <th>9126</th>\n",
       "      <td>2016.0</td>\n",
       "      <td>13.0</td>\n",
       "      <td>3170.0</td>\n",
       "      <td>-2.0</td>\n",
       "      <td>90.0</td>\n",
       "      <td>51570.0</td>\n",
       "    </tr>\n",
       "    <tr>\n",
       "      <th>9127</th>\n",
       "      <td>2016.0</td>\n",
       "      <td>13.0</td>\n",
       "      <td>3171.0</td>\n",
       "      <td>1.0</td>\n",
       "      <td>8.0</td>\n",
       "      <td>40133.0</td>\n",
       "    </tr>\n",
       "    <tr>\n",
       "      <th>9128</th>\n",
       "      <td>2016.0</td>\n",
       "      <td>13.0</td>\n",
       "      <td>3171.0</td>\n",
       "      <td>2.0</td>\n",
       "      <td>39.0</td>\n",
       "      <td>67127.0</td>\n",
       "    </tr>\n",
       "    <tr>\n",
       "      <th>9129</th>\n",
       "      <td>2016.0</td>\n",
       "      <td>13.0</td>\n",
       "      <td>3171.0</td>\n",
       "      <td>3.0</td>\n",
       "      <td>67.0</td>\n",
       "      <td>40133.0</td>\n",
       "    </tr>\n",
       "    <tr>\n",
       "      <th>9130</th>\n",
       "      <td>2016.0</td>\n",
       "      <td>13.0</td>\n",
       "      <td>3171.0</td>\n",
       "      <td>4.0</td>\n",
       "      <td>89.0</td>\n",
       "      <td>63803.0</td>\n",
       "    </tr>\n",
       "    <tr>\n",
       "      <th>9131</th>\n",
       "      <td>2016.0</td>\n",
       "      <td>13.0</td>\n",
       "      <td>3172.0</td>\n",
       "      <td>1.0</td>\n",
       "      <td>24.0</td>\n",
       "      <td>41678.0</td>\n",
       "    </tr>\n",
       "    <tr>\n",
       "      <th>9132</th>\n",
       "      <td>2016.0</td>\n",
       "      <td>13.0</td>\n",
       "      <td>3172.0</td>\n",
       "      <td>0.0</td>\n",
       "      <td>58.0</td>\n",
       "      <td>46982.0</td>\n",
       "    </tr>\n",
       "    <tr>\n",
       "      <th>9133</th>\n",
       "      <td>2016.0</td>\n",
       "      <td>13.0</td>\n",
       "      <td>3172.0</td>\n",
       "      <td>1.0</td>\n",
       "      <td>76.0</td>\n",
       "      <td>39065.0</td>\n",
       "    </tr>\n",
       "    <tr>\n",
       "      <th>9134</th>\n",
       "      <td>2016.0</td>\n",
       "      <td>13.0</td>\n",
       "      <td>3173.0</td>\n",
       "      <td>-1.0</td>\n",
       "      <td>31.0</td>\n",
       "      <td>71610.0</td>\n",
       "    </tr>\n",
       "    <tr>\n",
       "      <th>9135</th>\n",
       "      <td>2016.0</td>\n",
       "      <td>13.0</td>\n",
       "      <td>3173.0</td>\n",
       "      <td>0.0</td>\n",
       "      <td>60.0</td>\n",
       "      <td>64038.0</td>\n",
       "    </tr>\n",
       "    <tr>\n",
       "      <th>9136</th>\n",
       "      <td>2016.0</td>\n",
       "      <td>13.0</td>\n",
       "      <td>3174.0</td>\n",
       "      <td>-1.0</td>\n",
       "      <td>11.0</td>\n",
       "      <td>73214.0</td>\n",
       "    </tr>\n",
       "    <tr>\n",
       "      <th>9137</th>\n",
       "      <td>2016.0</td>\n",
       "      <td>13.0</td>\n",
       "      <td>3174.0</td>\n",
       "      <td>0.0</td>\n",
       "      <td>34.0</td>\n",
       "      <td>67399.0</td>\n",
       "    </tr>\n",
       "    <tr>\n",
       "      <th>9138</th>\n",
       "      <td>2016.0</td>\n",
       "      <td>13.0</td>\n",
       "      <td>3175.0</td>\n",
       "      <td>-1.0</td>\n",
       "      <td>30.0</td>\n",
       "      <td>63799.0</td>\n",
       "    </tr>\n",
       "    <tr>\n",
       "      <th>9139</th>\n",
       "      <td>2016.0</td>\n",
       "      <td>13.0</td>\n",
       "      <td>3175.0</td>\n",
       "      <td>-2.0</td>\n",
       "      <td>90.0</td>\n",
       "      <td>58119.0</td>\n",
       "    </tr>\n",
       "  </tbody>\n",
       "</table>\n",
       "<p>9140 rows × 6 columns</p>\n",
       "</div>"
      ],
      "text/plain": [
       "      Season  Gameday    Link  Score  Minute   Player\n",
       "0     2006.0      1.0     0.0   -1.0    37.0  30176.0\n",
       "1     2006.0      1.0     0.0   -2.0    45.0    144.0\n",
       "2     2006.0      1.0     0.0   -3.0    78.0  27610.0\n",
       "3     2006.0      1.0     1.0   -1.0    32.0  29515.0\n",
       "4     2006.0      1.0     1.0    0.0    67.0  37363.0\n",
       "5     2006.0      1.0     2.0    1.0    24.0  25031.0\n",
       "6     2006.0      1.0     2.0    2.0    55.0  27701.0\n",
       "7     2006.0      1.0     3.0    1.0    51.0  27510.0\n",
       "8     2006.0      1.0     3.0    2.0    60.0   9039.0\n",
       "9     2006.0      1.0     4.0    1.0    30.0  26143.0\n",
       "10    2006.0      1.0     4.0    0.0    72.0  23263.0\n",
       "11    2006.0      1.0     6.0    1.0    29.0  37671.0\n",
       "12    2006.0      1.0     6.0    2.0    71.0  28329.0\n",
       "13    2006.0      1.0     6.0    1.0    86.0    437.0\n",
       "14    2006.0      1.0     7.0   -1.0    20.0  31633.0\n",
       "15    2006.0      1.0     7.0    0.0    40.0  27744.0\n",
       "16    2006.0      1.0     7.0    1.0    67.0  22801.0\n",
       "17    2006.0      1.0     7.0    0.0    79.0  30274.0\n",
       "18    2006.0      1.0     7.0   -1.0    85.0  23709.0\n",
       "19    2006.0      1.0     7.0   -2.0    90.0  25463.0\n",
       "20    2006.0      1.0     8.0    1.0    32.0    242.0\n",
       "21    2006.0      1.0     8.0    2.0    45.0  34255.0\n",
       "22    2006.0      1.0     8.0    3.0    60.0  25405.0\n",
       "23    2006.0      2.0     9.0   -1.0    39.0  27621.0\n",
       "24    2006.0      2.0     9.0    0.0    66.0   9082.0\n",
       "25    2006.0      2.0     9.0   -1.0    73.0  27472.0\n",
       "26    2006.0      2.0     9.0    0.0    76.0    127.0\n",
       "27    2006.0      2.0     9.0   -1.0    82.0  27472.0\n",
       "28    2006.0      2.0    10.0   -1.0    53.0  28011.0\n",
       "29    2006.0      2.0    11.0    1.0    76.0  26547.0\n",
       "...      ...      ...     ...    ...     ...      ...\n",
       "9110  2016.0     13.0  3167.0    1.0     2.0  67074.0\n",
       "9111  2016.0     13.0  3167.0    0.0    31.0  70756.0\n",
       "9112  2016.0     13.0  3167.0    1.0    47.0  70756.0\n",
       "9113  2016.0     13.0  3168.0   -1.0     6.0  44484.0\n",
       "9114  2016.0     13.0  3168.0    0.0     7.0  58396.0\n",
       "9115  2016.0     13.0  3168.0    1.0    15.0  39456.0\n",
       "9116  2016.0     13.0  3168.0    2.0    64.0  91137.0\n",
       "9117  2016.0     13.0  3168.0    3.0    68.0  58396.0\n",
       "9118  2016.0     13.0  3169.0    1.0    12.0  87919.0\n",
       "9119  2016.0     13.0  3169.0    0.0    16.0  54252.0\n",
       "9120  2016.0     13.0  3169.0    1.0    18.0  77352.0\n",
       "9121  2016.0     13.0  3169.0    0.0    69.0  41682.0\n",
       "9122  2016.0     13.0  3169.0   -1.0    90.0  33715.0\n",
       "9123  2016.0     13.0  3170.0    1.0     4.0  81292.0\n",
       "9124  2016.0     13.0  3170.0    0.0     8.0  51570.0\n",
       "9125  2016.0     13.0  3170.0   -1.0    21.0  28673.0\n",
       "9126  2016.0     13.0  3170.0   -2.0    90.0  51570.0\n",
       "9127  2016.0     13.0  3171.0    1.0     8.0  40133.0\n",
       "9128  2016.0     13.0  3171.0    2.0    39.0  67127.0\n",
       "9129  2016.0     13.0  3171.0    3.0    67.0  40133.0\n",
       "9130  2016.0     13.0  3171.0    4.0    89.0  63803.0\n",
       "9131  2016.0     13.0  3172.0    1.0    24.0  41678.0\n",
       "9132  2016.0     13.0  3172.0    0.0    58.0  46982.0\n",
       "9133  2016.0     13.0  3172.0    1.0    76.0  39065.0\n",
       "9134  2016.0     13.0  3173.0   -1.0    31.0  71610.0\n",
       "9135  2016.0     13.0  3173.0    0.0    60.0  64038.0\n",
       "9136  2016.0     13.0  3174.0   -1.0    11.0  73214.0\n",
       "9137  2016.0     13.0  3174.0    0.0    34.0  67399.0\n",
       "9138  2016.0     13.0  3175.0   -1.0    30.0  63799.0\n",
       "9139  2016.0     13.0  3175.0   -2.0    90.0  58119.0\n",
       "\n",
       "[9140 rows x 6 columns]"
      ]
     },
     "execution_count": 271,
     "metadata": {},
     "output_type": "execute_result"
    }
   ],
   "source": []
  },
  {
   "cell_type": "code",
   "execution_count": null,
   "metadata": {
    "collapsed": true
   },
   "outputs": [],
   "source": []
  }
 ],
 "metadata": {
  "anaconda-cloud": {},
  "kernelspec": {
   "display_name": "Python [Root]",
   "language": "python",
   "name": "Python [Root]"
  },
  "language_info": {
   "codemirror_mode": {
    "name": "ipython",
    "version": 2
   },
   "file_extension": ".py",
   "mimetype": "text/x-python",
   "name": "python",
   "nbconvert_exporter": "python",
   "pygments_lexer": "ipython2",
   "version": "2.7.12"
  }
 },
 "nbformat": 4,
 "nbformat_minor": 0
}
