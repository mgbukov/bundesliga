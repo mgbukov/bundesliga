{
 "cells": [
  {
   "cell_type": "code",
   "execution_count": null,
   "metadata": {
    "collapsed": true
   },
   "outputs": [],
   "source": [
    "import pandas as pd\n",
    "import numpy as np\n",
    "import re\n",
    "import requests\n",
    "import time\n",
    "\n",
    "from bs4 import BeautifulSoup\n",
    "\n",
    "def moveSibling(tag, number):\n",
    "\ti = 1\n",
    "\twhile i <= number:\n",
    "\t\ttag = tag.nextSibling\n",
    "\t\ti += 1\n",
    "\treturn tag\n",
    "\n",
    "from matplotlib import pyplot as plt\n",
    "%matplotlib inline"
   ]
  },
  {
   "cell_type": "code",
   "execution_count": null,
   "metadata": {
    "collapsed": false
   },
   "outputs": [],
   "source": []
  },
  {
   "cell_type": "code",
   "execution_count": 412,
   "metadata": {
    "collapsed": false,
    "scrolled": true
   },
   "outputs": [
    {
     "name": "stdout",
     "output_type": "stream",
     "text": [
      "Download successful.\n",
      "Merge successful.\n"
     ]
    }
   ],
   "source": [
    "# Set up dfs for download\n",
    "\n",
    "columns_dl = 'Date', 'HomeTeam', 'AwayTeam', 'FTHG', 'FTAG', 'FTR', 'HTHG', 'HTAG', 'HTR', 'HS', 'AS', 'HST', 'AST', 'HF', 'AF', 'HC', 'AC', 'HY', 'AY', 'HR', 'AR', 'B365H', 'B365D', 'B365A'\n",
    "downloaded_df = pd.DataFrame(data=None, columns=columns_dl)\n",
    "\n",
    "try:\n",
    "    for year in range(2006, 2017):\n",
    "        y1 = str(year)[2:]\n",
    "        y2 = str(year+1)[2:]\n",
    "        url = \"http://www.football-data.co.uk/mmz4281/\" + y1 + y2 + \"/D1.csv\"\n",
    "        df = pd.read_csv(url)\n",
    "        df = df.loc[:, columns_dl]\n",
    "        downloaded_df = downloaded_df.append(df)\n",
    "        \n",
    "        seasonlist = [2006 + i/(9*34) for i in range(len(downloaded_df))]\n",
    "        gamedaylist = [1 + np.mod(i/9,34) for i in range(len(downloaded_df))]\n",
    "        \n",
    "        downloaded_df.loc[:, \"Season\"] = seasonlist\n",
    "        downloaded_df.loc[:, \"Gameday\"] = gamedaylist\n",
    "        \n",
    "        teamlist = downloaded_df.loc[:, \"HomeTeam\"].unique()\n",
    "        data = np.array([range(len(teamlist)), teamlist]).T\n",
    "        team_df = pd.DataFrame(data=data, columns=['TID', 'TName'])\n",
    "        \n",
    "    downloaded_df.index = range(len(downloaded_df))\n",
    "    downloaded_df.to_csv('Downloaded_Raw_2006_2016.csv')\n",
    "    print \"Download successful.\"\n",
    "except:\n",
    "    print \"Download failed. Try and proceed without.\"\n",
    "    try: \n",
    "        team_df = pd.read_csv(\"Team_ID_hardcoded.csv\")\n",
    "        team_df = team_df.loc[:, [\"TID\", \"TName\"]]\n",
    "    except:\n",
    "        print \"Team_DF error\"\n",
    "\n",
    "        \n",
    "try:\n",
    "    cleaned_df = pd.merge(team_df, downloaded_df, how='inner', left_on='TName', right_on='HomeTeam')\n",
    "    cleaned_df = pd.merge(team_df, cleaned_df, how='inner', left_on='TName', right_on='AwayTeam', suffixes=('_A', '_H'))\n",
    "\n",
    "    columns_cl = ['Season', 'Gameday', 'TID_H', 'TID_A', 'FTHG', 'FTAG', 'FTR', 'HTHG', 'HTAG', 'HTR', 'HS', 'AS', 'HST', 'AST', 'HF', 'AF', 'HC', 'AC', 'HY', 'AY', 'HR', 'AR', 'B365H', 'B365D', 'B365A']\n",
    "    cleaned_df = cleaned_df.loc[:, columns_cl].sort_values(['Season', 'Gameday'])\n",
    "    cleaned_df.index = range(len(cleaned_df))\n",
    "\n",
    "    cleaned_df.to_csv('Bundesliga_Data_2006_2016.csv', index=False)\n",
    "    print \"Merge successful.\"\n",
    "\n",
    "except:\n",
    "    cleaned_df = pd.read_csv('Bundesliga_Data_2006_2016.csv', index_col=0)\n",
    "    print \"Import successful.\"\n",
    "\n",
    "\n",
    "    \n",
    "if team_df.index.name != 'TID':\n",
    "    team_df = team_df.set_index('TID')"
   ]
  },
  {
   "cell_type": "code",
   "execution_count": null,
   "metadata": {
    "collapsed": false
   },
   "outputs": [],
   "source": [
    "# Read files from kicker database\n",
    "try:\n",
    "    matches_df = pd.read_csv(\"Matches_2006_2016.csv\", index_col=0)\n",
    "except:\n",
    "    print \"Error reading matches\"\n",
    "try:\n",
    "    goals_df = pd.read_csv(\"Goals_2006_2016.csv\", index_col=0)\n",
    "except:\n",
    "    print \"Error reading goals\"\n",
    "try:\n",
    "    lineup_df = pd.read_csv(\"Lineup_2006_2016.csv\", index_col=0)\n",
    "except:\n",
    "    print \"Error reading lineups\""
   ]
  },
  {
   "cell_type": "code",
   "execution_count": 415,
   "metadata": {
    "collapsed": false,
    "scrolled": true
   },
   "outputs": [
    {
     "name": "stdout",
     "output_type": "stream",
     "text": [
      "Import Successful\n"
     ]
    }
   ],
   "source": [
    "try:\n",
    "    key_df = pd.read_csv('Team_ID_hardcoded.csv')\n",
    "    print \"Import Successful\"\n",
    "except:\n",
    "    team_list = []\n",
    "    for year in range(2005,2017):\n",
    "        url = 'http://www.kicker.de/news/fussball/bundesliga/vereine/1-bundesliga/'\n",
    "        url += str(year) + '-' + str(year+1)[-2:]\n",
    "        url += '/vereine-liste.html'\n",
    "\n",
    "        website = requests.get(url)\n",
    "        main = BeautifulSoup(website.content, 'html.parser')\n",
    "        for team in main.find_all('a', {'class': 'link verinsLinkBild'}):\n",
    "            team_name_id = team.get('href').split('/')[7]\n",
    "            team_name = team_name_id[0:team_name_id.rfind(\"-\")]\n",
    "            team_id = team_name_id[team_name_id.rfind(\"-\")+1:]\n",
    "            team_list += [[int(team_id), team_name]]\n",
    "            \n",
    "    kicker_team_df = pd.DataFrame(data=team_list, columns=['KID', 'KName'])\n",
    "    kicker_team_df = kicker_team_df.drop_duplicates().set_index('KID')\n",
    "    \n",
    "    print \"Manual hard-coding of IDs necessary.\"\n",
    "    # Then manually hardcode matching IDs"
   ]
  },
  {
   "cell_type": "code",
   "execution_count": 479,
   "metadata": {
    "collapsed": false
   },
   "outputs": [],
   "source": [
    "kicker_grades_df = \\\n",
    "pd.concat([matches_df.loc[:, ['Season', 'Gameday', 'TeamH', 'HGA']].rename(columns={'TeamH': 'KID', 'HGA': 'GradeAvg'}),\n",
    "           matches_df.loc[:, ['Season', 'Gameday', 'TeamA', 'AGA']].rename(columns={'TeamA': 'KID', 'AGA': 'GradeAvg'})])\n",
    "\n",
    "kicker_grades_df.to_csv('Grades_2006_2016.csv')"
   ]
  },
  {
   "cell_type": "code",
   "execution_count": 480,
   "metadata": {
    "collapsed": false,
    "scrolled": true
   },
   "outputs": [
    {
     "data": {
      "text/html": [
       "<div>\n",
       "<table border=\"1\" class=\"dataframe\">\n",
       "  <thead>\n",
       "    <tr style=\"text-align: right;\">\n",
       "      <th></th>\n",
       "      <th>TName</th>\n",
       "      <th>GradeAvg</th>\n",
       "    </tr>\n",
       "  </thead>\n",
       "  <tbody>\n",
       "    <tr>\n",
       "      <th>33</th>\n",
       "      <td>RB Leipzig</td>\n",
       "      <td>2.990260</td>\n",
       "    </tr>\n",
       "    <tr>\n",
       "      <th>0</th>\n",
       "      <td>Bayern Munich</td>\n",
       "      <td>3.218580</td>\n",
       "    </tr>\n",
       "    <tr>\n",
       "      <th>12</th>\n",
       "      <td>Dortmund</td>\n",
       "      <td>3.322676</td>\n",
       "    </tr>\n",
       "    <tr>\n",
       "      <th>2</th>\n",
       "      <td>Leverkusen</td>\n",
       "      <td>3.381947</td>\n",
       "    </tr>\n",
       "    <tr>\n",
       "      <th>32</th>\n",
       "      <td>Ingolstadt</td>\n",
       "      <td>3.515152</td>\n",
       "    </tr>\n",
       "  </tbody>\n",
       "</table>\n",
       "</div>"
      ],
      "text/plain": [
       "             TName  GradeAvg\n",
       "33      RB Leipzig  2.990260\n",
       "0    Bayern Munich  3.218580\n",
       "12        Dortmund  3.322676\n",
       "2       Leverkusen  3.381947\n",
       "32      Ingolstadt  3.515152"
      ]
     },
     "execution_count": 480,
     "metadata": {},
     "output_type": "execute_result"
    }
   ],
   "source": [
    "kicker_grades_df = pd.read_csv('Grades_2006_2016.csv')\n",
    "\n",
    "def rescale_grade(x):\n",
    "    return 1 - (x-1.)/5\n",
    "\n",
    "grades_df = kicker_grades_df.merge(key_df, how='left', left_on='KID', right_on='KID').loc[:, ('Season', 'Gameday','TID', 'GradeAvg')]\n",
    "grades_df = grades_df.set_index(['TID', 'Season', 'Gameday']).sort_index()\n",
    "grades_df = grades_df.apply(rescale_grade)\n",
    "\n",
    "\n",
    "pd.merge(\n",
    "    kicker_grades_df.loc[:, ['KID', 'GradeAvg']].groupby('KID').mean(),\n",
    "    key_df.loc[:, ['KID', 'TName']], \n",
    "    how='inner', left_index=True, right_on='KID').loc[:, ['TName', 'GradeAvg']].sort_values('GradeAvg').head()"
   ]
  },
  {
   "cell_type": "code",
   "execution_count": 481,
   "metadata": {
    "collapsed": false
   },
   "outputs": [],
   "source": [
    "def inverse(x):\n",
    "    return 1./x\n",
    "def points(x):\n",
    "    if x > 0:\n",
    "        return 3\n",
    "    elif x == 0:\n",
    "        return 1\n",
    "    else:\n",
    "        return 0"
   ]
  },
  {
   "cell_type": "code",
   "execution_count": 615,
   "metadata": {
    "collapsed": false,
    "scrolled": true
   },
   "outputs": [],
   "source": [
    "complete_df = cleaned_df.merge(grades_df, how='inner', left_on=['TID_H', 'Season', 'Gameday'], right_index=True)\n",
    "complete_df = complete_df.merge(grades_df, how='inner', left_on=['TID_A', 'Season', 'Gameday'], right_index=True)\n",
    "\n",
    "complete_df = complete_df.rename(columns={'GradeAvg_x': 'HGA', 'GradeAvg_y': 'AGA'})\n",
    "try:\n",
    "    complete_df = complete_df.replace({'H':1, 'D':0.5, 'A':0})\n",
    "except:\n",
    "    print \"Replace Problem\"\n",
    "complete_df.loc[:, 'FTGD'] = complete_df.loc[:, 'FTHG'] - complete_df.loc[:, 'FTAG']\n",
    "complete_df.loc[:, 'HTGD'] = complete_df.loc[:, 'HTHG'] - complete_df.loc[:, 'HTAG']\n",
    "\n",
    "try:\n",
    "    complete_df.loc[:, 'Odds'] = (complete_df.filter(regex='^B365').apply(inverse)*(1,0.5,0)).apply(np.sum, axis=1)\n",
    "except:\n",
    "    complete_df.loc[:, 'Odds'] = np.nan\n",
    "\n",
    "complete_df = complete_df.filter(regex='^(?!B365)')\n",
    "complete_df = complete_df.drop(['FTAG', 'FTR', 'HTAG', 'HTR'], axis=1)"
   ]
  },
  {
   "cell_type": "code",
   "execution_count": 669,
   "metadata": {
    "collapsed": false
   },
   "outputs": [],
   "source": [
    "try:\n",
    "    complete_df = complete_df.drop('Gameday', axis=1)\n",
    "except:\n",
    "    pass\n",
    "\n",
    "make_int_columns = [u'Attendance', u'ChancesA', u'ChancesH', u'CornersA', u'CornersH', \n",
    "                    u'Gameday', u'GoalsA', u'GoalsH', u'Link', u'Season', u'TID_H', u'TID_A']\n",
    "\n",
    "for col in make_int_columns:\n",
    "    kicker_merged_df.loc[:, col] = kicker_merged_df.loc[:, col].astype(int)\n",
    "    \n",
    "all_merged_df = pd.merge(complete_df, kicker_merged_df.drop(['HGA', 'AGA', 'TeamH', 'TeamA', 'GoalsH', 'GoalsA'], axis=1), how='left', left_on=['Season', 'TID_H', 'TID_A'], right_on=['Season', 'TID_H', 'TID_A'])"
   ]
  },
  {
   "cell_type": "code",
   "execution_count": 748,
   "metadata": {
    "collapsed": false,
    "scrolled": true
   },
   "outputs": [],
   "source": [
    "multi_index = pd.MultiIndex(levels=[[],[],[]],\n",
    "                             labels=[[],[],[]],\n",
    "                             names=[u'TID', u'Season', u'Gameday'])\n",
    "running_df = pd.DataFrame(data=None, columns=['Points'], index=multi_index)\n",
    "\n",
    "for tid in range(len(key_df)):\n",
    "    query = 'TID_H == ' + str(tid)\n",
    "    temp_H = all_merged_df.query(query).loc[:, ['TID_H', 'Season', 'Gameday', 'FTGD']]\n",
    "    temp_H.loc[:, 'Gameday'] += 1\n",
    "    temp_H.loc[:, 'GD'] = temp_H.loc[:, 'FTGD']\n",
    "    temp_H.drop('FTGD', axis=1)\n",
    "    temp_H = temp_H.set_index(['TID_H', 'Season', 'Gameday'])\n",
    "\n",
    "    query = 'TID_A == ' + str(tid)\n",
    "    temp_A = all_merged_df.query(query).loc[:, ['TID_A', 'Season', 'Gameday', 'FTGD']]\n",
    "    temp_A.loc[:, 'Gameday'] += 1\n",
    "    temp_A.loc[:, 'GD'] = -1 * temp_A.loc[:, 'FTGD']\n",
    "    temp_A.drop('FTGD', axis=1)\n",
    "    temp_A = temp_A.set_index(['TID_A', 'Season', 'Gameday'])\n",
    "\n",
    "    temp = pd.concat([temp_H, temp_A]).sort_index()\n",
    "    temp.index = temp.index.rename(['TID', 'Season', 'Gameday'])\n",
    "    temp = temp.loc[:, 'GD'].apply(points).rename('Points').to_frame()\n",
    "    \n",
    "    running_df = running_df.append(temp.groupby(level=['TID', 'Season'], group_keys=False).rolling(3, 1).mean()).apply(np.round, args=(3,))\n",
    "\n",
    "running_df.to_csv('Running_Points_2006_2016.csv')"
   ]
  },
  {
   "cell_type": "code",
   "execution_count": 761,
   "metadata": {
    "collapsed": false,
    "scrolled": true
   },
   "outputs": [],
   "source": [
    "complete_running_df = all_merged_df.merge(running_df, how='left', left_on=['TID_H', 'Season', 'Gameday'], right_index=True)\n",
    "complete_running_df = complete_running_df.merge(running_df, how='left', left_on=['TID_A', 'Season', 'Gameday'], right_index=True)\n",
    "\n",
    "complete_running_df = complete_running_df.rename(columns={'Points_x': 'HP3', 'Points_y': 'AP3'})\n",
    "complete_running_df = complete_running_df.sort_values(['Season', 'Gameday', 'TID_H'])\n",
    "\n",
    "columns_cr = [u'Season', u'Gameday', u'TID_H', u'TID_A', u'TName_H', u'TName_A', u'FTGD', u'HTGD', u'FTHG', u'HTHG', \n",
    "              u'HGA', u'AGA', u'Odds', u'Odds', u'Attendance', u'ChancesA', u'ChancesH', u'HS', u'AS', u'HST', u'AST', \n",
    "              u'HF', u'AF', u'HC', u'AC', u'HY', u'AY', u'HR', u'AR', u'Attendance', u'Link', u'HP3',  u'AP3']\n",
    "complete_running_df = complete_running_df.loc[:, columns_cr]\n",
    "complete_running_df.index = range(len(complete_running_df))\n",
    "complete_running_df = complete_running_df.drop_duplicates(['Season', 'Gameday', 'TID_H', 'TID_A']).fillna(0.5)\n",
    "\n",
    "attendance_max_df = complete_running_df.loc[:, ['Season', 'TID_H', 'Attendance']].groupby(['Season', 'TID_H']).max()\n",
    "\n",
    "attendance_help_df = complete_running_df.loc[:, ['Season', 'Gameday', 'TID_H']]\n",
    "attendance_help_df.loc[:, \"Indexer\"] = attendance_help_df.index\n",
    "attendance_help_df = attendance_help_df.set_index(['Season', 'TID_H'])\n",
    "attendance_help_df = pd.concat([attendance_help_df.sort_index(),\n",
    "                                complete_running_df.loc[:, ['Season', 'TID_H', 'Attendance']].set_index(['Season', 'TID_H'])/attendance_max_df], axis=1).set_index('Indexer')\n",
    "\n",
    "complete_running_df.loc[:, 'Attendance'] = attendance_help_df.loc[:, 'Attendance']"
   ]
  },
  {
   "cell_type": "code",
   "execution_count": 762,
   "metadata": {
    "collapsed": false
   },
   "outputs": [],
   "source": [
    "multi_index = pd.MultiIndex(levels=[[],[],[]],\n",
    "                             labels=[[],[],[]],\n",
    "                             names=[u'TID', u'Season', u'Gameday'])\n",
    "table_df = pd.DataFrame(data=None, columns=['Points', 'GD'], index=multi_index)\n",
    "\n",
    "for tid in range(len(key_df)):\n",
    "    query = 'TID_H == ' + str(tid)\n",
    "    temp_H = all_merged_df.query(query).loc[:, ['TID_H', 'Season', 'Gameday', 'FTGD']]\n",
    "    temp_H.loc[:, 'Gameday'] += 1\n",
    "    temp_H.loc[:, 'GD'] = temp_H.loc[:, 'FTGD']\n",
    "    temp_H = temp_H.drop('FTGD', axis=1)\n",
    "    temp_H = temp_H.set_index(['TID_H', 'Season', 'Gameday'])\n",
    "\n",
    "    query = 'TID_A == ' + str(tid)\n",
    "    temp_A = all_merged_df.query(query).loc[:, ['TID_A', 'Season', 'Gameday', 'FTGD']]\n",
    "    temp_A.loc[:, 'Gameday'] += 1\n",
    "    temp_A.loc[:, 'GD'] = -1 * temp_A.loc[:, 'FTGD']\n",
    "    temp_A = temp_A.drop('FTGD', axis=1)\n",
    "    temp_A = temp_A.set_index(['TID_A', 'Season', 'Gameday'])\n",
    "\n",
    "    temp = pd.concat([temp_H, temp_A]).sort_index()\n",
    "    temp.index = temp.index.rename(['TID', 'Season', 'Gameday'])\n",
    "    temp.loc[:, 'Points'] = temp.loc[:, 'GD'].apply(points).rename('Points').to_frame()\n",
    "\n",
    "    table_df = table_df.append(temp.groupby(level=['TID', 'Season'], group_keys=False).cumsum())\n",
    "\n",
    "# Update most recent season such that we calculate it as if 34 Games have been played.\n",
    "\n",
    "    idx = pd.IndexSlice\n",
    "    table_extrap_df = table_df.groupby(level=['Season', 'TID']).last()\n",
    "    table_extrap_df.loc[idx[complete_running_df.iloc[-1, 0], :], :] = \\\n",
    "    table_extrap_df.loc[idx[complete_running_df.iloc[-1, 0], :], :]* 34./complete_running_df.iloc[-1, 1]"
   ]
  },
  {
   "cell_type": "code",
   "execution_count": 763,
   "metadata": {
    "collapsed": false,
    "scrolled": true
   },
   "outputs": [
    {
     "name": "stdout",
     "output_type": "stream",
     "text": [
      "HST     5.566855\n",
      "AST     4.482109\n",
      "HS     14.603892\n",
      "AS     11.816070\n",
      "dtype: float64\n"
     ]
    }
   ],
   "source": [
    "# Shots on target per attempt\n",
    "print complete_running_df.loc[:, ['HST', 'AST', 'HS', 'AS']].mean()\n"
   ]
  },
  {
   "cell_type": "code",
   "execution_count": 764,
   "metadata": {
    "collapsed": false,
    "scrolled": false
   },
   "outputs": [
    {
     "name": "stdout",
     "output_type": "stream",
     "text": [
      "HEff    37.685354\n",
      "AEff    37.754545\n",
      "dtype: float64\n"
     ]
    }
   ],
   "source": [
    "shots = complete_running_df.loc[:, ['TID_H','Season', 'HST', 'AST', 'HS', 'AS']].groupby(['TID_H', 'Season']).mean()\n",
    "conversion_df = shots\n",
    "conversion_df.loc[:, 'HEff'] = np.round(100*conversion_df.loc[:, 'HST'] / conversion_df.loc[:, 'HS'], 1)\n",
    "conversion_df.loc[:, 'AEff'] = np.round(100*conversion_df.loc[:, 'AST'] / conversion_df.loc[:, 'AS'], 1)\n",
    "\n",
    "print conversion_df.loc[:, ['HEff', 'AEff']].mean()\n",
    "#conversion_df.index = conversion_df.set_index(range(len(conversion_df)))\n"
   ]
  },
  {
   "cell_type": "code",
   "execution_count": 765,
   "metadata": {
    "collapsed": false,
    "scrolled": true
   },
   "outputs": [
    {
     "data": {
      "text/html": [
       "<div>\n",
       "<table border=\"1\" class=\"dataframe\">\n",
       "  <thead>\n",
       "    <tr style=\"text-align: right;\">\n",
       "      <th></th>\n",
       "      <th>Ratio_as_H</th>\n",
       "      <th>Ratio_as_A</th>\n",
       "    </tr>\n",
       "    <tr>\n",
       "      <th>TName</th>\n",
       "      <th></th>\n",
       "      <th></th>\n",
       "    </tr>\n",
       "  </thead>\n",
       "  <tbody>\n",
       "    <tr>\n",
       "      <th>Bayern Munich</th>\n",
       "      <td>1.142091</td>\n",
       "      <td>1.162393</td>\n",
       "    </tr>\n",
       "    <tr>\n",
       "      <th>Hamburg</th>\n",
       "      <td>0.997416</td>\n",
       "      <td>0.965789</td>\n",
       "    </tr>\n",
       "    <tr>\n",
       "      <th>Leverkusen</th>\n",
       "      <td>1.048000</td>\n",
       "      <td>1.026042</td>\n",
       "    </tr>\n",
       "    <tr>\n",
       "      <th>Mainz</th>\n",
       "      <td>1.002618</td>\n",
       "      <td>1.005236</td>\n",
       "    </tr>\n",
       "    <tr>\n",
       "      <th>M'gladbach</th>\n",
       "      <td>1.141243</td>\n",
       "      <td>1.052055</td>\n",
       "    </tr>\n",
       "  </tbody>\n",
       "</table>\n",
       "</div>"
      ],
      "text/plain": [
       "               Ratio_as_H  Ratio_as_A\n",
       "TName                                \n",
       "Bayern Munich    1.142091    1.162393\n",
       "Hamburg          0.997416    0.965789\n",
       "Leverkusen       1.048000    1.026042\n",
       "Mainz            1.002618    1.005236\n",
       "M'gladbach       1.141243    1.052055"
      ]
     },
     "execution_count": 765,
     "metadata": {},
     "output_type": "execute_result"
    }
   ],
   "source": [
    "shots_H = complete_running_df.loc[:, ['TID_H', 'HST', 'AST', 'HS', 'AS']].groupby('TID_H').mean()\n",
    "conversion_df_H = shots_H.merge(team_df, left_index=True, right_index=True).set_index('TName')\n",
    "conversion_df_H.loc[:, 'HEff'] = np.round(100*conversion_df_H.loc[:, 'HST'] / conversion_df_H.loc[:, 'HS'], 1)\n",
    "conversion_df_H.loc[:, 'AEff'] = np.round(100*conversion_df_H.loc[:, 'AST'] / conversion_df_H.loc[:, 'AS'], 1)\n",
    "\n",
    "shots_A = complete_running_df.loc[:, ['TID_A', 'HST', 'AST', 'HS', 'AS']].groupby('TID_A').mean()\n",
    "conversion_df_A = shots_A.merge(team_df, left_index=True, right_index=True).set_index('TName')\n",
    "conversion_df_A.loc[:, 'HEff'] = np.round(100*conversion_df_A.loc[:, 'HST'] / conversion_df_A.loc[:, 'HS'], 1)\n",
    "conversion_df_A.loc[:, 'AEff'] = np.round(100*conversion_df_A.loc[:, 'AST'] / conversion_df_A.loc[:, 'AS'], 1)\n",
    "\n",
    "shots = pd.merge(\n",
    "    conversion_df_H.loc[:, ['HS', 'HST', 'HEff', 'AS', 'AST', 'AEff']], \n",
    "    conversion_df_A.loc[:, ['HS', 'HST', 'HEff', 'AS', 'AST', 'AEff']],\n",
    "    how='inner', left_index=True, right_index=True, suffixes=('_as_H', '_as_A')).apply(np.round, args=(2,))\n",
    "#shots.index = team_df.loc[:, 'team']\n",
    "shots.loc[:, 'Ratio_as_H'] = shots.loc[:, 'HEff_as_H'] / shots.loc[:, 'AEff_as_H']\n",
    "shots.loc[:, 'Ratio_as_A'] = shots.loc[:, 'AEff_as_A'] / shots.loc[:, 'HEff_as_A']\n",
    "\n",
    "shots.ix[:, ['Ratio_as_H', 'Ratio_as_A']].head()\n"
   ]
  },
  {
   "cell_type": "code",
   "execution_count": 766,
   "metadata": {
    "collapsed": false,
    "scrolled": true
   },
   "outputs": [],
   "source": [
    "point_avg_df = table_extrap_df.groupby(level=['TID']).mean()\n",
    "point_avg_df.index = shots.index\n",
    "\n",
    "factors_df = pd.merge(point_avg_df, shots, how='inner', left_index=True, right_index=True)\n",
    "factors_df.loc[:, 'Ratio_Mean'] = 0.5 * (factors_df.loc[:, 'Ratio_as_H'] + factors_df.loc[:, 'Ratio_as_A']).astype(float)\n",
    "factors_df.loc[:, 'Eff_Mean'] = 0.5 * (factors_df.loc[:, 'HEff_as_H'] + factors_df.loc[:, 'AEff_as_A'])"
   ]
  },
  {
   "cell_type": "code",
   "execution_count": 767,
   "metadata": {
    "collapsed": false
   },
   "outputs": [
    {
     "data": {
      "text/plain": [
       "<matplotlib.text.Text at 0x127d57910>"
      ]
     },
     "execution_count": 767,
     "metadata": {},
     "output_type": "execute_result"
    },
    {
     "data": {
      "image/png": "[encoded data removed]",
      "text/plain": [
       "<matplotlib.figure.Figure at 0x127a63350>"
      ]
     },
     "metadata": {},
     "output_type": "display_data"
    }
   ],
   "source": [
    "ax = factors_df.plot(kind='scatter', x='GD', y='Points', s=150, c='Ratio_Mean', colormap='Blues', figsize=(10,6), grid=True)\n",
    "\n",
    "plt.xlabel('Avg. goal differential')\n",
    "plt.ylabel('Points per season')\n",
    "\n",
    "\n",
    "ax.tick_params(labelbottom='off',labeltop='on')\n",
    "ax.xaxis.set_label_position('top') \n",
    "plt.tight_layout()\n",
    "\n",
    "for i in [0,1, 12, 29, 5,33]:\n",
    "    ax.annotate(factors_df.index[i], (-8+factors_df.ix[i, 'GD'], 2+ factors_df.ix[i, 'Points']))\n",
    "\n",
    "# Grab colorbar object    \n",
    "cax = plt.gcf().get_axes()[1]\n",
    "cax.set_ylabel('Shot Efficiency Superiority')"
   ]
  },
  {
   "cell_type": "code",
   "execution_count": 759,
   "metadata": {
    "collapsed": false,
    "scrolled": false
   },
   "outputs": [
    {
     "data": {
      "text/plain": [
       "<matplotlib.axes._subplots.AxesSubplot at 0x12049f910>"
      ]
     },
     "execution_count": 759,
     "metadata": {},
     "output_type": "execute_result"
    },
    {
     "data": {
      "image/png": "[encoded data removed]",
      "text/plain": [
       "<matplotlib.figure.Figure at 0x12053bf50>"
      ]
     },
     "metadata": {},
     "output_type": "display_data"
    }
   ],
   "source": [
    "goals_df.loc[:, 'Minute'].plot('hist', bins=18)"
   ]
  },
  {
   "cell_type": "code",
   "execution_count": 688,
   "metadata": {
    "collapsed": false,
    "scrolled": true
   },
   "outputs": [],
   "source": [
    "complete_running_df.to_csv('Full_Data_2006_2016.csv')"
   ]
  },
  {
   "cell_type": "code",
   "execution_count": 777,
   "metadata": {
    "collapsed": false
   },
   "outputs": [
    {
     "data": {
      "text/plain": [
       "Season  Gameday  Link\n",
       "2006    1        0      -1.0\n",
       "                 1       0.0\n",
       "                 2       1.0\n",
       "                 3       1.0\n",
       "                 4       0.0\n",
       "Name: FTGD, dtype: float64"
      ]
     },
     "execution_count": 777,
     "metadata": {},
     "output_type": "execute_result"
    }
   ],
   "source": [
    "complete_running_df.set_index(['Season', 'Gameday', 'Link']).loc[:, 'FTGD'].apply(np.sign).sort_index().head()"
   ]
  },
  {
   "cell_type": "code",
   "execution_count": 779,
   "metadata": {
    "collapsed": false
   },
   "outputs": [],
   "source": [
    "goals_df = goals_df.set_index(['Season', 'Gameday', 'Link'])"
   ]
  },
  {
   "cell_type": "code",
   "execution_count": null,
   "metadata": {
    "collapsed": false,
    "scrolled": false
   },
   "outputs": [],
   "source": [
    "# complete_df.plot(kind='scatter', x='HGA', y='FTGD')\n",
    "# complete_df.plot(kind='scatter', x='AGA', y='FTGD')\n",
    "# complete_running_df.plot.hexbin(x='HGA', y='AGA', gridsize=20)\n",
    "# complete_running_df.plot.hexbin(x='HGA', y='AGA', C='Odds', gridsize=20)"
   ]
  },
  {
   "cell_type": "code",
   "execution_count": null,
   "metadata": {
    "collapsed": false
   },
   "outputs": [],
   "source": [
    "# complete_running_df.loc[:, ['Season', 'HGA', 'AGA']].groupby('Season').mean().plot()\n",
    "# complete_running_df.loc[:, ['Season', 'FTGD', 'HTGD']].groupby('Season').mean().plot()\n",
    "# (complete_running_df.loc[:, ['Season', 'FTGD', 'HTGD']].groupby('Season').std()*(1,np.sqrt(2.))).plot()\n",
    "\n",
    "# complete_df.plot.hexbin(x='Odds', y='FTGD', gridsize=15)"
   ]
  },
  {
   "cell_type": "code",
   "execution_count": 769,
   "metadata": {
    "collapsed": false,
    "scrolled": true
   },
   "outputs": [
    {
     "ename": "KeyError",
     "evalue": "'TeamH'",
     "output_type": "error",
     "traceback": [
      "\u001b[0;31m---------------------------------------------------------------------------\u001b[0m",
      "\u001b[0;31mKeyError\u001b[0m                                  Traceback (most recent call last)",
      "\u001b[0;32m<ipython-input-769-462eec3c14be>\u001b[0m in \u001b[0;36m<module>\u001b[0;34m()\u001b[0m\n\u001b[0;32m----> 1\u001b[0;31m \u001b[0mgoals_merged_df\u001b[0m \u001b[0;34m=\u001b[0m \u001b[0mgoals_df\u001b[0m\u001b[0;34m.\u001b[0m\u001b[0mmerge\u001b[0m\u001b[0;34m(\u001b[0m\u001b[0mkey_df\u001b[0m\u001b[0;34m,\u001b[0m \u001b[0mleft_on\u001b[0m\u001b[0;34m=\u001b[0m\u001b[0;34m'TeamH'\u001b[0m\u001b[0;34m,\u001b[0m \u001b[0mright_on\u001b[0m\u001b[0;34m=\u001b[0m\u001b[0;34m'KID'\u001b[0m\u001b[0;34m)\u001b[0m\u001b[0;34m.\u001b[0m\u001b[0mmerge\u001b[0m\u001b[0;34m(\u001b[0m\u001b[0mkey_df\u001b[0m\u001b[0;34m,\u001b[0m \u001b[0mleft_on\u001b[0m\u001b[0;34m=\u001b[0m\u001b[0;34m'TeamA'\u001b[0m\u001b[0;34m,\u001b[0m \u001b[0mright_on\u001b[0m\u001b[0;34m=\u001b[0m\u001b[0;34m'KID'\u001b[0m\u001b[0;34m,\u001b[0m \u001b[0msuffixes\u001b[0m\u001b[0;34m=\u001b[0m\u001b[0;34m(\u001b[0m\u001b[0;34m'_H'\u001b[0m\u001b[0;34m,\u001b[0m \u001b[0;34m'_A'\u001b[0m\u001b[0;34m)\u001b[0m\u001b[0;34m)\u001b[0m\u001b[0;34m\u001b[0m\u001b[0m\n\u001b[0m\u001b[1;32m      2\u001b[0m \u001b[0mgoals_merged_df\u001b[0m \u001b[0;34m=\u001b[0m \u001b[0mgoals_merged_df\u001b[0m\u001b[0;34m.\u001b[0m\u001b[0mdrop\u001b[0m\u001b[0;34m(\u001b[0m\u001b[0;34m[\u001b[0m\u001b[0;34m'KID_H'\u001b[0m\u001b[0;34m,\u001b[0m \u001b[0;34m'KID_A'\u001b[0m\u001b[0;34m,\u001b[0m \u001b[0;34m'TName_H'\u001b[0m\u001b[0;34m,\u001b[0m \u001b[0;34m'TName_A'\u001b[0m\u001b[0;34m,\u001b[0m \u001b[0;34m'HGA'\u001b[0m\u001b[0;34m,\u001b[0m \u001b[0;34m'AGA'\u001b[0m\u001b[0;34m,\u001b[0m \u001b[0;34m'GradesH'\u001b[0m\u001b[0;34m,\u001b[0m \u001b[0;34m'GradesA'\u001b[0m\u001b[0;34m,\u001b[0m \u001b[0;34m'TID_A'\u001b[0m\u001b[0;34m]\u001b[0m\u001b[0;34m,\u001b[0m \u001b[0maxis\u001b[0m\u001b[0;34m=\u001b[0m\u001b[0;36m1\u001b[0m\u001b[0;34m)\u001b[0m\u001b[0;34m.\u001b[0m\u001b[0mset_index\u001b[0m\u001b[0;34m(\u001b[0m\u001b[0;34m'Link'\u001b[0m\u001b[0;34m)\u001b[0m\u001b[0;34m.\u001b[0m\u001b[0msort_index\u001b[0m\u001b[0;34m(\u001b[0m\u001b[0;34m)\u001b[0m\u001b[0;34m\u001b[0m\u001b[0m\n\u001b[1;32m      3\u001b[0m \u001b[0;34m\u001b[0m\u001b[0m\n\u001b[1;32m      4\u001b[0m \u001b[0mgoals_merged_df\u001b[0m\u001b[0;34m\u001b[0m\u001b[0m\n",
      "\u001b[0;32m/Users/Alex/anaconda/lib/python2.7/site-packages/pandas/core/frame.pyc\u001b[0m in \u001b[0;36mmerge\u001b[0;34m(self, right, how, on, left_on, right_on, left_index, right_index, sort, suffixes, copy, indicator)\u001b[0m\n\u001b[1;32m   4435\u001b[0m                      \u001b[0mright_on\u001b[0m\u001b[0;34m=\u001b[0m\u001b[0mright_on\u001b[0m\u001b[0;34m,\u001b[0m \u001b[0mleft_index\u001b[0m\u001b[0;34m=\u001b[0m\u001b[0mleft_index\u001b[0m\u001b[0;34m,\u001b[0m\u001b[0;34m\u001b[0m\u001b[0m\n\u001b[1;32m   4436\u001b[0m                      \u001b[0mright_index\u001b[0m\u001b[0;34m=\u001b[0m\u001b[0mright_index\u001b[0m\u001b[0;34m,\u001b[0m \u001b[0msort\u001b[0m\u001b[0;34m=\u001b[0m\u001b[0msort\u001b[0m\u001b[0;34m,\u001b[0m \u001b[0msuffixes\u001b[0m\u001b[0;34m=\u001b[0m\u001b[0msuffixes\u001b[0m\u001b[0;34m,\u001b[0m\u001b[0;34m\u001b[0m\u001b[0m\n\u001b[0;32m-> 4437\u001b[0;31m                      copy=copy, indicator=indicator)\n\u001b[0m\u001b[1;32m   4438\u001b[0m \u001b[0;34m\u001b[0m\u001b[0m\n\u001b[1;32m   4439\u001b[0m     \u001b[0;32mdef\u001b[0m \u001b[0mround\u001b[0m\u001b[0;34m(\u001b[0m\u001b[0mself\u001b[0m\u001b[0;34m,\u001b[0m \u001b[0mdecimals\u001b[0m\u001b[0;34m=\u001b[0m\u001b[0;36m0\u001b[0m\u001b[0;34m,\u001b[0m \u001b[0;34m*\u001b[0m\u001b[0margs\u001b[0m\u001b[0;34m,\u001b[0m \u001b[0;34m**\u001b[0m\u001b[0mkwargs\u001b[0m\u001b[0;34m)\u001b[0m\u001b[0;34m:\u001b[0m\u001b[0;34m\u001b[0m\u001b[0m\n",
      "\u001b[0;32m/Users/Alex/anaconda/lib/python2.7/site-packages/pandas/tools/merge.pyc\u001b[0m in \u001b[0;36mmerge\u001b[0;34m(left, right, how, on, left_on, right_on, left_index, right_index, sort, suffixes, copy, indicator)\u001b[0m\n\u001b[1;32m     36\u001b[0m                          \u001b[0mright_on\u001b[0m\u001b[0;34m=\u001b[0m\u001b[0mright_on\u001b[0m\u001b[0;34m,\u001b[0m \u001b[0mleft_index\u001b[0m\u001b[0;34m=\u001b[0m\u001b[0mleft_index\u001b[0m\u001b[0;34m,\u001b[0m\u001b[0;34m\u001b[0m\u001b[0m\n\u001b[1;32m     37\u001b[0m                          \u001b[0mright_index\u001b[0m\u001b[0;34m=\u001b[0m\u001b[0mright_index\u001b[0m\u001b[0;34m,\u001b[0m \u001b[0msort\u001b[0m\u001b[0;34m=\u001b[0m\u001b[0msort\u001b[0m\u001b[0;34m,\u001b[0m \u001b[0msuffixes\u001b[0m\u001b[0;34m=\u001b[0m\u001b[0msuffixes\u001b[0m\u001b[0;34m,\u001b[0m\u001b[0;34m\u001b[0m\u001b[0m\n\u001b[0;32m---> 38\u001b[0;31m                          copy=copy, indicator=indicator)\n\u001b[0m\u001b[1;32m     39\u001b[0m     \u001b[0;32mreturn\u001b[0m \u001b[0mop\u001b[0m\u001b[0;34m.\u001b[0m\u001b[0mget_result\u001b[0m\u001b[0;34m(\u001b[0m\u001b[0;34m)\u001b[0m\u001b[0;34m\u001b[0m\u001b[0m\n\u001b[1;32m     40\u001b[0m \u001b[0;32mif\u001b[0m \u001b[0m__debug__\u001b[0m\u001b[0;34m:\u001b[0m\u001b[0;34m\u001b[0m\u001b[0m\n",
      "\u001b[0;32m/Users/Alex/anaconda/lib/python2.7/site-packages/pandas/tools/merge.pyc\u001b[0m in \u001b[0;36m__init__\u001b[0;34m(self, left, right, how, on, left_on, right_on, axis, left_index, right_index, sort, suffixes, copy, indicator)\u001b[0m\n\u001b[1;32m    208\u001b[0m         (self.left_join_keys,\n\u001b[1;32m    209\u001b[0m          \u001b[0mself\u001b[0m\u001b[0;34m.\u001b[0m\u001b[0mright_join_keys\u001b[0m\u001b[0;34m,\u001b[0m\u001b[0;34m\u001b[0m\u001b[0m\n\u001b[0;32m--> 210\u001b[0;31m          self.join_names) = self._get_merge_keys()\n\u001b[0m\u001b[1;32m    211\u001b[0m \u001b[0;34m\u001b[0m\u001b[0m\n\u001b[1;32m    212\u001b[0m     \u001b[0;32mdef\u001b[0m \u001b[0mget_result\u001b[0m\u001b[0;34m(\u001b[0m\u001b[0mself\u001b[0m\u001b[0;34m)\u001b[0m\u001b[0;34m:\u001b[0m\u001b[0;34m\u001b[0m\u001b[0m\n",
      "\u001b[0;32m/Users/Alex/anaconda/lib/python2.7/site-packages/pandas/tools/merge.pyc\u001b[0m in \u001b[0;36m_get_merge_keys\u001b[0;34m(self)\u001b[0m\n\u001b[1;32m    441\u001b[0m                     \u001b[0;32melse\u001b[0m\u001b[0;34m:\u001b[0m\u001b[0;34m\u001b[0m\u001b[0m\n\u001b[1;32m    442\u001b[0m                         \u001b[0mright_keys\u001b[0m\u001b[0;34m.\u001b[0m\u001b[0mappend\u001b[0m\u001b[0;34m(\u001b[0m\u001b[0mrk\u001b[0m\u001b[0;34m)\u001b[0m\u001b[0;34m\u001b[0m\u001b[0m\n\u001b[0;32m--> 443\u001b[0;31m                     \u001b[0mleft_keys\u001b[0m\u001b[0;34m.\u001b[0m\u001b[0mappend\u001b[0m\u001b[0;34m(\u001b[0m\u001b[0mleft\u001b[0m\u001b[0;34m[\u001b[0m\u001b[0mlk\u001b[0m\u001b[0;34m]\u001b[0m\u001b[0;34m.\u001b[0m\u001b[0m_values\u001b[0m\u001b[0;34m)\u001b[0m\u001b[0;34m\u001b[0m\u001b[0m\n\u001b[0m\u001b[1;32m    444\u001b[0m                     \u001b[0mjoin_names\u001b[0m\u001b[0;34m.\u001b[0m\u001b[0mappend\u001b[0m\u001b[0;34m(\u001b[0m\u001b[0mlk\u001b[0m\u001b[0;34m)\u001b[0m\u001b[0;34m\u001b[0m\u001b[0m\n\u001b[1;32m    445\u001b[0m         \u001b[0;32melif\u001b[0m \u001b[0m_any\u001b[0m\u001b[0;34m(\u001b[0m\u001b[0mself\u001b[0m\u001b[0;34m.\u001b[0m\u001b[0mleft_on\u001b[0m\u001b[0;34m)\u001b[0m\u001b[0;34m:\u001b[0m\u001b[0;34m\u001b[0m\u001b[0m\n",
      "\u001b[0;32m/Users/Alex/anaconda/lib/python2.7/site-packages/pandas/core/frame.pyc\u001b[0m in \u001b[0;36m__getitem__\u001b[0;34m(self, key)\u001b[0m\n\u001b[1;32m   1995\u001b[0m             \u001b[0;32mreturn\u001b[0m \u001b[0mself\u001b[0m\u001b[0;34m.\u001b[0m\u001b[0m_getitem_multilevel\u001b[0m\u001b[0;34m(\u001b[0m\u001b[0mkey\u001b[0m\u001b[0;34m)\u001b[0m\u001b[0;34m\u001b[0m\u001b[0m\n\u001b[1;32m   1996\u001b[0m         \u001b[0;32melse\u001b[0m\u001b[0;34m:\u001b[0m\u001b[0;34m\u001b[0m\u001b[0m\n\u001b[0;32m-> 1997\u001b[0;31m             \u001b[0;32mreturn\u001b[0m \u001b[0mself\u001b[0m\u001b[0;34m.\u001b[0m\u001b[0m_getitem_column\u001b[0m\u001b[0;34m(\u001b[0m\u001b[0mkey\u001b[0m\u001b[0;34m)\u001b[0m\u001b[0;34m\u001b[0m\u001b[0m\n\u001b[0m\u001b[1;32m   1998\u001b[0m \u001b[0;34m\u001b[0m\u001b[0m\n\u001b[1;32m   1999\u001b[0m     \u001b[0;32mdef\u001b[0m \u001b[0m_getitem_column\u001b[0m\u001b[0;34m(\u001b[0m\u001b[0mself\u001b[0m\u001b[0;34m,\u001b[0m \u001b[0mkey\u001b[0m\u001b[0;34m)\u001b[0m\u001b[0;34m:\u001b[0m\u001b[0;34m\u001b[0m\u001b[0m\n",
      "\u001b[0;32m/Users/Alex/anaconda/lib/python2.7/site-packages/pandas/core/frame.pyc\u001b[0m in \u001b[0;36m_getitem_column\u001b[0;34m(self, key)\u001b[0m\n\u001b[1;32m   2002\u001b[0m         \u001b[0;31m# get column\u001b[0m\u001b[0;34m\u001b[0m\u001b[0;34m\u001b[0m\u001b[0m\n\u001b[1;32m   2003\u001b[0m         \u001b[0;32mif\u001b[0m \u001b[0mself\u001b[0m\u001b[0;34m.\u001b[0m\u001b[0mcolumns\u001b[0m\u001b[0;34m.\u001b[0m\u001b[0mis_unique\u001b[0m\u001b[0;34m:\u001b[0m\u001b[0;34m\u001b[0m\u001b[0m\n\u001b[0;32m-> 2004\u001b[0;31m             \u001b[0;32mreturn\u001b[0m \u001b[0mself\u001b[0m\u001b[0;34m.\u001b[0m\u001b[0m_get_item_cache\u001b[0m\u001b[0;34m(\u001b[0m\u001b[0mkey\u001b[0m\u001b[0;34m)\u001b[0m\u001b[0;34m\u001b[0m\u001b[0m\n\u001b[0m\u001b[1;32m   2005\u001b[0m \u001b[0;34m\u001b[0m\u001b[0m\n\u001b[1;32m   2006\u001b[0m         \u001b[0;31m# duplicate columns & possible reduce dimensionality\u001b[0m\u001b[0;34m\u001b[0m\u001b[0;34m\u001b[0m\u001b[0m\n",
      "\u001b[0;32m/Users/Alex/anaconda/lib/python2.7/site-packages/pandas/core/generic.pyc\u001b[0m in \u001b[0;36m_get_item_cache\u001b[0;34m(self, item)\u001b[0m\n\u001b[1;32m   1348\u001b[0m         \u001b[0mres\u001b[0m \u001b[0;34m=\u001b[0m \u001b[0mcache\u001b[0m\u001b[0;34m.\u001b[0m\u001b[0mget\u001b[0m\u001b[0;34m(\u001b[0m\u001b[0mitem\u001b[0m\u001b[0;34m)\u001b[0m\u001b[0;34m\u001b[0m\u001b[0m\n\u001b[1;32m   1349\u001b[0m         \u001b[0;32mif\u001b[0m \u001b[0mres\u001b[0m \u001b[0;32mis\u001b[0m \u001b[0mNone\u001b[0m\u001b[0;34m:\u001b[0m\u001b[0;34m\u001b[0m\u001b[0m\n\u001b[0;32m-> 1350\u001b[0;31m             \u001b[0mvalues\u001b[0m \u001b[0;34m=\u001b[0m \u001b[0mself\u001b[0m\u001b[0;34m.\u001b[0m\u001b[0m_data\u001b[0m\u001b[0;34m.\u001b[0m\u001b[0mget\u001b[0m\u001b[0;34m(\u001b[0m\u001b[0mitem\u001b[0m\u001b[0;34m)\u001b[0m\u001b[0;34m\u001b[0m\u001b[0m\n\u001b[0m\u001b[1;32m   1351\u001b[0m             \u001b[0mres\u001b[0m \u001b[0;34m=\u001b[0m \u001b[0mself\u001b[0m\u001b[0;34m.\u001b[0m\u001b[0m_box_item_values\u001b[0m\u001b[0;34m(\u001b[0m\u001b[0mitem\u001b[0m\u001b[0;34m,\u001b[0m \u001b[0mvalues\u001b[0m\u001b[0;34m)\u001b[0m\u001b[0;34m\u001b[0m\u001b[0m\n\u001b[1;32m   1352\u001b[0m             \u001b[0mcache\u001b[0m\u001b[0;34m[\u001b[0m\u001b[0mitem\u001b[0m\u001b[0;34m]\u001b[0m \u001b[0;34m=\u001b[0m \u001b[0mres\u001b[0m\u001b[0;34m\u001b[0m\u001b[0m\n",
      "\u001b[0;32m/Users/Alex/anaconda/lib/python2.7/site-packages/pandas/core/internals.pyc\u001b[0m in \u001b[0;36mget\u001b[0;34m(self, item, fastpath)\u001b[0m\n\u001b[1;32m   3288\u001b[0m \u001b[0;34m\u001b[0m\u001b[0m\n\u001b[1;32m   3289\u001b[0m             \u001b[0;32mif\u001b[0m \u001b[0;32mnot\u001b[0m \u001b[0misnull\u001b[0m\u001b[0;34m(\u001b[0m\u001b[0mitem\u001b[0m\u001b[0;34m)\u001b[0m\u001b[0;34m:\u001b[0m\u001b[0;34m\u001b[0m\u001b[0m\n\u001b[0;32m-> 3290\u001b[0;31m                 \u001b[0mloc\u001b[0m \u001b[0;34m=\u001b[0m \u001b[0mself\u001b[0m\u001b[0;34m.\u001b[0m\u001b[0mitems\u001b[0m\u001b[0;34m.\u001b[0m\u001b[0mget_loc\u001b[0m\u001b[0;34m(\u001b[0m\u001b[0mitem\u001b[0m\u001b[0;34m)\u001b[0m\u001b[0;34m\u001b[0m\u001b[0m\n\u001b[0m\u001b[1;32m   3291\u001b[0m             \u001b[0;32melse\u001b[0m\u001b[0;34m:\u001b[0m\u001b[0;34m\u001b[0m\u001b[0m\n\u001b[1;32m   3292\u001b[0m                 \u001b[0mindexer\u001b[0m \u001b[0;34m=\u001b[0m \u001b[0mnp\u001b[0m\u001b[0;34m.\u001b[0m\u001b[0marange\u001b[0m\u001b[0;34m(\u001b[0m\u001b[0mlen\u001b[0m\u001b[0;34m(\u001b[0m\u001b[0mself\u001b[0m\u001b[0;34m.\u001b[0m\u001b[0mitems\u001b[0m\u001b[0;34m)\u001b[0m\u001b[0;34m)\u001b[0m\u001b[0;34m[\u001b[0m\u001b[0misnull\u001b[0m\u001b[0;34m(\u001b[0m\u001b[0mself\u001b[0m\u001b[0;34m.\u001b[0m\u001b[0mitems\u001b[0m\u001b[0;34m)\u001b[0m\u001b[0;34m]\u001b[0m\u001b[0;34m\u001b[0m\u001b[0m\n",
      "\u001b[0;32m/Users/Alex/anaconda/lib/python2.7/site-packages/pandas/indexes/base.pyc\u001b[0m in \u001b[0;36mget_loc\u001b[0;34m(self, key, method, tolerance)\u001b[0m\n\u001b[1;32m   1945\u001b[0m                 \u001b[0;32mreturn\u001b[0m \u001b[0mself\u001b[0m\u001b[0;34m.\u001b[0m\u001b[0m_engine\u001b[0m\u001b[0;34m.\u001b[0m\u001b[0mget_loc\u001b[0m\u001b[0;34m(\u001b[0m\u001b[0mkey\u001b[0m\u001b[0;34m)\u001b[0m\u001b[0;34m\u001b[0m\u001b[0m\n\u001b[1;32m   1946\u001b[0m             \u001b[0;32mexcept\u001b[0m \u001b[0mKeyError\u001b[0m\u001b[0;34m:\u001b[0m\u001b[0;34m\u001b[0m\u001b[0m\n\u001b[0;32m-> 1947\u001b[0;31m                 \u001b[0;32mreturn\u001b[0m \u001b[0mself\u001b[0m\u001b[0;34m.\u001b[0m\u001b[0m_engine\u001b[0m\u001b[0;34m.\u001b[0m\u001b[0mget_loc\u001b[0m\u001b[0;34m(\u001b[0m\u001b[0mself\u001b[0m\u001b[0;34m.\u001b[0m\u001b[0m_maybe_cast_indexer\u001b[0m\u001b[0;34m(\u001b[0m\u001b[0mkey\u001b[0m\u001b[0;34m)\u001b[0m\u001b[0;34m)\u001b[0m\u001b[0;34m\u001b[0m\u001b[0m\n\u001b[0m\u001b[1;32m   1948\u001b[0m \u001b[0;34m\u001b[0m\u001b[0m\n\u001b[1;32m   1949\u001b[0m         \u001b[0mindexer\u001b[0m \u001b[0;34m=\u001b[0m \u001b[0mself\u001b[0m\u001b[0;34m.\u001b[0m\u001b[0mget_indexer\u001b[0m\u001b[0;34m(\u001b[0m\u001b[0;34m[\u001b[0m\u001b[0mkey\u001b[0m\u001b[0;34m]\u001b[0m\u001b[0;34m,\u001b[0m \u001b[0mmethod\u001b[0m\u001b[0;34m=\u001b[0m\u001b[0mmethod\u001b[0m\u001b[0;34m,\u001b[0m \u001b[0mtolerance\u001b[0m\u001b[0;34m=\u001b[0m\u001b[0mtolerance\u001b[0m\u001b[0;34m)\u001b[0m\u001b[0;34m\u001b[0m\u001b[0m\n",
      "\u001b[0;32mpandas/index.pyx\u001b[0m in \u001b[0;36mpandas.index.IndexEngine.get_loc (pandas/index.c:4154)\u001b[0;34m()\u001b[0m\n",
      "\u001b[0;32mpandas/index.pyx\u001b[0m in \u001b[0;36mpandas.index.IndexEngine.get_loc (pandas/index.c:4018)\u001b[0;34m()\u001b[0m\n",
      "\u001b[0;32mpandas/hashtable.pyx\u001b[0m in \u001b[0;36mpandas.hashtable.PyObjectHashTable.get_item (pandas/hashtable.c:12368)\u001b[0;34m()\u001b[0m\n",
      "\u001b[0;32mpandas/hashtable.pyx\u001b[0m in \u001b[0;36mpandas.hashtable.PyObjectHashTable.get_item (pandas/hashtable.c:12322)\u001b[0;34m()\u001b[0m\n",
      "\u001b[0;31mKeyError\u001b[0m: 'TeamH'"
     ]
    }
   ],
   "source": [
    "goals_merged_df = goals_df.merge(key_df, left_on='TeamH', right_on='KID').merge(key_df, left_on='TeamA', right_on='KID', suffixes=('_H', '_A'))\n",
    "goals_merged_df = goals_merged_df.drop(['KID_H', 'KID_A', 'TName_H', 'TName_A', 'HGA', 'AGA', 'GradesH', 'GradesA', 'TID_A'], axis=1).set_index('Link').sort_index()\n",
    "\n",
    "goals_merged_df"
   ]
  },
  {
   "cell_type": "code",
   "execution_count": null,
   "metadata": {
    "collapsed": false
   },
   "outputs": [],
   "source": [
    "# matches_df.drop('Headline', axis=1).to_csv(\"Matches_2006_2016.csv\")\n",
    "# goals_df.to_csv(\"Goals_2006_2016.csv\")\n",
    "# lineup_df.to_csv(\"Lineup_2006_2016.csv\")\n"
   ]
  },
  {
   "cell_type": "code",
   "execution_count": null,
   "metadata": {
    "collapsed": true
   },
   "outputs": [],
   "source": []
  },
  {
   "cell_type": "code",
   "execution_count": 510,
   "metadata": {
    "collapsed": false
   },
   "outputs": [
    {
     "ename": "AttributeError",
     "evalue": "'float' object has no attribute 'encode'",
     "output_type": "error",
     "traceback": [
      "\u001b[0;31m---------------------------------------------------------------------------\u001b[0m",
      "\u001b[0;31mAttributeError\u001b[0m                            Traceback (most recent call last)",
      "\u001b[0;32m<ipython-input-510-6d8572f6d74c>\u001b[0m in \u001b[0;36m<module>\u001b[0;34m()\u001b[0m\n\u001b[1;32m      1\u001b[0m \u001b[0;32mwith\u001b[0m \u001b[0mopen\u001b[0m\u001b[0;34m(\u001b[0m\u001b[0;34m\"Headlines_2006_2016.csv\"\u001b[0m\u001b[0;34m,\u001b[0m \u001b[0;34m\"w\"\u001b[0m\u001b[0;34m)\u001b[0m \u001b[0;32mas\u001b[0m \u001b[0mfile\u001b[0m\u001b[0;34m:\u001b[0m\u001b[0;34m\u001b[0m\u001b[0m\n\u001b[1;32m      2\u001b[0m     \u001b[0;32mfor\u001b[0m \u001b[0mline\u001b[0m \u001b[0;32min\u001b[0m \u001b[0mmatches_df\u001b[0m\u001b[0;34m.\u001b[0m\u001b[0mloc\u001b[0m\u001b[0;34m[\u001b[0m\u001b[0;34m:\u001b[0m\u001b[0;34m,\u001b[0m \u001b[0;34m'Headline'\u001b[0m\u001b[0;34m]\u001b[0m\u001b[0;34m.\u001b[0m\u001b[0mtolist\u001b[0m\u001b[0;34m(\u001b[0m\u001b[0;34m)\u001b[0m\u001b[0;34m:\u001b[0m\u001b[0;34m\u001b[0m\u001b[0m\n\u001b[0;32m----> 3\u001b[0;31m         \u001b[0mfile\u001b[0m\u001b[0;34m.\u001b[0m\u001b[0mwrite\u001b[0m\u001b[0;34m(\u001b[0m\u001b[0mline\u001b[0m\u001b[0;34m.\u001b[0m\u001b[0mencode\u001b[0m\u001b[0;34m(\u001b[0m\u001b[0;34m'utf-8'\u001b[0m\u001b[0;34m)\u001b[0m \u001b[0;34m+\u001b[0m \u001b[0;34m\"\\n\"\u001b[0m\u001b[0;34m)\u001b[0m\u001b[0;34m\u001b[0m\u001b[0m\n\u001b[0m",
      "\u001b[0;31mAttributeError\u001b[0m: 'float' object has no attribute 'encode'"
     ]
    }
   ],
   "source": [
    "with open(\"Headlines_2006_2016.csv\", \"w\") as file:\n",
    "    for line in matches_df.loc[:, 'Headline'].tolist():\n",
    "        file.write(line.encode('utf-8') + \"\\n\")"
   ]
  },
  {
   "cell_type": "code",
   "execution_count": null,
   "metadata": {
    "collapsed": false,
    "scrolled": false
   },
   "outputs": [],
   "source": [
    "# #Working code to read data from Kicker files\n",
    "# from os import listdir\n",
    "\n",
    "# matches_columns = ['Season', 'Gameday', 'Link', 'TeamH', 'TeamA',\n",
    "#                    'GoalsH', 'CornersH', 'ChancesH',\n",
    "#                    'GoalsA', 'CornersA', 'ChancesA', \n",
    "#                    'HGA', 'GradesH', 'AGA', 'GradesA', 'Attendance', 'Headline']\n",
    "# #matches_df = pd.DataFrame(data=None, columns=matches_columns)\n",
    "\n",
    "# # Table for goal information, can be linked through \"Link\" with game info\n",
    "# goals_columns = ['Season', 'Gameday', 'Link', 'Score', 'Minute', 'Player']\n",
    "# #goals_df = pd.DataFrame(data=None, columns=goals_columns)\n",
    "\n",
    "# # Table for Starting 11\n",
    "# lineup_columns = [\"Link\"] + [\"Home_Player\" + (\"0\" + str(i))[-2:] for i in range(1,12)] + [\"Away_Player\" + (\"0\" + str(i))[-2:] for i in range(1,12)]\n",
    "# #lineup_df = pd.DataFrame(data=None, columns=lineup_columns)\n",
    "\n",
    "# i = 0 \n",
    "\n",
    "# for filename in listdir(\"./game_reports/\"):\n",
    "#     if str(filename)[0] != \"2\":\n",
    "#         continue\n",
    "#     try:\n",
    "#         game_soup = BeautifulSoup(open(\"./game_reports/\" + filename))\n",
    "#     except:\n",
    "#         print \"Print file not found\"\n",
    "#         continue\n",
    "    \n",
    "#     game_info = str(filename).split(\"_\")[0:3]\n",
    "#     season = int(game_info[0])\n",
    "#     gameday = int(game_info[1])\n",
    "#     teams = game_info[2].split(\"-\")\n",
    "#     teams = map(int, [teams[0], teams[2]])\n",
    "\n",
    "    \n",
    "#     game_id = i\n",
    "#     i += 1\n",
    "    \n",
    "#     error_count = 0\n",
    "#     # Download lineups\n",
    "#     try:\n",
    "#         game_soup.find('table', {'class': 'tStat', 'summary': 'Vereinsliste'}).find_all('div', {'class': 'aufstellung_team'})\n",
    "#         game_soup.find('table', {'class': 'tStat', 'summary': 'Tore & Karten'}).find('div', {'class': 'tore_karten'}).find_all('div', {'class': 'kompletteZeile'})\n",
    "#         game_soup.find('div', {'class': 'sppinfo'}).find_all('div', id=['ctl00_PlaceHolderHalf_ctl03_kickerDaten', 'ctl00_PlaceHolderHalf_ctl04_kickerDaten'])\n",
    "#     except:\n",
    "#         while error_count < 3:\n",
    "#             try:\n",
    "#                 print \"Reading error. Trying to open from URL.\"\n",
    "#                 url = game_soup.find('meta', {'property': 'og:url'})\n",
    "#                 url = url.attrs['content'] \n",
    "#                 file = requests.get(url)\n",
    "#                 game_soup = BeautifulSoup(file.content, 'lxml')\n",
    "#                 filename = str(season) + \"_\"\n",
    "#                 filename += (\"0\" + str(gameday))[-2:] + \"_\" \n",
    "#                 filename += str(teams[0]) + \"-v-\" + str(teams[1])\n",
    "                    \n",
    "#                 with open(\"game_reports/\" + filename + \"_main.html\", 'w') as file:\n",
    "#                     file.write(game_soup.encode('ISO-8859-1'))\n",
    "#                 print \"Success opening from URL. File downloaded.\"    \n",
    "#                 break\n",
    "#             except:\n",
    "#                 error_count += 1\n",
    "\n",
    "                \n",
    "#     headline = game_soup.find('meta', {'property': 'og:title'}).attrs['content'] \n",
    "        \n",
    "#     team1_stats = [int(headline[-9])]\n",
    "#     team2_stats = [int(headline[-7])]\n",
    "    \n",
    "#     headline = headline.split(\":\")[0]\n",
    "    \n",
    "        \n",
    "#     if error_count < 3:\n",
    "#         both_teams = game_soup.find('table', {'class': 'tStat', 'summary': 'Vereinsliste'})\n",
    "#         lineup = []\n",
    "#         for one_team in both_teams.find_all('div', {'class': 'aufstellung_team'}):\n",
    "#             for player in one_team.find_all('a', {'class': 'link_noicon'}):\n",
    "#                 lineup.append(player.get('href').split(\"/\")[8])\n",
    "#                 # Make sure to only download the first 11, the Starting 11, for each team\n",
    "#                 if np.mod(len(lineup), 11) == 0:\n",
    "#                     break\n",
    "#         lineup = [game_id] + map(int, lineup)\n",
    "#     else:\n",
    "#         print \"Error in reading and opening for \" + game_soup.find('title').text\n",
    "#         lineup = [game_id] + [np.nan for _ in range(22)]\n",
    "\n",
    "#     lineup_df = lineup_df.append(pd.DataFrame(data=[lineup], columns=lineup_columns), ignore_index=True)\n",
    "\n",
    "    \n",
    "#     # For whatever reason, number of chances is stored in a different table. Grab this and add to list.     \n",
    "#     #sppinfo = game_soup.find('div', {'class': 'sppinfo'})\n",
    "#     for value in game_soup.find_all('div', id=['ctl00_PlaceHolderHalf_ctl03_kickerDaten', 'ctl00_PlaceHolderHalf_ctl04_kickerDaten']):\n",
    "#         corners = value.find('div', {'class': 'ecken'}).findNext('div').text.split(':')\n",
    "#         team1_stats.append(int(corners[0]))\n",
    "#         team2_stats.append(int(corners[1]))\n",
    "#         chances = value.find('div', {'class': 'chancen'}).findNext('div').text.split(':')\n",
    "#         team1_stats.append(int(chances[0]))\n",
    "#         team2_stats.append(int(chances[1]))\n",
    "\n",
    "#     # Download number of people in attendance\n",
    "#     for value in game_soup.find_all('div', id=['ctl00_PlaceHolderHalf_ctl03_zuschauer', 'ctl00_PlaceHolderHalf_ctl04_zuschauer']):\n",
    "#         attendance = value.find('div', {'class': 'wert'}).text\n",
    "#         if attendance.find('(') > 0:\n",
    "#             # \"Error\" handling if stadion is sold out\n",
    "#             attendance = attendance[0:attendance.find('(')]\n",
    "#         attendance = int(attendance.strip())\n",
    "\n",
    "\n",
    "#     grade_row = []\n",
    "#     for lineup in game_soup.find('table', {'class': 'tStat', 'summary': 'Vereinsliste'}).find_all('div', {'class': 'aufstellung_team'}):\n",
    "#         no_players = 0\n",
    "#         grade = []\n",
    "#         for player in lineup.find_all('a'):\n",
    "#             grade_raw = unicode(player.next_sibling)\n",
    "\n",
    "#             grade_del1 = unicode(grade_raw).find('(')\n",
    "#             grade_del2 = unicode(grade_raw).find(')')\n",
    "\n",
    "#             if grade_del1 == -1:\n",
    "#                 continue\n",
    "\n",
    "#             grade += [float(grade_raw[grade_del1+1:grade_del2].replace(\",\", \".\"))]\n",
    "\n",
    "#             no_players += 1\n",
    "#             if no_players == 11:\n",
    "#                 break\n",
    "#         grade_mean = np.sum(grade)/no_players\n",
    "\n",
    "#         grade_row += [grade_mean, grade]\n",
    "\n",
    "#     # Write stats for game into dataframe\n",
    "\n",
    "#     feed = [season] + [gameday] + [game_id] + teams + team1_stats + team2_stats + grade_row + [attendance] + [headline]\n",
    "#     feed += [np.nan] * (len(matches_columns) - len(feed))\n",
    "#     matches_df = matches_df.append(pd.DataFrame(data=[feed], columns=matches_columns), ignore_index=True)\n",
    "\n",
    "#     # Find the scorers in the game and download the info\n",
    "#     goal_list = []\n",
    "#     goals_cards = game_soup.find('table', {'class': 'tStat', 'summary': 'Tore & Karten'})\n",
    "#     try:\n",
    "#         goals = goals_cards.find('div', {'class': 'tore_karten'}).find_all('div', {'class': 'kompletteZeile'})\n",
    "#     except:\n",
    "#         goal_list.append([season, gameday, game_id, np.nan, np.nan, np.nan])\n",
    "#         goals_df = goals_df.append(pd.DataFrame(data=goal_list, columns=goals_columns), ignore_index=True)\n",
    "#         continue\n",
    "\n",
    "#     for goal in goals:\n",
    "#         goal_text = goal.text\n",
    "#         goal_link = goal.find('a')\n",
    "#         player = goal_link.get('href').split(\"/\")[8]\n",
    "\n",
    "#         pos = goal_text.find(\":\")\n",
    "#         score = int(goal_text[pos-1:pos])-int(goal_text[pos+1:pos+2])\n",
    "#         pos = goal_text.find(\".,\")\n",
    "#         # \"Error\" handling for when a goal is scored in overtime. Treat as 45' and 90'.\n",
    "#         if pos < 0:\n",
    "#             pos = goal_text.find(\". +\") \n",
    "#         minute = goal_text[0:pos]\n",
    "#         pos = minute.find(\"(\")\n",
    "#         minute = int(minute[pos+1:])\n",
    "\n",
    "#         goal_list.append([season, gameday, game_id, score, minute, player])\n",
    "    \n",
    "#     # If goals fell, write info into goal dataframe.    \n",
    "#     if len(goal_list) > 0:\n",
    "#         goals_df = goals_df.append(pd.DataFrame(data=goal_list, columns=goals_columns), ignore_index=True)"
   ]
  },
  {
   "cell_type": "code",
   "execution_count": 455,
   "metadata": {
    "collapsed": false
   },
   "outputs": [
    {
     "name": "stdout",
     "output_type": "stream",
     "text": [
      "2016 14\n"
     ]
    }
   ],
   "source": [
    "# # Working Code to Download all Game Reports from Kicker\n",
    "\n",
    "# for year in range(2016, 2017):\n",
    "#     for gameday in range(14,15):\n",
    "#         print year, gameday\n",
    "#         url = \"http://www.kicker.de/news/fussball/bundesliga/spieltag/1-bundesliga/\"\n",
    "#         url = url + str(year) + \"-\" + str(year+1)[2:4] + \"/\"\n",
    "#         url = url + str(gameday) + \"/0/spieltag.html\"\n",
    "\n",
    "#         website = requests.get(url)\n",
    "#         main = BeautifulSoup(website.content, 'html.parser')\n",
    "#         main_table = main.find('table', {'class': 'tStat', 'summary': 'Tabelle'})\n",
    "\n",
    "#         # Once we get to the unplayed gamedays, no table will be displayed, and the loop shall end.\n",
    "#         try:\n",
    "#             main_standings = main_table.find_all('a', {'class': 'link verinsLinkBild'})\n",
    "#         except:\n",
    "#             break\n",
    "            \n",
    "#         main_matches = main.find('table', {'class': 'tStat tab1-bundesliga', 'summary': 'Begegnungen'})\n",
    "\n",
    "#         # Find all links of class \"link.\" These refer to the game analyses.\n",
    "#         for game in main_matches.find_all('a', {'class' : 'link'}):\n",
    "#             # result = game.parent.previous_sibling.previous_sibling.text\n",
    "#             # result = map(int, result[0:result.find(\"(\")-1].split(\":\"))\n",
    "\n",
    "#             game_url = game.get('href')\n",
    "#             encoded_in_url = game_url.split(\"/\")\n",
    "\n",
    "#             # Game ID is the article ID for kicker, as unique ID for game\n",
    "#             game_id = encoded_in_url[8][0:7]\n",
    "\n",
    "#             # Game URL encodes the teams which are playing\n",
    "#             teams = encoded_in_url[9][13:-5].split(\"_\")\n",
    "#             teams = map(int, [teams[i][teams[i].rfind('-')+1:] for i in range(2)])\n",
    "\n",
    "#             # URL to open individiual games\n",
    "#             game_url = \"http://www.kicker.de\" + game_url\n",
    "\n",
    "#             error_count = 0\n",
    "#             while error_count < 3:\n",
    "#                 try:\n",
    "#                     game_file = requests.get(game_url)\n",
    "#                     game_soup = BeautifulSoup(game_file.content, 'html.parser')\n",
    "#                     filename = str(year) + \"_\"\n",
    "#                     filename += (\"0\" + str(gameday))[-2:] + \"_\" \n",
    "#                     filename += str(teams[0]) + \"-v-\" + str(teams[1])\n",
    "                    \n",
    "#                     with open(\"game_reports/\" + filename + \"_main.html\", 'w') as file:\n",
    "#                         file.write(game_soup.encode('ISO-8859-1'))\n",
    "#                         break\n",
    "#                 except:\n",
    "#                     error_count += 1\n",
    "\n",
    "#             if error_count == 3:\n",
    "#                 continue"
   ]
  },
  {
   "cell_type": "code",
   "execution_count": null,
   "metadata": {
    "collapsed": true
   },
   "outputs": [],
   "source": []
  }
 ],
 "metadata": {
  "kernelspec": {
   "display_name": "Python [Root]",
   "language": "python",
   "name": "Python [Root]"
  },
  "language_info": {
   "codemirror_mode": {
    "name": "ipython",
    "version": 2
   },
   "file_extension": ".py",
   "mimetype": "text/x-python",
   "name": "python",
   "nbconvert_exporter": "python",
   "pygments_lexer": "ipython2",
   "version": "2.7.12"
  }
 },
 "nbformat": 4,
 "nbformat_minor": 0
}
