{
 "cells": [
  {
   "cell_type": "code",
   "execution_count": 3,
   "metadata": {
    "collapsed": true
   },
   "outputs": [],
   "source": [
    "import pandas as pd\n",
    "import numpy as np\n",
    "import re\n",
    "import requests\n",
    "import time\n",
    "\n",
    "from bs4 import BeautifulSoup\n",
    "\n",
    "def moveSibling(tag, number):\n",
    "\ti = 1\n",
    "\twhile i <= number:\n",
    "\t\ttag = tag.nextSibling\n",
    "\t\ti += 1\n",
    "\treturn tag\n",
    "\n",
    "# "
   ]
  },
  {
   "cell_type": "code",
   "execution_count": 128,
   "metadata": {
    "collapsed": false
   },
   "outputs": [],
   "source": [
    "columns_dl = 'Date', 'HomeTeam', 'AwayTeam', 'FTHG', 'FTAG', 'FTR', 'HTHG', 'HTAG', 'HTR', 'HS', 'AS', 'HST', 'AST', 'HF', 'AF', 'HC', 'AC', 'HY', 'AY', 'HR', 'AR', 'B365H', 'B365D', 'B365A'\n",
    "downloaded_df = pd.DataFrame(data=None, columns=columns_dl)"
   ]
  },
  {
   "cell_type": "code",
   "execution_count": 129,
   "metadata": {
    "collapsed": false
   },
   "outputs": [],
   "source": [
    "for year in range(2006, 2017):\n",
    "    y1 = str(year)[2:]\n",
    "    y2 = str(year+1)[2:]\n",
    "    url = \"http://www.football-data.co.uk/mmz4281/\" + y1 + y2 + \"/D1.csv\"\n",
    "    df = pd.read_csv(url)\n",
    "    df = df.loc[:, columns_dl]\n",
    "    downloaded_df = downloaded_df.append(df)"
   ]
  },
  {
   "cell_type": "code",
   "execution_count": 132,
   "metadata": {
    "collapsed": false
   },
   "outputs": [],
   "source": [
    "seasonlist = [2006 + (i+1)/(9*34) for i in range(len(downloaded_df))]\n",
    "gamedaylist = [1 + np.mod(i/9,34) for i in range(len(downloaded_df))]"
   ]
  },
  {
   "cell_type": "code",
   "execution_count": 133,
   "metadata": {
    "collapsed": false
   },
   "outputs": [],
   "source": [
    "downloaded_df.loc[:, \"Season\"] = seasonlist\n",
    "downloaded_df.loc[:, \"Gameday\"] = gamedaylist"
   ]
  },
  {
   "cell_type": "code",
   "execution_count": 134,
   "metadata": {
    "collapsed": false
   },
   "outputs": [],
   "source": [
    "teamlist = downloaded_df.loc[:, \"HomeTeam\"].unique()\n",
    "data = np.array([range(len(teamlist)), teamlist]).T\n",
    "team_df = pd.DataFrame(data=data, columns=['TID', 'team'])"
   ]
  },
  {
   "cell_type": "code",
   "execution_count": 135,
   "metadata": {
    "collapsed": false
   },
   "outputs": [],
   "source": [
    "cleaned_df = pd.merge(team_df, downloaded_df, how='inner', left_on='team', right_on='HomeTeam')\n",
    "cleaned_df = pd.merge(team_df, cleaned_df, how='inner', left_on='team', right_on='AwayTeam', suffixes=('_A', '_H'))\n",
    "\n",
    "columns_cl = ['Season', 'Gameday', 'TID_H', 'TID_A', 'FTHG', 'FTAG', 'FTR', 'HTHG', 'HTAG', 'HTR', 'HS', 'AS', 'HST', 'AST', 'HF', 'AF', 'HC', 'AC', 'HY', 'AY', 'HR', 'AR', 'B365H', 'B365D', 'B365A']\n",
    "cleaned_df = cleaned_df.loc[:, columns_cl].sort_values(['Season', 'Gameday'])\n",
    "cleaned_df.index = range(len(cleaned_df))\n",
    "\n",
    "cleaned_df.to_csv('Bundesliga_Data_2006_2016.csv', index=False)"
   ]
  }
 ],
 "metadata": {
  "kernelspec": {
   "display_name": "Python 2",
   "language": "python",
   "name": "python2"
  },
  "language_info": {
   "codemirror_mode": {
    "name": "ipython",
    "version": 2
   },
   "file_extension": ".py",
   "mimetype": "text/x-python",
   "name": "python",
   "nbconvert_exporter": "python",
   "pygments_lexer": "ipython2",
   "version": "2.7.12"
  }
 },
 "nbformat": 4,
 "nbformat_minor": 0
}
