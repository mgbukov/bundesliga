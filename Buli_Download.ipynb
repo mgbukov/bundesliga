{
 "cells": [
  {
   "cell_type": "code",
   "execution_count": 294,
   "metadata": {
    "collapsed": true
   },
   "outputs": [],
   "source": [
    "import pandas as pd\n",
    "import numpy as np\n",
    "import re\n",
    "import requests\n",
    "import time\n",
    "\n",
    "from bs4 import BeautifulSoup\n",
    "\n",
    "def moveSibling(tag, number):\n",
    "\ti = 1\n",
    "\twhile i <= number:\n",
    "\t\ttag = tag.nextSibling\n",
    "\t\ti += 1\n",
    "\treturn tag\n",
    "\n",
    "from matplotlib import pyplot\n",
    "%matplotlib inline"
   ]
  },
  {
   "cell_type": "code",
   "execution_count": 2,
   "metadata": {
    "collapsed": false
   },
   "outputs": [],
   "source": [
    "columns_dl = 'Date', 'HomeTeam', 'AwayTeam', 'FTHG', 'FTAG', 'FTR', 'HTHG', 'HTAG', 'HTR', 'HS', 'AS', 'HST', 'AST', 'HF', 'AF', 'HC', 'AC', 'HY', 'AY', 'HR', 'AR', 'B365H', 'B365D', 'B365A'\n",
    "downloaded_df = pd.DataFrame(data=None, columns=columns_dl)"
   ]
  },
  {
   "cell_type": "code",
   "execution_count": 3,
   "metadata": {
    "collapsed": false
   },
   "outputs": [],
   "source": [
    "for year in range(2006, 2017):\n",
    "    y1 = str(year)[2:]\n",
    "    y2 = str(year+1)[2:]\n",
    "    url = \"http://www.football-data.co.uk/mmz4281/\" + y1 + y2 + \"/D1.csv\"\n",
    "    df = pd.read_csv(url)\n",
    "    df = df.loc[:, columns_dl]\n",
    "    downloaded_df = downloaded_df.append(df)"
   ]
  },
  {
   "cell_type": "code",
   "execution_count": 4,
   "metadata": {
    "collapsed": false
   },
   "outputs": [],
   "source": [
    "seasonlist = [2006 + (i+1)/(9*34) for i in range(len(downloaded_df))]\n",
    "gamedaylist = [1 + np.mod(i/9,34) for i in range(len(downloaded_df))]"
   ]
  },
  {
   "cell_type": "code",
   "execution_count": 5,
   "metadata": {
    "collapsed": false
   },
   "outputs": [],
   "source": [
    "downloaded_df.loc[:, \"Season\"] = seasonlist\n",
    "downloaded_df.loc[:, \"Gameday\"] = gamedaylist"
   ]
  },
  {
   "cell_type": "code",
   "execution_count": 6,
   "metadata": {
    "collapsed": false
   },
   "outputs": [],
   "source": [
    "teamlist = downloaded_df.loc[:, \"HomeTeam\"].unique()\n",
    "data = np.array([range(len(teamlist)), teamlist]).T\n",
    "team_df = pd.DataFrame(data=data, columns=['TID', 'team'])"
   ]
  },
  {
   "cell_type": "code",
   "execution_count": 7,
   "metadata": {
    "collapsed": false
   },
   "outputs": [],
   "source": [
    "cleaned_df = pd.merge(team_df, downloaded_df, how='inner', left_on='team', right_on='HomeTeam')\n",
    "cleaned_df = pd.merge(team_df, cleaned_df, how='inner', left_on='team', right_on='AwayTeam', suffixes=('_A', '_H'))\n",
    "\n",
    "columns_cl = ['Season', 'Gameday', 'TID_H', 'TID_A', 'FTHG', 'FTAG', 'FTR', 'HTHG', 'HTAG', 'HTR', 'HS', 'AS', 'HST', 'AST', 'HF', 'AF', 'HC', 'AC', 'HY', 'AY', 'HR', 'AR', 'B365H', 'B365D', 'B365A']\n",
    "cleaned_df = cleaned_df.loc[:, columns_cl].sort_values(['Season', 'Gameday'])\n",
    "cleaned_df.index = range(len(cleaned_df))\n",
    "\n",
    "cleaned_df.to_csv('Bundesliga_Data_2006_2016.csv', index=False)\n",
    "team_df = team_df.set_index('TID')"
   ]
  },
  {
   "cell_type": "code",
   "execution_count": 16,
   "metadata": {
    "collapsed": false,
    "scrolled": false
   },
   "outputs": [
    {
     "name": "stdout",
     "output_type": "stream",
     "text": [
      "Import Successful\n"
     ]
    },
    {
     "data": {
      "text/html": [
       "<div>\n",
       "<table border=\"1\" class=\"dataframe\">\n",
       "  <thead>\n",
       "    <tr style=\"text-align: right;\">\n",
       "      <th></th>\n",
       "      <th>Season</th>\n",
       "      <th>Gameday</th>\n",
       "      <th>KID</th>\n",
       "      <th>GradeAvg</th>\n",
       "    </tr>\n",
       "  </thead>\n",
       "  <tbody>\n",
       "    <tr>\n",
       "      <th>0</th>\n",
       "      <td>2005</td>\n",
       "      <td>1</td>\n",
       "      <td>14</td>\n",
       "      <td>3.136364</td>\n",
       "    </tr>\n",
       "    <tr>\n",
       "      <th>1</th>\n",
       "      <td>2005</td>\n",
       "      <td>1</td>\n",
       "      <td>15</td>\n",
       "      <td>4.045455</td>\n",
       "    </tr>\n",
       "    <tr>\n",
       "      <th>2</th>\n",
       "      <td>2005</td>\n",
       "      <td>1</td>\n",
       "      <td>16</td>\n",
       "      <td>3.636364</td>\n",
       "    </tr>\n",
       "    <tr>\n",
       "      <th>3</th>\n",
       "      <td>2005</td>\n",
       "      <td>1</td>\n",
       "      <td>30</td>\n",
       "      <td>3.863636</td>\n",
       "    </tr>\n",
       "    <tr>\n",
       "      <th>4</th>\n",
       "      <td>2005</td>\n",
       "      <td>1</td>\n",
       "      <td>1</td>\n",
       "      <td>3.181818</td>\n",
       "    </tr>\n",
       "  </tbody>\n",
       "</table>\n",
       "</div>"
      ],
      "text/plain": [
       "   Season  Gameday  KID  GradeAvg\n",
       "0    2005        1   14  3.136364\n",
       "1    2005        1   15  4.045455\n",
       "2    2005        1   16  3.636364\n",
       "3    2005        1   30  3.863636\n",
       "4    2005        1    1  3.181818"
      ]
     },
     "execution_count": 16,
     "metadata": {},
     "output_type": "execute_result"
    }
   ],
   "source": [
    "try:\n",
    "    kicker_grades_df = pd.read_csv('Grades_2005_2016.csv')\n",
    "except:\n",
    "    if input('Re-download? yes?') == 'yes':\n",
    "        grade_row = []\n",
    "        for year in range(2005, 2017):\n",
    "            for gameday in range(1,35):\n",
    "                print year, gameday\n",
    "                url = \"http://www.kicker.de/news/fussball/bundesliga/spieltag/1-bundesliga/\"\n",
    "                url = url + str(year) + \"-\" + str(year+1)[2:4] + \"/\"\n",
    "                url = url + str(gameday) + \"/0/spieltag.html\"\n",
    "\n",
    "                website = requests.get(url)\n",
    "                main = BeautifulSoup(website.content, 'html.parser')\n",
    "                main_table = main.find('table', {'class': 'tStat', 'summary': 'Tabelle'})\n",
    "\n",
    "                # Once we get to the unplayed gamedays, no table will be displayed, and the loop shall end.\n",
    "                try:\n",
    "                    main_standings = main_table.find_all('a', {'class': 'link verinsLinkBild'})\n",
    "                except:\n",
    "                    break\n",
    "\n",
    "                # If we didn't break, proceed as usual.\n",
    "\n",
    "                main_matches = main.find('table', {'class': 'tStat tab1-bundesliga', 'summary': 'Begegnungen'})\n",
    "\n",
    "                # Find all links of class \"link.\" These refer to the game analyses.\n",
    "                for game in main_matches.find_all('a', {'class' : 'link'}):\n",
    "                    # result = game.parent.previous_sibling.previous_sibling.text\n",
    "                    # result = map(int, result[0:result.find(\"(\")-1].split(\":\"))\n",
    "\n",
    "                    game_url = game.get('href')\n",
    "                    encoded_in_url = game_url.split(\"/\")\n",
    "\n",
    "                    # Game ID is the article ID for kicker, as unique ID for game\n",
    "                    game_id = encoded_in_url[8][0:7]\n",
    "\n",
    "                    # Game URL encodes the teams which are playing\n",
    "                    teams = encoded_in_url[9][13:-5].split(\"_\")\n",
    "                    teams = map(int, [teams[i][teams[i].rfind('-')+1:] for i in range(2)])\n",
    "\n",
    "                    # URL to open individiual games\n",
    "                    game_url = \"http://www.kicker.de\" + game_url\n",
    "                    error_count = 0\n",
    "                    while error_count < 10:\n",
    "                        try:\n",
    "                            game_file = requests.get(game_url)\n",
    "                            game_soup = BeautifulSoup(game_file.content, 'html.parser')\n",
    "                            game_soup.find('table', {'class': 'tStat', 'summary': 'Vereinsliste'}).find_all('div', {'class': 'aufstellung_team'})\n",
    "                            break\n",
    "                        except:\n",
    "                            error_count += 1\n",
    "\n",
    "                    if error_count == 10:\n",
    "                        continue\n",
    "\n",
    "                    i = 0\n",
    "                    for lineup in game_soup.find('table', {'class': 'tStat', 'summary': 'Vereinsliste'}).find_all('div', {'class': 'aufstellung_team'}):\n",
    "                        no_players = 0\n",
    "                        grade = 0.\n",
    "                        for player in lineup.find_all('a'):\n",
    "                            grade_raw = unicode(player.next_sibling)\n",
    "\n",
    "                            grade_del1 = unicode(grade_raw).find('(')\n",
    "                            grade_del2 = unicode(grade_raw).find(')')\n",
    "\n",
    "                            if grade_del1 == -1:\n",
    "                                continue\n",
    "\n",
    "                            grade += float(grade_raw[grade_del1+1:grade_del2].replace(\",\", \".\"))\n",
    "\n",
    "                            no_players += 1\n",
    "                            if no_players == 11:\n",
    "                                break\n",
    "                        grade = grade/no_players\n",
    "\n",
    "                        grade_row += [[year, gameday, teams[np.mod(i,2)], grade]]\n",
    "                        i += 1\n",
    "    else:\n",
    "        \"Doing nothing. No df loaded.\"\n",
    "\n",
    "try:\n",
    "    kicker_grades_df = kicker_grades_df.drop('Unnamed: 0', axis=1)\n",
    "except:\n",
    "    print \"Import Successful\"\n",
    "\n",
    "kicker_grades_df.head()"
   ]
  },
  {
   "cell_type": "code",
   "execution_count": 17,
   "metadata": {
    "collapsed": false
   },
   "outputs": [],
   "source": [
    "kicker_grades_df.to_csv('Grades_2005_2016.csv', index=False)"
   ]
  },
  {
   "cell_type": "code",
   "execution_count": 64,
   "metadata": {
    "collapsed": false
   },
   "outputs": [],
   "source": [
    "team_list = []\n",
    "for year in range(2005,2017):\n",
    "    url = 'http://www.kicker.de/news/fussball/bundesliga/vereine/1-bundesliga/'\n",
    "    url += str(year) + '-' + str(year+1)[-2:]\n",
    "    url += '/vereine-liste.html'\n",
    "\n",
    "    website = requests.get(url)\n",
    "    main = BeautifulSoup(website.content, 'html.parser')\n",
    "    for team in main.find_all('a', {'class': 'link verinsLinkBild'}):\n",
    "        team_name_id = team.get('href').split('/')[7]\n",
    "        team_name = team_name_id[0:team_name_id.rfind(\"-\")]\n",
    "        team_id = team_name_id[team_name_id.rfind(\"-\")+1:]\n",
    "        team_list += [[int(team_id), team_name]]\n",
    "    "
   ]
  },
  {
   "cell_type": "code",
   "execution_count": 73,
   "metadata": {
    "collapsed": false
   },
   "outputs": [],
   "source": [
    "kicker_team_df = pd.DataFrame(data=team_list, columns=['KID', 'KName'])\n",
    "kicker_team_df = kicker_team_df.drop_duplicates().set_index('KID')"
   ]
  },
  {
   "cell_type": "code",
   "execution_count": 18,
   "metadata": {
    "collapsed": false,
    "scrolled": true
   },
   "outputs": [
    {
     "data": {
      "text/html": [
       "<div>\n",
       "<table border=\"1\" class=\"dataframe\">\n",
       "  <thead>\n",
       "    <tr style=\"text-align: right;\">\n",
       "      <th></th>\n",
       "      <th>TID</th>\n",
       "      <th>KID</th>\n",
       "      <th>TName</th>\n",
       "    </tr>\n",
       "  </thead>\n",
       "  <tbody>\n",
       "    <tr>\n",
       "      <th>0</th>\n",
       "      <td>0</td>\n",
       "      <td>14</td>\n",
       "      <td>Bayern Munich</td>\n",
       "    </tr>\n",
       "    <tr>\n",
       "      <th>1</th>\n",
       "      <td>1</td>\n",
       "      <td>12</td>\n",
       "      <td>Hamburg</td>\n",
       "    </tr>\n",
       "    <tr>\n",
       "      <th>2</th>\n",
       "      <td>2</td>\n",
       "      <td>9</td>\n",
       "      <td>Leverkusen</td>\n",
       "    </tr>\n",
       "    <tr>\n",
       "      <th>3</th>\n",
       "      <td>3</td>\n",
       "      <td>30</td>\n",
       "      <td>Mainz</td>\n",
       "    </tr>\n",
       "    <tr>\n",
       "      <th>4</th>\n",
       "      <td>4</td>\n",
       "      <td>15</td>\n",
       "      <td>M'gladbach</td>\n",
       "    </tr>\n",
       "  </tbody>\n",
       "</table>\n",
       "</div>"
      ],
      "text/plain": [
       "   TID  KID           TName\n",
       "0    0   14   Bayern Munich\n",
       "1    1   12         Hamburg\n",
       "2    2    9      Leverkusen\n",
       "3    3   30           Mainz\n",
       "4    4   15      M'gladbach"
      ]
     },
     "execution_count": 18,
     "metadata": {},
     "output_type": "execute_result"
    }
   ],
   "source": [
    "key_df = pd.read_csv('Team_ID_hardcoded.csv')\n",
    "key_df.head()"
   ]
  },
  {
   "cell_type": "code",
   "execution_count": 282,
   "metadata": {
    "collapsed": false,
    "scrolled": true
   },
   "outputs": [
    {
     "name": "stdout",
     "output_type": "stream",
     "text": [
      "0.027272727272\n",
      "0.845454545454\n"
     ]
    }
   ],
   "source": [
    "def rescale_grade(x):\n",
    "    return 1 - (x-1.)/5\n",
    "\n",
    "grades_df = kicker_grades_df.merge(key_df, how='left', left_on='KID', right_on='KID').loc[:, ('Season', 'Gameday','TID', 'GradeAvg')]\n",
    "grades_df = grades_df.set_index(['TID', 'Season', 'Gameday']).sort_index()\n",
    "grades_df = grades_df.apply(rescale_grade)\n",
    "\n",
    "print grades_df.loc[:, 'GradeAvg'].min()\n",
    "print grades_df.loc[:, 'GradeAvg'].max()"
   ]
  },
  {
   "cell_type": "code",
   "execution_count": 380,
   "metadata": {
    "collapsed": false
   },
   "outputs": [
    {
     "data": {
      "text/html": [
       "<div>\n",
       "<table border=\"1\" class=\"dataframe\">\n",
       "  <thead>\n",
       "    <tr style=\"text-align: right;\">\n",
       "      <th></th>\n",
       "      <th>Season</th>\n",
       "      <th>Gameday</th>\n",
       "      <th>TID_H</th>\n",
       "      <th>TID_A</th>\n",
       "      <th>FTHG</th>\n",
       "      <th>FTAG</th>\n",
       "      <th>FTR</th>\n",
       "      <th>HTHG</th>\n",
       "      <th>HTAG</th>\n",
       "      <th>HTR</th>\n",
       "      <th>...</th>\n",
       "      <th>HR</th>\n",
       "      <th>AR</th>\n",
       "      <th>B365H</th>\n",
       "      <th>B365D</th>\n",
       "      <th>B365A</th>\n",
       "      <th>HGA</th>\n",
       "      <th>AGA</th>\n",
       "      <th>FTGD</th>\n",
       "      <th>HTGD</th>\n",
       "      <th>Odds</th>\n",
       "    </tr>\n",
       "  </thead>\n",
       "  <tbody>\n",
       "    <tr>\n",
       "      <th>0</th>\n",
       "      <td>2006</td>\n",
       "      <td>1</td>\n",
       "      <td>6</td>\n",
       "      <td>9</td>\n",
       "      <td>0.0</td>\n",
       "      <td>3.0</td>\n",
       "      <td>0.0</td>\n",
       "      <td>0.0</td>\n",
       "      <td>2.0</td>\n",
       "      <td>0.0</td>\n",
       "      <td>...</td>\n",
       "      <td>0.0</td>\n",
       "      <td>0.0</td>\n",
       "      <td>2.00</td>\n",
       "      <td>3.2</td>\n",
       "      <td>3.75</td>\n",
       "      <td>0.309091</td>\n",
       "      <td>0.727273</td>\n",
       "      <td>-3.0</td>\n",
       "      <td>-2.0</td>\n",
       "      <td>0.656250</td>\n",
       "    </tr>\n",
       "    <tr>\n",
       "      <th>1</th>\n",
       "      <td>2006</td>\n",
       "      <td>1</td>\n",
       "      <td>2</td>\n",
       "      <td>10</td>\n",
       "      <td>3.0</td>\n",
       "      <td>0.0</td>\n",
       "      <td>1.0</td>\n",
       "      <td>2.0</td>\n",
       "      <td>0.0</td>\n",
       "      <td>1.0</td>\n",
       "      <td>...</td>\n",
       "      <td>1.0</td>\n",
       "      <td>1.0</td>\n",
       "      <td>1.44</td>\n",
       "      <td>4.0</td>\n",
       "      <td>7.50</td>\n",
       "      <td>0.654545</td>\n",
       "      <td>0.300000</td>\n",
       "      <td>3.0</td>\n",
       "      <td>2.0</td>\n",
       "      <td>0.819444</td>\n",
       "    </tr>\n",
       "    <tr>\n",
       "      <th>2</th>\n",
       "      <td>2006</td>\n",
       "      <td>1</td>\n",
       "      <td>4</td>\n",
       "      <td>11</td>\n",
       "      <td>2.0</td>\n",
       "      <td>0.0</td>\n",
       "      <td>1.0</td>\n",
       "      <td>0.0</td>\n",
       "      <td>0.0</td>\n",
       "      <td>0.5</td>\n",
       "      <td>...</td>\n",
       "      <td>0.0</td>\n",
       "      <td>1.0</td>\n",
       "      <td>1.61</td>\n",
       "      <td>3.6</td>\n",
       "      <td>5.50</td>\n",
       "      <td>0.545455</td>\n",
       "      <td>0.427273</td>\n",
       "      <td>2.0</td>\n",
       "      <td>0.0</td>\n",
       "      <td>0.760007</td>\n",
       "    </tr>\n",
       "    <tr>\n",
       "      <th>3</th>\n",
       "      <td>2006</td>\n",
       "      <td>1</td>\n",
       "      <td>0</td>\n",
       "      <td>12</td>\n",
       "      <td>2.0</td>\n",
       "      <td>0.0</td>\n",
       "      <td>1.0</td>\n",
       "      <td>1.0</td>\n",
       "      <td>0.0</td>\n",
       "      <td>1.0</td>\n",
       "      <td>...</td>\n",
       "      <td>0.0</td>\n",
       "      <td>0.0</td>\n",
       "      <td>1.57</td>\n",
       "      <td>3.6</td>\n",
       "      <td>6.00</td>\n",
       "      <td>0.654545</td>\n",
       "      <td>0.381818</td>\n",
       "      <td>2.0</td>\n",
       "      <td>1.0</td>\n",
       "      <td>0.775832</td>\n",
       "    </tr>\n",
       "    <tr>\n",
       "      <th>4</th>\n",
       "      <td>2006</td>\n",
       "      <td>1</td>\n",
       "      <td>5</td>\n",
       "      <td>13</td>\n",
       "      <td>1.0</td>\n",
       "      <td>1.0</td>\n",
       "      <td>0.5</td>\n",
       "      <td>1.0</td>\n",
       "      <td>0.0</td>\n",
       "      <td>1.0</td>\n",
       "      <td>...</td>\n",
       "      <td>0.0</td>\n",
       "      <td>0.0</td>\n",
       "      <td>1.44</td>\n",
       "      <td>4.0</td>\n",
       "      <td>7.50</td>\n",
       "      <td>0.581818</td>\n",
       "      <td>0.363636</td>\n",
       "      <td>0.0</td>\n",
       "      <td>1.0</td>\n",
       "      <td>0.819444</td>\n",
       "    </tr>\n",
       "  </tbody>\n",
       "</table>\n",
       "<p>5 rows × 30 columns</p>\n",
       "</div>"
      ],
      "text/plain": [
       "   Season  Gameday  TID_H  TID_A  FTHG  FTAG  FTR  HTHG  HTAG  HTR    ...     \\\n",
       "0    2006        1      6      9   0.0   3.0  0.0   0.0   2.0  0.0    ...      \n",
       "1    2006        1      2     10   3.0   0.0  1.0   2.0   0.0  1.0    ...      \n",
       "2    2006        1      4     11   2.0   0.0  1.0   0.0   0.0  0.5    ...      \n",
       "3    2006        1      0     12   2.0   0.0  1.0   1.0   0.0  1.0    ...      \n",
       "4    2006        1      5     13   1.0   1.0  0.5   1.0   0.0  1.0    ...      \n",
       "\n",
       "    HR   AR  B365H  B365D  B365A       HGA       AGA  FTGD  HTGD      Odds  \n",
       "0  0.0  0.0   2.00    3.2   3.75  0.309091  0.727273  -3.0  -2.0  0.656250  \n",
       "1  1.0  1.0   1.44    4.0   7.50  0.654545  0.300000   3.0   2.0  0.819444  \n",
       "2  0.0  1.0   1.61    3.6   5.50  0.545455  0.427273   2.0   0.0  0.760007  \n",
       "3  0.0  0.0   1.57    3.6   6.00  0.654545  0.381818   2.0   1.0  0.775832  \n",
       "4  0.0  0.0   1.44    4.0   7.50  0.581818  0.363636   0.0   1.0  0.819444  \n",
       "\n",
       "[5 rows x 30 columns]"
      ]
     },
     "execution_count": 380,
     "metadata": {},
     "output_type": "execute_result"
    }
   ],
   "source": [
    "complete_df = cleaned_df.merge(grades_df, how='inner', left_on=['TID_H', 'Season', 'Gameday'], right_index=True)\n",
    "complete_df = complete_df.merge(grades_df, how='inner', left_on=['TID_A', 'Season', 'Gameday'], right_index=True)\n",
    "\n",
    "complete_df = complete_df.rename(columns={'GradeAvg_x': 'HGA', 'GradeAvg_y': 'AGA'})\n",
    "complete_df = complete_df.replace({'H':1, 'D':0.5, 'A':0})\n",
    "complete_df.loc[:, 'FTGD'] = complete_df.loc[:, 'FTHG'] - complete_df.loc[:, 'FTAG']\n",
    "complete_df.loc[:, 'HTGD'] = complete_df.loc[:, 'HTHG'] - complete_df.loc[:, 'HTAG']\n",
    "\n",
    "complete_df.loc[:, 'Odds'] = (complete_df.filter(regex='^B365').apply(inverse)*(1,0.5,0)).apply(np.sum, axis=1)\n",
    "\n",
    "complete_df.head()"
   ]
  },
  {
   "cell_type": "code",
   "execution_count": 381,
   "metadata": {
    "collapsed": false
   },
   "outputs": [],
   "source": [
    "def inverse(x):\n",
    "    return 1./x\n",
    "def points(x):\n",
    "    if x > 0:\n",
    "        return 1\n",
    "    elif x == 0:\n",
    "        return 1./3\n",
    "    else:\n",
    "        return 0"
   ]
  },
  {
   "cell_type": "code",
   "execution_count": 382,
   "metadata": {
    "collapsed": false,
    "scrolled": true
   },
   "outputs": [],
   "source": [
    "multi_index = pd.MultiIndex(levels=[[],[],[]],\n",
    "                             labels=[[],[],[]],\n",
    "                             names=[u'TID', u'Season', u'Gameday'])\n",
    "running_df = pd.DataFrame(data=None, columns=['Points'], index=multi_index)\n",
    "\n",
    "for tid in range(len(key_df)):\n",
    "    query = 'TID_H == ' + str(tid)\n",
    "    temp_H = complete_df.query(query).loc[:, ['TID_H', 'Season', 'Gameday', 'FTHG', 'FTAG']]\n",
    "    temp_H.loc[:, 'Gameday'] += 1\n",
    "    temp_H.loc[:, 'GD'] = temp_H.loc[:, 'FTHG'] - temp_H.loc[:, 'FTAG']\n",
    "    temp_H = temp_H.set_index(['TID_H', 'Season', 'Gameday'])\n",
    "\n",
    "    query = 'TID_A == ' + str(tid)\n",
    "    temp_A = complete_df.query(query).loc[:, ['TID_A', 'Season', 'Gameday', 'FTHG', 'FTAG']]\n",
    "    temp_A.loc[:, 'Gameday'] += 1\n",
    "    temp_A.loc[:, 'GD'] = - temp_A.loc[:, 'FTHG'] + temp_A.loc[:, 'FTAG']\n",
    "    temp_A = temp_A.set_index(['TID_A', 'Season', 'Gameday'])\n",
    "\n",
    "    temp = pd.concat([temp_H, temp_A]).sort_index()\n",
    "    temp.index = temp.index.rename(['TID', 'Season', 'Gameday'])\n",
    "    temp = temp.loc[:, 'GD'].apply(points).rename('Points').to_frame()\n",
    "    \n",
    "    running_df = running_df.append(temp.groupby(level=['TID', 'Season'], group_keys=False).rolling(3).mean())\n",
    "\n"
   ]
  },
  {
   "cell_type": "code",
   "execution_count": 383,
   "metadata": {
    "collapsed": false,
    "scrolled": true
   },
   "outputs": [
    {
     "data": {
      "text/plain": [
       "3174"
      ]
     },
     "execution_count": 383,
     "metadata": {},
     "output_type": "execute_result"
    }
   ],
   "source": [
    "running_df.to_csv('Running_Points_2006_2013.csv')\n",
    "len(running_df)/2"
   ]
  },
  {
   "cell_type": "code",
   "execution_count": 385,
   "metadata": {
    "collapsed": false,
    "scrolled": true
   },
   "outputs": [],
   "source": [
    "complete_running_df = complete_df.merge(running_df, how='left', left_on=['TID_H', 'Season', 'Gameday'], right_index=True)\n",
    "complete_running_df = complete_running_df.merge(running_df, how='left', left_on=['TID_A', 'Season', 'Gameday'], right_index=True)\n",
    "\n",
    "complete_running_df = complete_running_df.rename(columns={'Points_x': 'HP3', 'Points_y': 'AP3'}).filter(regex='^(?!B365)')\n",
    "complete_running_df = complete_running_df.drop(['FTAG', 'FTR','HTAG', 'HTR'], axis=1)\n",
    "\n",
    "complete_running_df = complete_running_df.drop_duplicates(['Season', 'Gameday', 'TID_H', 'TID_A'])"
   ]
  },
  {
   "cell_type": "code",
   "execution_count": 388,
   "metadata": {
    "collapsed": false
   },
   "outputs": [
    {
     "data": {
      "text/plain": [
       "3174"
      ]
     },
     "execution_count": 388,
     "metadata": {},
     "output_type": "execute_result"
    }
   ],
   "source": [
    "complete_running_df.to_csv('All_Data_2006_2016.csv')\n",
    "len(complete_running_df)"
   ]
  },
  {
   "cell_type": "code",
   "execution_count": 387,
   "metadata": {
    "collapsed": false
   },
   "outputs": [
    {
     "data": {
      "text/plain": [
       "<matplotlib.axes._subplots.AxesSubplot at 0x11c839b50>"
      ]
     },
     "execution_count": 387,
     "metadata": {},
     "output_type": "execute_result"
    },
    {
     "data": {
      "image/png": "[encoded data removed]",
      "text/plain": [
       "<matplotlib.figure.Figure at 0x11e3fb350>"
      ]
     },
     "metadata": {},
     "output_type": "display_data"
    },
    {
     "data": {
      "image/png": "[encoded data removed]",
      "text/plain": [
       "<matplotlib.figure.Figure at 0x11884fe10>"
      ]
     },
     "metadata": {},
     "output_type": "display_data"
    }
   ],
   "source": [
    "# complete_df.plot(kind='scatter', x='HGA', y='FTGD')\n",
    "# complete_df.plot(kind='scatter', x='AGA', y='FTGD')\n",
    "complete_running_df.plot.hexbin(x='HGA', y='AGA', gridsize=20)\n",
    "complete_running_df.plot.hexbin(x='HGA', y='AGA', C='Odds', gridsize=20)"
   ]
  },
  {
   "cell_type": "code",
   "execution_count": null,
   "metadata": {
    "collapsed": true
   },
   "outputs": [],
   "source": []
  },
  {
   "cell_type": "code",
   "execution_count": null,
   "metadata": {
    "collapsed": true
   },
   "outputs": [],
   "source": []
  }
 ],
 "metadata": {
  "kernelspec": {
   "display_name": "Python [Root]",
   "language": "python",
   "name": "Python [Root]"
  },
  "language_info": {
   "codemirror_mode": {
    "name": "ipython",
    "version": 2
   },
   "file_extension": ".py",
   "mimetype": "text/x-python",
   "name": "python",
   "nbconvert_exporter": "python",
   "pygments_lexer": "ipython2",
   "version": "2.7.12"
  }
 },
 "nbformat": 4,
 "nbformat_minor": 0
}
